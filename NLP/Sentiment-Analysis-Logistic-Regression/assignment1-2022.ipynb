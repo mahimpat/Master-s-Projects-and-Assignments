{
 "cells": [
  {
   "cell_type": "markdown",
   "metadata": {},
   "source": [
    "# [COM6513] Assignment 1: Sentiment Analysis with Logistic Regression\n",
    "\n",
    "### Instructor: Nikos Aletras\n",
    "\n",
    "\n",
    "The goal of this assignment is to develop and test a **text classification** system for **sentiment analysis**, in particular to predict the sentiment of movie reviews, i.e. positive or negative (binary classification).\n",
    "\n",
    "\n",
    "\n",
    "For that purpose, you will implement:\n",
    "\n",
    "\n",
    "- Text processing methods for extracting Bag-Of-Word features, using \n",
    "    - n-grams (BOW), i.e. unigrams, bigrams and trigrams to obtain vector representations of documents where n=1,2,3 respectively. Two vector weighting schemes should be tested: (1) raw frequencies (**1 mark**); (2) tf.idf (**1 mark**). \n",
    "    - character n-grams (BOCN). A character n-gram is a contiguous sequence of characters given a word, e.g. for n=2, 'coffee' is split into {'co', 'of', 'ff', 'fe', 'ee'}. Two vector weighting schemes should be tested: (1) raw frequencies (**1 mark**); (2) tf.idf (**1 mark**). **Tip: Note the large vocabulary size!** \n",
    "    - a combination of the two vector spaces (n-grams and character n-grams) choosing your best performing wighting respectively (i.e. raw or tfidf). (**1 mark**) **Tip: you should merge the two representations**\n",
    "\n",
    "\n",
    "\n",
    "- Binary Logistic Regression (LR) classifiers that will be able to accurately classify movie reviews trained with: \n",
    "    - (1) BOW-count (raw frequencies) \n",
    "    - (2) BOW-tfidf (tf.idf weighted)\n",
    "    - (3) BOCN-count\n",
    "    - (4) BOCN-tfidf\n",
    "    - (5) BOW+BOCN (best performing weighting; raw or tfidf)\n",
    "\n",
    "\n",
    "\n",
    "- The Stochastic Gradient Descent (SGD) algorithm to estimate the parameters of your Logistic Regression models. Your SGD algorithm should:\n",
    "    - Minimise the Binary Cross-entropy loss function (**1 mark**)\n",
    "    - Use L2 regularisation (**1 mark**)\n",
    "    - Perform multiple passes (epochs) over the training data (**1 mark**)\n",
    "    - Randomise the order of training data after each pass (**1 mark**)\n",
    "    - Stop training if the difference between the current and previous development loss is smaller than a threshold (**1 mark**)\n",
    "    - After each epoch print the training and development loss (**1 mark**)\n",
    "\n",
    "\n",
    "\n",
    "- Discuss how did you choose hyperparameters (e.g. learning rate and regularisation strength) for each LR model? You should use a table showing model performance using different set of hyperparameter values. (**2 marks). **Tip: Instead of using all possible combinations, you could perform a random sampling of combinations.**\n",
    "\n",
    "\n",
    "- After training each LR model, plot the learning process (i.e. training and validation loss in each epoch) using a line plot. Does your model underfit, overfit or is it about right? Explain why. (**1 mark**). \n",
    "\n",
    "\n",
    "- Identify and show the most important features (model interpretability) for each class (i.e. top-10 most positive and top-10 negative weights). Give the top 10 for each class and comment on whether they make sense (if they don't you might have a bug!). If you were to apply the classifier into a different domain such laptop reviews or restaurant reviews, do you think these features would generalise well? Can you propose what features the classifier could pick up as important in the new domain? (**2 marks**)\n",
    "\n",
    "\n",
    "- Provide well documented and commented code describing all of your choices. In general, you are free to make decisions about text processing (e.g. punctuation, numbers, vocabulary size) and hyperparameter values. We expect to see justifications and discussion for all of your choices (**2 marks**). \n",
    "\n",
    "\n",
    "- Provide efficient solutions by using Numpy arrays when possible (you can find tips in Lab 1 sheet). Executing the whole notebook with your code should not take more than 5 minutes on a any standard computer (e.g. Intel Core i5 CPU, 8 or 16GB RAM) excluding hyperparameter tuning runs (**2 marks**). \n",
    "\n",
    "\n",
    "\n",
    "\n",
    "\n",
    "\n",
    "### Data \n",
    "\n",
    "The data you will use are taken from here: [http://www.cs.cornell.edu/people/pabo/movie-review-data/](http://www.cs.cornell.edu/people/pabo/movie-review-data/) and you can find it in the `./data_sentiment` folder in CSV format:\n",
    "\n",
    "- `data_sentiment/train.csv`: contains 1,400 reviews, 700 positive (label: 1) and 700 negative (label: 0) to be used for training.\n",
    "- `data_sentiment/dev.csv`: contains 200 reviews, 100 positive and 100 negative to be used for hyperparameter selection and monitoring the training process.\n",
    "- `data_sentiment/test.csv`: contains 400 reviews, 200 positive and 200 negative to be used for testing.\n",
    "\n",
    "\n",
    "\n",
    "\n",
    "### Submission Instructions\n",
    "\n",
    "You should submit a Jupyter Notebook file (assignment1.ipynb) and an exported PDF version (you can do it from Jupyter: `File->Download as->PDF via Latex` or you can print it as PDF using your browser).\n",
    "\n",
    "You are advised to follow the code structure given in this notebook by completing all given funtions. You can also write any auxilliary/helper functions (and arguments for the functions) that you might need but note that you can provide a full solution without any such functions. Similarly, you can just use only the packages imported below but you are free to use any functionality from the [Python Standard Library](https://docs.python.org/2/library/index.html), NumPy, SciPy (excluding built-in softmax funtcions) and Pandas. You are not allowed to use any third-party library such as Scikit-learn (apart from metric functions already provided), NLTK, Spacy, Keras etc.. \n",
    "\n",
    "There is no single correct answer on what your accuracy should be, but correct implementations usually achieve F1-scores around 80\\% or higher. The quality of the analysis of the results is as important as the accuracy itself. \n",
    "\n",
    "This assignment will be marked out of 20. It is worth 20\\% of your final grade in the module.\n",
    "\n",
    "The deadline for this assignment is **23:59 on Mon, 14 Mar 2022** and it needs to be submitted via Blackboard. Standard departmental penalties for lateness will be applied. We use a range of strategies to **detect [unfair means](https://www.sheffield.ac.uk/ssid/unfair-means/index)**, including Turnitin which helps detect plagiarism. Use of unfair means would result in getting a failing grade.\n",
    "\n"
   ]
  },
  {
   "cell_type": "code",
   "execution_count": 156,
   "metadata": {},
   "outputs": [],
   "source": [
    "!export PATH=/Library/TeX/texbin:$PATH\n"
   ]
  },
  {
   "cell_type": "code",
   "execution_count": 8,
   "metadata": {
    "ExecuteTime": {
     "end_time": "2020-03-27T13:41:17.642162Z",
     "start_time": "2020-03-27T13:41:16.891940Z"
    }
   },
   "outputs": [],
   "source": [
    "import pandas as pd\n",
    "import numpy as np\n",
    "from collections import Counter\n",
    "import re\n",
    "import matplotlib.pyplot as plt\n",
    "from sklearn.metrics import accuracy_score, precision_score, recall_score, f1_score\n",
    "import random\n",
    "\n",
    "# fixing random seed for reproducibility\n",
    "random.seed(123)\n",
    "np.random.seed(123)\n"
   ]
  },
  {
   "cell_type": "markdown",
   "metadata": {},
   "source": [
    "## Load Raw texts and labels into arrays\n",
    "\n",
    "First, you need to load the training, development and test sets from their corresponding CSV files (tip: you can use Pandas dataframes)."
   ]
  },
  {
   "cell_type": "code",
   "execution_count": 9,
   "metadata": {
    "ExecuteTime": {
     "end_time": "2020-02-15T14:17:28.145788Z",
     "start_time": "2020-02-15T14:17:28.066100Z"
    }
   },
   "outputs": [],
   "source": [
    "#load data into dataframe using pandas\n",
    "train_data = pd.read_csv('data_sentiment/train.csv',header=None)\n",
    "\n",
    "train_data.columns=['raw_text','label']\n",
    "\n",
    "test_data = pd.read_csv('data_sentiment/test.csv',header=None)\n",
    "\n",
    "test_data.columns=['raw_text','label']\n",
    "\n",
    "dev_data = pd.read_csv('data_sentiment/dev.csv',header=None)\n",
    "\n",
    "dev_data.columns=['raw_text','label']\n"
   ]
  },
  {
   "cell_type": "code",
   "execution_count": 10,
   "metadata": {},
   "outputs": [
    {
     "data": {
      "text/html": [
       "<div>\n",
       "<style scoped>\n",
       "    .dataframe tbody tr th:only-of-type {\n",
       "        vertical-align: middle;\n",
       "    }\n",
       "\n",
       "    .dataframe tbody tr th {\n",
       "        vertical-align: top;\n",
       "    }\n",
       "\n",
       "    .dataframe thead th {\n",
       "        text-align: right;\n",
       "    }\n",
       "</style>\n",
       "<table border=\"1\" class=\"dataframe\">\n",
       "  <thead>\n",
       "    <tr style=\"text-align: right;\">\n",
       "      <th></th>\n",
       "      <th>raw_text</th>\n",
       "      <th>label</th>\n",
       "    </tr>\n",
       "  </thead>\n",
       "  <tbody>\n",
       "    <tr>\n",
       "      <th>0</th>\n",
       "      <td>note : some may consider portions of the follo...</td>\n",
       "      <td>1</td>\n",
       "    </tr>\n",
       "    <tr>\n",
       "      <th>1</th>\n",
       "      <td>note : some may consider portions of the follo...</td>\n",
       "      <td>1</td>\n",
       "    </tr>\n",
       "    <tr>\n",
       "      <th>2</th>\n",
       "      <td>every once in a while you see a film that is s...</td>\n",
       "      <td>1</td>\n",
       "    </tr>\n",
       "    <tr>\n",
       "      <th>3</th>\n",
       "      <td>when i was growing up in 1970s , boys in my sc...</td>\n",
       "      <td>1</td>\n",
       "    </tr>\n",
       "    <tr>\n",
       "      <th>4</th>\n",
       "      <td>the muppet movie is the first , and the best m...</td>\n",
       "      <td>1</td>\n",
       "    </tr>\n",
       "  </tbody>\n",
       "</table>\n",
       "</div>"
      ],
      "text/plain": [
       "                                            raw_text  label\n",
       "0  note : some may consider portions of the follo...      1\n",
       "1  note : some may consider portions of the follo...      1\n",
       "2  every once in a while you see a film that is s...      1\n",
       "3  when i was growing up in 1970s , boys in my sc...      1\n",
       "4  the muppet movie is the first , and the best m...      1"
      ]
     },
     "execution_count": 10,
     "metadata": {},
     "output_type": "execute_result"
    }
   ],
   "source": [
    "train_data.head()"
   ]
  },
  {
   "cell_type": "code",
   "execution_count": 11,
   "metadata": {
    "scrolled": true
   },
   "outputs": [
    {
     "data": {
      "text/html": [
       "<div>\n",
       "<style scoped>\n",
       "    .dataframe tbody tr th:only-of-type {\n",
       "        vertical-align: middle;\n",
       "    }\n",
       "\n",
       "    .dataframe tbody tr th {\n",
       "        vertical-align: top;\n",
       "    }\n",
       "\n",
       "    .dataframe thead th {\n",
       "        text-align: right;\n",
       "    }\n",
       "</style>\n",
       "<table border=\"1\" class=\"dataframe\">\n",
       "  <thead>\n",
       "    <tr style=\"text-align: right;\">\n",
       "      <th></th>\n",
       "      <th>raw_text</th>\n",
       "      <th>label</th>\n",
       "    </tr>\n",
       "  </thead>\n",
       "  <tbody>\n",
       "    <tr>\n",
       "      <th>0</th>\n",
       "      <td>wild things is a suspenseful thriller starring...</td>\n",
       "      <td>1</td>\n",
       "    </tr>\n",
       "    <tr>\n",
       "      <th>1</th>\n",
       "      <td>i know it already opened in december , but i f...</td>\n",
       "      <td>1</td>\n",
       "    </tr>\n",
       "    <tr>\n",
       "      <th>2</th>\n",
       "      <td>what's shocking about \" carlito's way \" is how...</td>\n",
       "      <td>1</td>\n",
       "    </tr>\n",
       "    <tr>\n",
       "      <th>3</th>\n",
       "      <td>uncompromising french director robert bresson'...</td>\n",
       "      <td>1</td>\n",
       "    </tr>\n",
       "    <tr>\n",
       "      <th>4</th>\n",
       "      <td>aggressive , bleak , and unrelenting film abou...</td>\n",
       "      <td>1</td>\n",
       "    </tr>\n",
       "  </tbody>\n",
       "</table>\n",
       "</div>"
      ],
      "text/plain": [
       "                                            raw_text  label\n",
       "0  wild things is a suspenseful thriller starring...      1\n",
       "1  i know it already opened in december , but i f...      1\n",
       "2  what's shocking about \" carlito's way \" is how...      1\n",
       "3  uncompromising french director robert bresson'...      1\n",
       "4  aggressive , bleak , and unrelenting film abou...      1"
      ]
     },
     "execution_count": 11,
     "metadata": {},
     "output_type": "execute_result"
    }
   ],
   "source": [
    "test_data.head()"
   ]
  },
  {
   "cell_type": "code",
   "execution_count": 12,
   "metadata": {},
   "outputs": [
    {
     "data": {
      "text/html": [
       "<div>\n",
       "<style scoped>\n",
       "    .dataframe tbody tr th:only-of-type {\n",
       "        vertical-align: middle;\n",
       "    }\n",
       "\n",
       "    .dataframe tbody tr th {\n",
       "        vertical-align: top;\n",
       "    }\n",
       "\n",
       "    .dataframe thead th {\n",
       "        text-align: right;\n",
       "    }\n",
       "</style>\n",
       "<table border=\"1\" class=\"dataframe\">\n",
       "  <thead>\n",
       "    <tr style=\"text-align: right;\">\n",
       "      <th></th>\n",
       "      <th>raw_text</th>\n",
       "      <th>label</th>\n",
       "    </tr>\n",
       "  </thead>\n",
       "  <tbody>\n",
       "    <tr>\n",
       "      <th>0</th>\n",
       "      <td>if he doesn=92t watch out , mel gibson is in d...</td>\n",
       "      <td>1</td>\n",
       "    </tr>\n",
       "    <tr>\n",
       "      <th>1</th>\n",
       "      <td>wong kar-wei's \" fallen angels \" is , on a pur...</td>\n",
       "      <td>1</td>\n",
       "    </tr>\n",
       "    <tr>\n",
       "      <th>2</th>\n",
       "      <td>there is nothing like american history x in th...</td>\n",
       "      <td>1</td>\n",
       "    </tr>\n",
       "    <tr>\n",
       "      <th>3</th>\n",
       "      <td>an unhappy italian housewife , a lonely waiter...</td>\n",
       "      <td>1</td>\n",
       "    </tr>\n",
       "    <tr>\n",
       "      <th>4</th>\n",
       "      <td>when people are talking about good old times ,...</td>\n",
       "      <td>1</td>\n",
       "    </tr>\n",
       "  </tbody>\n",
       "</table>\n",
       "</div>"
      ],
      "text/plain": [
       "                                            raw_text  label\n",
       "0  if he doesn=92t watch out , mel gibson is in d...      1\n",
       "1  wong kar-wei's \" fallen angels \" is , on a pur...      1\n",
       "2  there is nothing like american history x in th...      1\n",
       "3  an unhappy italian housewife , a lonely waiter...      1\n",
       "4  when people are talking about good old times ,...      1"
      ]
     },
     "execution_count": 12,
     "metadata": {},
     "output_type": "execute_result"
    }
   ],
   "source": [
    "dev_data.head()"
   ]
  },
  {
   "cell_type": "markdown",
   "metadata": {},
   "source": [
    "If you use Pandas you can see a sample of the data."
   ]
  },
  {
   "cell_type": "markdown",
   "metadata": {},
   "source": [
    "The next step is to put the raw texts into Python lists and their corresponding labels into NumPy arrays:\n"
   ]
  },
  {
   "cell_type": "code",
   "execution_count": 13,
   "metadata": {
    "ExecuteTime": {
     "end_time": "2020-02-15T14:17:31.115577Z",
     "start_time": "2020-02-15T14:17:31.108038Z"
    }
   },
   "outputs": [],
   "source": [
    "#converting the data to list and labels to numpy array\n",
    "\n",
    "train_text = train_data['raw_text'].tolist()\n",
    "train_labels = train_data['label'].to_numpy()\n",
    "test_text = test_data['raw_text'].tolist()\n",
    "test_labels = test_data['label'].to_numpy()\n",
    "dev_text = dev_data['raw_text'].tolist()\n",
    "dev_labels = dev_data['label'].to_numpy()\n"
   ]
  },
  {
   "cell_type": "markdown",
   "metadata": {},
   "source": [
    "# Vector Representations of Text \n",
    "\n",
    "\n",
    "To train and test Logisitc Regression models, you first need to obtain vector representations for all documents given a vocabulary of features (unigrams, bigrams, trigrams).\n",
    "\n",
    "\n",
    "## Text Pre-Processing Pipeline\n",
    "\n",
    "To obtain a vocabulary of features, you should: \n",
    "- tokenise all texts into a list of unigrams (tip: using a regular expression) \n",
    "- remove stop words (using the one provided or one of your preference) \n",
    "- compute bigrams, trigrams given the remaining unigrams (or character ngrams from the unigrams)\n",
    "- remove ngrams appearing in less than K documents\n",
    "- use the remaining to create a vocabulary of unigrams, bigrams and trigrams (or character n-grams). You can keep top N if you encounter memory issues.\n"
   ]
  },
  {
   "cell_type": "code",
   "execution_count": 14,
   "metadata": {
    "ExecuteTime": {
     "end_time": "2020-02-15T14:17:31.860420Z",
     "start_time": "2020-02-15T14:17:31.855439Z"
    }
   },
   "outputs": [],
   "source": [
    "stop_words = ['a','in','on','at','and','or', \n",
    "              'to', 'the', 'of', 'an', 'by', \n",
    "              'as', 'is', 'was', 'were', 'been', 'be', \n",
    "              'are','for', 'this', 'that', 'these', 'those', 'you', 'i',\n",
    "             'it', 'he', 'she', 'we', 'they', 'will', 'have', 'has',\n",
    "              'do', 'did', 'can', 'could', 'who', 'which', 'what', \n",
    "             'his', 'her', 'they', 'them', 'from', 'with', 'its']"
   ]
  },
  {
   "cell_type": "code",
   "execution_count": 15,
   "metadata": {},
   "outputs": [],
   "source": [
    "#Train Data preprocessing\n",
    "x_raw_train=[]\n",
    "x_raw_test=[]\n",
    "x_raw_dev=[]\n",
    "x_raw_train_char=[]\n",
    "x_raw_test_char=[]\n",
    "x_raw_dev_char=[]\n",
    "for i in range(0,len(train_data)):\n",
    "    y=train_data['raw_text'][i]\n",
    "#replace special characters with space for word ngrams\n",
    "    x_raw = re.sub(r'[^a-zA-Z0-9\\s]', ' ', y)\n",
    "#just remove \\ symbol because it has no meaning (i have left the other special characters as \n",
    "#they have some meaning in char ngrams)\n",
    "    x_raw_char = re.sub(r'\\+','',y)\n",
    "    x_raw_train_char.append(x_raw_char)\n",
    "#replace mulitple spaces with single space for word ngrams\n",
    "    x_raw_t = re.sub(r' +',' ',x_raw)\n",
    "    x_raw_train.append(x_raw_t)\n",
    "   \n",
    "\n",
    "\n",
    " #Dev Data preprocessing\n",
    "for i in range(0,len(dev_data)):\n",
    "    y=dev_data['raw_text'][i]\n",
    "\n",
    "#replace special characters with space\n",
    "    x_raw = re.sub(r'[^a-zA-Z0-9\\s]', ' ', y)\n",
    "#just remove \\ symbol because it has no meaning (i have left the other special characters as \n",
    "#they have some meaning in char ngrams)\n",
    "    x_raw_char = re.sub(r'\\+','',y)\n",
    "    x_raw_test_char.append(x_raw_char)\n",
    "#replace mulitple spaces with single space\n",
    "    x_raw_d = re.sub(r' +',' ',x_raw)\n",
    "    x_raw_dev.append(x_raw_d)\n",
    "\n",
    "    \n",
    "    \n",
    "#test Data preprocessing\n",
    "for i in range(0,len(test_data)):\n",
    "    y=test_data['raw_text'][i]\n",
    "\n",
    "#replace special characters with space\n",
    "    x_raw = re.sub(r'[^a-zA-Z0-9\\s]', ' ', y)\n",
    "#just remove \\ symbol because it has no meaning (i have left the other special characters as \n",
    "#they have some meaning in char ngrams)\n",
    "    x_raw_char = re.sub(r'\\+','',y)\n",
    "    x_raw_dev_char.append(x_raw_char)\n",
    "#replace mulitple spaces with single space\n",
    "    x_raw_t = re.sub(r' +',' ',x_raw)\n",
    "    x_raw_test.append(x_raw_t)\n"
   ]
  },
  {
   "cell_type": "markdown",
   "metadata": {},
   "source": [
    "### N-gram extraction from a document\n",
    "\n",
    "You first need to implement the `extract_ngrams` function. It takes as input:\n",
    "- `x_raw`: a string corresponding to the raw text of a document\n",
    "- `ngram_range`: a tuple of two integers denoting the type of ngrams you want to extract, e.g. (1,2) denotes extracting unigrams and bigrams.\n",
    "- `token_pattern`: a string to be used within a regular expression to extract all tokens. Note that data is already tokenised so you could opt for a simple white space tokenisation.\n",
    "- `stop_words`: a list of stop words\n",
    "- `vocab`: a given vocabulary. It should be used to extract specific features.\n",
    "- `char_ngrams`: boolean. If true the function extracts character n-grams\n",
    "\n",
    "and returns:\n",
    "\n",
    "- `x': a list of all extracted features.\n",
    "\n",
    "See the examples below to see how this function should work."
   ]
  },
  {
   "cell_type": "code",
   "execution_count": 16,
   "metadata": {
    "ExecuteTime": {
     "end_time": "2020-02-15T14:17:33.169090Z",
     "start_time": "2020-02-15T14:17:33.161268Z"
    }
   },
   "outputs": [],
   "source": [
    "def extract_ngrams(x_raw, ngram_range=(1,3), token_pattern=r' ', \n",
    "                   stop_words=[], vocab=set(), char_ngrams=False):\n",
    "    #convert to lowercase\n",
    "    x_raw = x_raw.lower()\n",
    "    tokens=[]\n",
    "    tokens_new=[]\n",
    "    tuple_list=[]\n",
    "    new_token_list=[]\n",
    "    sep=' '\n",
    "  \n",
    "    \n",
    "    #Extract character ngrams \n",
    "    if char_ngrams==True:\n",
    "        \n",
    "        x_raw =re.sub(r' +','',x_raw) \n",
    "        for i in range(ngram_range[0],ngram_range[1]+1):\n",
    "            tokens.extend(x_raw[z:z+i] for z in range(len(x_raw)-i+1))\n",
    "        extracted_ngrams=tokens\n",
    "        \n",
    "    #Extract word ngrams\n",
    "    else:\n",
    "        tokens = [token for token in x_raw.split(token_pattern) if token != \"\"]\n",
    "    \n",
    "        x_raw_new = [word for word in tokens if word not in stop_words]\n",
    "\n",
    "        for i in range(ngram_range[0],ngram_range[1]+1):\n",
    "            tokens_new.extend(x_raw_new[z:z+i] for z in range(len(x_raw_new)-i+1))\n",
    "\n",
    "        for i in tokens_new:\n",
    "            tuple_list.append(tuple(i))\n",
    "        extracted_ngrams=tuple_list\n",
    "        \n",
    "    #return extracted ngrams from given vocabulary or return the full list of ngrams\n",
    "    return [ngram for ngram in extracted_ngrams if ngram in vocab] if vocab else extracted_ngrams\n",
    "    \n",
    "    \n",
    "\n",
    "\n"
   ]
  },
  {
   "cell_type": "markdown",
   "metadata": {},
   "source": [
    "Note that it is OK to represent n-grams using lists instead of tuples: e.g. `['great', ['great', 'movie']]`"
   ]
  },
  {
   "cell_type": "markdown",
   "metadata": {},
   "source": [
    "For extracting character n-grams the function should work as follows:"
   ]
  },
  {
   "cell_type": "code",
   "execution_count": null,
   "metadata": {},
   "outputs": [],
   "source": [
    "z=extract_ngrams(x_raw_test[0],\n",
    "               ngram_range=(1,3),\n",
    "               stop_words=stop_words,\n",
    "                vocab=train_vocab,\n",
    "               char_ngrams=False)"
   ]
  },
  {
   "cell_type": "code",
   "execution_count": 12,
   "metadata": {},
   "outputs": [],
   "source": [
    "t=extract_ngrams(\"-- movie\", \n",
    "               ngram_range=(2,4), \n",
    "               stop_words=[],\n",
    "                 vocab=set(),\n",
    "               char_ngrams=True)"
   ]
  },
  {
   "cell_type": "code",
   "execution_count": 13,
   "metadata": {},
   "outputs": [
    {
     "data": {
      "text/plain": [
       "['--',\n",
       " '- ',\n",
       " ' m',\n",
       " 'mo',\n",
       " 'ov',\n",
       " 'vi',\n",
       " 'ie',\n",
       " '-- ',\n",
       " '- m',\n",
       " ' mo',\n",
       " 'mov',\n",
       " 'ovi',\n",
       " 'vie',\n",
       " '-- m',\n",
       " '- mo',\n",
       " ' mov',\n",
       " 'movi',\n",
       " 'ovie']"
      ]
     },
     "execution_count": 13,
     "metadata": {},
     "output_type": "execute_result"
    }
   ],
   "source": [
    "t"
   ]
  },
  {
   "cell_type": "markdown",
   "metadata": {},
   "source": [
    "### Create a vocabulary \n",
    "\n",
    "The `get_vocab` function will be used to (1) create a vocabulary of ngrams; (2) count the document frequencies of ngrams; (3) their raw frequency. It takes as input:\n",
    "- `X_raw`: a list of strings each corresponding to the raw text of a document\n",
    "- `ngram_range`: a tuple of two integers denoting the type of ngrams you want to extract, e.g. (1,2) denotes extracting unigrams and bigrams.\n",
    "- `token_pattern`: a string to be used within a regular expression to extract all tokens. Note that data is already tokenised so you could opt for a simple white space tokenisation.\n",
    "- `stop_words`: a list of stop words\n",
    "- `min_df`: keep ngrams with a minimum document frequency.\n",
    "- `keep_topN`: keep top-N more frequent ngrams.\n",
    "\n",
    "and returns:\n",
    "\n",
    "- `vocab`: a set of the n-grams that will be used as features.\n",
    "- `df`: a Counter (or dict) that contains ngrams as keys and their corresponding document frequency as values.\n",
    "- `ngram_counts`: counts of each ngram in vocab\n",
    "\n",
    "Hint: it should make use of the `extract_ngrams` function."
   ]
  },
  {
   "cell_type": "code",
   "execution_count": 1,
   "metadata": {
    "ExecuteTime": {
     "end_time": "2020-02-15T14:17:35.821240Z",
     "start_time": "2020-02-15T14:17:35.814722Z"
    }
   },
   "outputs": [],
   "source": [
    "def get_vocab(X_raw, ngram_range=(1,3), token_pattern=r' ', \n",
    "              min_df=0, keep_topN=0, \n",
    "              stop_words=[],char_ngrams=False):\n",
    "    \n",
    "    df = Counter()\n",
    "    ngram_counter = Counter()\n",
    "    #iterate over the whole list of documents\n",
    "    for doc in X_raw:\n",
    "        vocab_list = extract_ngrams(doc,ngram_range=ngram_range,stop_words=stop_words,vocab=set(),char_ngrams=char_ngrams)\n",
    "        #vocab=vocab_list\n",
    "        \n",
    "    \n",
    "        #calculate document frequency of ngram using counter\n",
    "        df.update(vocab_list)\n",
    "\n",
    "        #calculate count of each ngram in vocab\n",
    "        ngram_counter.update(ngram for ngram in vocab_list if df[ngram]>=min_df)\n",
    "        \n",
    "        #Get topN ngrams\n",
    "        vocab_temp=ngram_counter.most_common(keep_topN)\n",
    "        \n",
    "        #create a set of vocabulary of all top N ngrams \n",
    "        vocab = {i[0] for i in vocab_temp}\n",
    "        \n",
    "    \n",
    "    #return vocabulary, document frequency, ngram count\n",
    "    return vocab, df, ngram_counter"
   ]
  },
  {
   "cell_type": "markdown",
   "metadata": {},
   "source": [
    "Now you should use `get_vocab` to create your vocabulary and get document and raw frequencies of n-grams:"
   ]
  },
  {
   "cell_type": "code",
   "execution_count": 18,
   "metadata": {
    "ExecuteTime": {
     "end_time": "2020-02-15T14:17:39.319793Z",
     "start_time": "2020-02-15T14:17:36.836545Z"
    }
   },
   "outputs": [],
   "source": [
    "train_vocab,train_df,train_ngram_counts = get_vocab(x_raw_train,ngram_range=(1,3),stop_words=stop_words,min_df=1,keep_topN=10000,char_ngrams=False)\n",
    "_,dev_df, _ = get_vocab(x_raw_dev, keep_topN=10000)\n",
    "_,test_df, _ = get_vocab(x_raw_test, keep_topN=10000)"
   ]
  },
  {
   "cell_type": "markdown",
   "metadata": {},
   "source": [
    "create vocab and get document frequencies for char n-grams"
   ]
  },
  {
   "cell_type": "code",
   "execution_count": 19,
   "metadata": {},
   "outputs": [],
   "source": [
    "train_char_vocab,train_char_df,train_char_counts = get_vocab(x_raw_train_char,ngram_range=(2,6),stop_words=stop_words,min_df=5,keep_topN=10000,char_ngrams=True)\n",
    "_,dev_char_df, _ = get_vocab(x_raw_dev_char, keep_topN=10000,char_ngrams=True)\n",
    "_,test_char_df, _ = get_vocab(x_raw_test_char, keep_topN=10000,char_ngrams=True)"
   ]
  },
  {
   "cell_type": "markdown",
   "metadata": {},
   "source": [
    "Then, you need to create 2 dictionaries: (1) vocabulary id -> word; and  (2) word -> vocabulary id so you can use them for reference:\n",
    "\n",
    "i have created another 2 dictionaries that have vocabulary id->chars; and chars-> vocabulary id"
   ]
  },
  {
   "cell_type": "code",
   "execution_count": 20,
   "metadata": {},
   "outputs": [],
   "source": [
    "#function returns 2 dictionaries with vocab_id -> word and word -> vocab_id \n",
    "def vocab2word(vocab):\n",
    "    v2w={}\n",
    "    w2v={}\n",
    "    for idx,word in enumerate(vocab):\n",
    "        v2w[idx]=word\n",
    "        w2v[word]=idx\n",
    "    #print(v2w)\n",
    "    \n",
    "    return v2w,w2v"
   ]
  },
  {
   "cell_type": "code",
   "execution_count": 21,
   "metadata": {
    "ExecuteTime": {
     "end_time": "2020-02-15T14:17:39.326811Z",
     "start_time": "2020-02-15T14:17:39.322256Z"
    }
   },
   "outputs": [],
   "source": [
    "vocab_word = dict()\n",
    "word_vocab = dict()\n",
    "vocab_char={}\n",
    "char_vocab={}\n",
    "\n",
    "vocab_word,word_vocab =vocab2word(train_vocab)\n",
    "vocab_char,char_vocab =vocab2word(train_char_vocab)\n",
    "\n",
    "\n",
    "\n",
    "\n"
   ]
  },
  {
   "cell_type": "markdown",
   "metadata": {},
   "source": [
    "Now you should be able to extract n-grams for each text in the training, development and test sets:"
   ]
  },
  {
   "cell_type": "code",
   "execution_count": 22,
   "metadata": {
    "ExecuteTime": {
     "end_time": "2020-02-15T14:17:40.213253Z",
     "start_time": "2020-02-15T14:17:39.329147Z"
    }
   },
   "outputs": [],
   "source": [
    "train_ngrams_list=[]\n",
    "train_char_list=[]\n",
    "test_ngrams_list=[]\n",
    "test_char_list=[]\n",
    "dev_ngrams_list=[]\n",
    "dev_char_list=[]\n",
    "for doc in x_raw_train:\n",
    "    train_ngrams_list.append(extract_ngrams(doc,ngram_range=(1,3),token_pattern=r' ',stop_words=stop_words,vocab=train_vocab,char_ngrams=False))\n",
    "    train_char_list.append(extract_ngrams(doc,ngram_range=(2,6),token_pattern=r' ',stop_words=stop_words,vocab=train_char_vocab,char_ngrams=True))\n",
    "for doc in x_raw_test:\n",
    "    test_ngrams_list.append(extract_ngrams(doc,ngram_range=(1,3),token_pattern=r' ',stop_words=stop_words,vocab=train_vocab,char_ngrams=False))\n",
    "    test_char_list.append(extract_ngrams(doc,ngram_range=(2,6),token_pattern=r' ',stop_words=stop_words,vocab=train_char_vocab,char_ngrams=True))\n",
    "for doc in x_raw_dev:\n",
    "    dev_ngrams_list.append(extract_ngrams(doc,ngram_range=(1,3),token_pattern=r' ',stop_words=stop_words,vocab=train_vocab,char_ngrams=False))\n",
    "    dev_char_list.append(extract_ngrams(doc,ngram_range=(2,6),token_pattern=r' ',stop_words=stop_words,vocab=train_char_vocab,char_ngrams=True))\n",
    "\n",
    "\n",
    "    \n",
    "                           "
   ]
  },
  {
   "cell_type": "markdown",
   "metadata": {},
   "source": [
    "## Vectorise documents "
   ]
  },
  {
   "cell_type": "markdown",
   "metadata": {},
   "source": [
    "Next, write a function `vectoriser` to obtain Bag-of-ngram representations for a list of documents. The function should take as input:\n",
    "- `X_ngram`: a list of texts (documents), where each text is represented as list of n-grams in the `vocab`\n",
    "- `vocab`: a set of n-grams to be used for representing the documents\n",
    "\n",
    "and return:\n",
    "- `X_vec`: an array with dimensionality Nx|vocab| where N is the number of documents and |vocab| is the size of the vocabulary. Each element of the array should represent the frequency of a given n-gram in a document.\n"
   ]
  },
  {
   "cell_type": "code",
   "execution_count": 23,
   "metadata": {
    "ExecuteTime": {
     "end_time": "2020-02-15T14:17:40.219201Z",
     "start_time": "2020-02-15T14:17:40.215129Z"
    }
   },
   "outputs": [],
   "source": [
    "def vectorise(X_ngram, vocab ):\n",
    "    final_vector=[]\n",
    "    print('number of documents',len(X_ngram))\n",
    "    \n",
    "    #iterate through the list of ngrams_list\n",
    "    for doc_ngram in X_ngram:\n",
    "        #use counter to get count of vocab word if present in document\n",
    "        count = Counter(doc_ngram)\n",
    "        temp_vector=[]\n",
    "        for ngram in vocab:\n",
    "            temp_vector.extend([count[ngram]])\n",
    "        final_vector.append(temp_vector)\n",
    "    X_vec = np.array(final_vector)\n",
    "    return X_vec\n",
    "    \n",
    "    \n",
    "    \n"
   ]
  },
  {
   "cell_type": "markdown",
   "metadata": {},
   "source": [
    "Finally, use `vectorise` to obtain document vectors for each document in the train, development and test set. You should extract both count and tf.idf vectors respectively:"
   ]
  },
  {
   "cell_type": "markdown",
   "metadata": {},
   "source": [
    "#### Count vectors"
   ]
  },
  {
   "cell_type": "code",
   "execution_count": 24,
   "metadata": {
    "ExecuteTime": {
     "end_time": "2020-02-15T14:17:41.999574Z",
     "start_time": "2020-02-15T14:17:40.376534Z"
    }
   },
   "outputs": [
    {
     "name": "stdout",
     "output_type": "stream",
     "text": [
      "number of documents 1400\n",
      "number of documents 1400\n",
      "number of documents 400\n",
      "number of documents 400\n",
      "number of documents 200\n",
      "number of documents 200\n"
     ]
    }
   ],
   "source": [
    "#create \n",
    "train_count_vector = vectorise(train_ngrams_list,train_vocab)\n",
    "train_char_count_vector = vectorise(train_char_list,train_char_vocab)\n",
    "test_count_vector = vectorise(test_ngrams_list,train_vocab)\n",
    "test_char_count_vector = vectorise(test_char_list,train_char_vocab)\n",
    "dev_count_vector = vectorise(dev_ngrams_list,train_vocab)\n",
    "dev_char_count_vector = vectorise(dev_char_list,train_char_vocab)"
   ]
  },
  {
   "cell_type": "code",
   "execution_count": 25,
   "metadata": {},
   "outputs": [
    {
     "name": "stdout",
     "output_type": "stream",
     "text": [
      "shape of train data vector - (1400, 10000)  shape of test data vector - (400, 10000) \n",
      "shape of validation data vector - (200, 10000)\n"
     ]
    }
   ],
   "source": [
    "print(\"shape of train data vector -\",train_count_vector.shape,\" shape of test data vector -\",test_count_vector.shape,\"\\nshape of validation data vector -\",dev_count_vector.shape)"
   ]
  },
  {
   "cell_type": "markdown",
   "metadata": {},
   "source": [
    "#### TF.IDF vectors\n",
    "\n",
    "First compute `idfs` an array containing inverted document frequencies (Note: its elements should correspond to your `vocab`)"
   ]
  },
  {
   "cell_type": "code",
   "execution_count": 26,
   "metadata": {
    "ExecuteTime": {
     "end_time": "2020-02-15T14:17:42.022692Z",
     "start_time": "2020-02-15T14:17:42.012315Z"
    }
   },
   "outputs": [],
   "source": [
    "#compute the IDF of training,test and validation set of BOW\n",
    "\n",
    "temp_arr=[]\n",
    "temp_arr2=[]\n",
    "temp_arr3=[]\n",
    "for v in train_vocab:\n",
    "    temp_arr.append(np.log10(len(x_raw_train)/(train_df[v]+1)))\n",
    "    temp_arr2.append(np.log10(len(x_raw_test)/(test_df[v]+1)))\n",
    "    temp_arr3.append(np.log10(len(x_raw_dev)/(dev_df[v]+1)))\n",
    "\n",
    "\n",
    "train_idf=np.array(temp_arr)\n",
    "test_idf = np.array(temp_arr2)\n",
    "dev_idf = np.array(temp_arr3)\n",
    "\n",
    "#compute the IDF of training,test and validation set of BOCN\n",
    "temp_arr=[]\n",
    "temp_arr2=[]\n",
    "temp_arr3=[]\n",
    "for v in train_char_vocab:\n",
    "    temp_arr.append(np.log10(len(x_raw_train)/(train_char_df[v]+1)))\n",
    "    temp_arr2.append(np.log10(len(x_raw_test)/(test_char_df[v]+1)))\n",
    "    temp_arr3.append(np.log10(len(x_raw_dev)/(dev_char_df[v]+1)))\n",
    "\n",
    "train_char_idf=np.array(temp_arr)\n",
    "test_char_idf = np.array(temp_arr2)\n",
    "dev_char_idf = np.array(temp_arr3)\n",
    "\n",
    "\n",
    "\n"
   ]
  },
  {
   "cell_type": "markdown",
   "metadata": {},
   "source": [
    "### i have decided to do use smoothing to avoid division by zero in cases"
   ]
  },
  {
   "cell_type": "markdown",
   "metadata": {},
   "source": [
    "Then transform your count vectors to tf.idf vectors:"
   ]
  },
  {
   "cell_type": "code",
   "execution_count": 27,
   "metadata": {
    "scrolled": true
   },
   "outputs": [],
   "source": [
    "train_tf_idf = np.log10(1+train_count_vector) * train_idf\n",
    "test_tf_idf = np.log10(1+test_count_vector) * test_idf\n",
    "dev_tf_idf = np.log10(1+dev_count_vector) * dev_idf\n",
    "\n",
    "train_char_tf_idf = np.log10(1+train_char_count_vector) * train_char_idf\n",
    "test_char_tf_idf = np.log10(1+test_char_count_vector) * test_char_idf\n",
    "dev_char_tf_idf = np.log10(1+dev_char_count_vector) * dev_char_idf"
   ]
  },
  {
   "cell_type": "code",
   "execution_count": 28,
   "metadata": {},
   "outputs": [
    {
     "data": {
      "text/plain": [
       "(1400, 10000)"
      ]
     },
     "execution_count": 28,
     "metadata": {},
     "output_type": "execute_result"
    }
   ],
   "source": [
    "train_char_tf_idf.shape"
   ]
  },
  {
   "cell_type": "markdown",
   "metadata": {},
   "source": [
    "# Binary Logistic Regression\n",
    "\n",
    "After obtaining vector representations of the data, now you are ready to implement Binary Logistic Regression for classifying sentiment."
   ]
  },
  {
   "cell_type": "markdown",
   "metadata": {},
   "source": [
    "First, you need to implement the `sigmoid` function. It takes as input:\n",
    "\n",
    "- `z`: a real number or an array of real numbers \n",
    "\n",
    "and returns:\n",
    "\n",
    "- `sig`: the sigmoid of `z`"
   ]
  },
  {
   "cell_type": "code",
   "execution_count": 29,
   "metadata": {
    "ExecuteTime": {
     "end_time": "2020-02-15T14:17:44.160661Z",
     "start_time": "2020-02-15T14:17:44.157902Z"
    }
   },
   "outputs": [],
   "source": [
    "import math\n",
    "def sigmoid(z):\n",
    "    sig = 1 / (1 + np.exp(-z))\n",
    "    \n",
    "    return sig"
   ]
  },
  {
   "cell_type": "markdown",
   "metadata": {},
   "source": [
    "Then, implement the `predict_proba` function to obtain prediction probabilities. It takes as input:\n",
    "\n",
    "- `X`: an array of inputs, i.e. documents represented by bag-of-ngram vectors ($N \\times |vocab|$)\n",
    "- `weights`: a 1-D array of the model's weights $(1, |vocab|)$\n",
    "\n",
    "and returns:\n",
    "\n",
    "- `preds_proba`: the prediction probabilities of X given the weights"
   ]
  },
  {
   "cell_type": "code",
   "execution_count": 30,
   "metadata": {
    "ExecuteTime": {
     "end_time": "2020-02-15T14:17:44.718566Z",
     "start_time": "2020-02-15T14:17:44.715017Z"
    }
   },
   "outputs": [],
   "source": [
    "def predict_proba(X, weights):\n",
    "    \n",
    "    z = np.dot(X,weights)\n",
    "    \n",
    "    preds_proba=sigmoid(z)\n",
    "    \n",
    "    return preds_proba"
   ]
  },
  {
   "cell_type": "markdown",
   "metadata": {},
   "source": [
    "Then, implement the `predict_class` function to obtain the most probable class for each vector in an array of input vectors. It takes as input:\n",
    "\n",
    "- `X`: an array of documents represented by bag-of-ngram vectors ($N \\times |vocab|$)\n",
    "- `weights`: a 1-D array of the model's weights $(1, |vocab|)$\n",
    "\n",
    "and returns:\n",
    "\n",
    "- `preds_class`: the predicted class for each x in X given the weights"
   ]
  },
  {
   "cell_type": "code",
   "execution_count": 31,
   "metadata": {
    "ExecuteTime": {
     "end_time": "2020-02-15T14:17:45.002125Z",
     "start_time": "2020-02-15T14:17:44.998668Z"
    }
   },
   "outputs": [],
   "source": [
    "def predict_class(X, weights):\n",
    "    \n",
    "    preds_class = predict_proba(X,weights)\n",
    "    \n",
    "    return [0 if prob<0.5 else 1 for prob in preds_class]"
   ]
  },
  {
   "cell_type": "markdown",
   "metadata": {},
   "source": [
    "To learn the weights from data, we need to minimise the binary cross-entropy loss. Implement `binary_loss` that takes as input:\n",
    "\n",
    "- `X`: input vectors\n",
    "- `Y`: labels\n",
    "- `weights`: model weights\n",
    "- `alpha`: regularisation strength\n",
    "\n",
    "and return:\n",
    "\n",
    "- `l`: the loss score"
   ]
  },
  {
   "cell_type": "code",
   "execution_count": 32,
   "metadata": {
    "ExecuteTime": {
     "end_time": "2020-02-15T14:17:45.455533Z",
     "start_time": "2020-02-15T14:17:45.451475Z"
    }
   },
   "outputs": [],
   "source": [
    "epsilon = 1e-5   \n",
    "def binary_loss(X, Y, weights, alpha=0.00001):\n",
    "    '''\n",
    "    Binary Cross-entropy Loss\n",
    "\n",
    "    X:(len(X),len(vocab))\n",
    "    Y: array len(Y)\n",
    "    weights: array len(X)\n",
    "    '''\n",
    "    predicted_prob = predict_proba(X, weights)\n",
    "\n",
    "    l = -Y * np.log(predicted_prob) - (1 - Y) * np.log(1 - predicted_prob + epsilon  )\n",
    "    \n",
    "    l += alpha * weights.dot(weights)\n",
    "    \n",
    "    return np.mean(l)\n",
    "    \n",
    "\n"
   ]
  },
  {
   "cell_type": "markdown",
   "metadata": {},
   "source": [
    "Now, you can implement Stochastic Gradient Descent to learn the weights of your sentiment classifier. The `SGD` function takes as input:\n",
    "\n",
    "- `X_tr`: array of training data (vectors)\n",
    "- `Y_tr`: labels of `X_tr`\n",
    "- `X_dev`: array of development (i.e. validation) data (vectors)\n",
    "- `Y_dev`: labels of `X_dev`\n",
    "- `lr`: learning rate\n",
    "- `alpha`: regularisation strength\n",
    "- `epochs`: number of full passes over the training data\n",
    "- `tolerance`: stop training if the difference between the current and previous validation loss is smaller than a threshold\n",
    "- `print_progress`: flag for printing the training progress (train/validation loss)\n",
    "\n",
    "\n",
    "and returns:\n",
    "\n",
    "- `weights`: the weights learned\n",
    "- `training_loss_history`: an array with the average losses of the whole training set after each epoch\n",
    "- `validation_loss_history`: an array with the average losses of the whole development set after each epoch"
   ]
  },
  {
   "cell_type": "markdown",
   "metadata": {},
   "source": [
    "- The Stochastic Gradient Descent (SGD) algorithm to estimate the parameters of your Logistic Regression models. Your SGD algorithm should:\n",
    "    - Minimise the Binary Cross-entropy loss function (**1 mark**)\n",
    "    - Use L2 regularisation (**1 mark**)\n",
    "    - Perform multiple passes (epochs) over the training data (**1 mark**)\n",
    "    - Randomise the order of training data after each pass (**1 mark**)\n",
    "    - Stop training if the difference between the current and previous development loss is smaller than a threshold (**1 mark**)\n",
    "    - After each epoch print the training and development loss (**1 mark**)"
   ]
  },
  {
   "cell_type": "code",
   "execution_count": 33,
   "metadata": {},
   "outputs": [],
   "source": [
    "#function to compute gradient with respect to weights\n",
    "def gradient_dw(x,y,w,alpha,N):\n",
    "  \n",
    "    dw = x * (y - (predict_proba(x,w)) - (alpha / N) * w)\n",
    "    return dw"
   ]
  },
  {
   "cell_type": "code",
   "execution_count": 34,
   "metadata": {
    "ExecuteTime": {
     "end_time": "2020-02-15T14:17:45.968510Z",
     "start_time": "2020-02-15T14:17:45.958185Z"
    }
   },
   "outputs": [],
   "source": [
    "def SGD(X_tr, Y_tr, X_dev=[], Y_dev=[], lr=0.1, \n",
    "        alpha=0.00001, epochs=5, \n",
    "        tolerance=0.0001, print_progress=True):\n",
    "    np.random.seed(123)\n",
    "    \n",
    "    n=X_tr.shape[0] #Samples\n",
    "    m=X_tr.shape[1] #Features\n",
    "    training_loss_history = []\n",
    "    validation_loss_history = []\n",
    "    \n",
    "\n",
    "    #initialize weights randomly from standard normal distribution \n",
    "    #weights = np.random.randn(X_tr.shape[1])\n",
    "    weights = np.zeros(X_tr.shape[1])\n",
    "    #print(weights)\n",
    "    train_docs = list(zip(X_tr, Y_tr))\n",
    "    \n",
    "    #print(train_docs[0][1])\n",
    "    for current_iteration in np.arange(epochs):\n",
    "\n",
    "        temp=[]\n",
    "        np.random.shuffle(train_docs)\n",
    "        \n",
    " \n",
    "        for x,y in train_docs:\n",
    "            #calculate gradient for x and y\n",
    "            dw=gradient_dw(x,y,weights,alpha,n)\n",
    "            weights = weights + (lr * dw)\n",
    "            \n",
    "            \n",
    "        cur_loss_tr = binary_loss(X_tr, Y_tr, weights, alpha)\n",
    "        cur_loss_dev = binary_loss(X_dev, Y_dev, weights, alpha)\n",
    "        \n",
    "        #stop SGD if the difference in validation loss is lower than tolerance set\n",
    "        if current_iteration > 0 and validation_loss_history[-1] - cur_loss_dev < tolerance:\n",
    "            break\n",
    "        else:\n",
    "            training_loss_history.append(cur_loss_tr)\n",
    "            validation_loss_history.append(cur_loss_dev)\n",
    "        \n",
    "        if print_progress:\n",
    "            print(f'Epoch: {current_iteration:{10}} | Training loss: {cur_loss_tr:{15}} | Validation loss: {cur_loss_dev:{15}}')\n",
    "        \n",
    "\n",
    "    return weights, training_loss_history, validation_loss_history"
   ]
  },
  {
   "cell_type": "markdown",
   "metadata": {},
   "source": [
    "## Train and Evaluate Logistic Regression with Count vectors\n",
    "\n",
    "First train the model using SGD:"
   ]
  },
  {
   "cell_type": "code",
   "execution_count": 161,
   "metadata": {},
   "outputs": [],
   "source": [
    "#generate hyperparameters using logspace\n",
    "lr = np.linspace(0.00001, 0.01, num = 5,endpoint=False)\n",
    "alpha = np.logspace(-5, -1, num = 5,endpoint=False)\n"
   ]
  },
  {
   "cell_type": "code",
   "execution_count": 162,
   "metadata": {},
   "outputs": [
    {
     "data": {
      "text/plain": [
       "array([1.000e-05, 2.008e-03, 4.006e-03, 6.004e-03, 8.002e-03])"
      ]
     },
     "execution_count": 162,
     "metadata": {},
     "output_type": "execute_result"
    }
   ],
   "source": [
    "lr"
   ]
  },
  {
   "cell_type": "code",
   "execution_count": 163,
   "metadata": {},
   "outputs": [
    {
     "data": {
      "text/plain": [
       "array([1.00000000e-05, 6.30957344e-05, 3.98107171e-04, 2.51188643e-03,\n",
       "       1.58489319e-02])"
      ]
     },
     "execution_count": 163,
     "metadata": {},
     "output_type": "execute_result"
    }
   ],
   "source": [
    "alpha"
   ]
  },
  {
   "cell_type": "code",
   "execution_count": 164,
   "metadata": {
    "scrolled": true
   },
   "outputs": [
    {
     "name": "stdout",
     "output_type": "stream",
     "text": [
      "\n",
      "Hyper Parameters -- Learning Rate - 1e-05  Regularization Parameter- 1e-05\n",
      "\n",
      "Hyper Parameters -- Learning Rate - 1e-05  Regularization Parameter- 6.309573444801929e-05\n",
      "\n",
      "Hyper Parameters -- Learning Rate - 1e-05  Regularization Parameter- 0.00039810717055349735\n",
      "\n",
      "Hyper Parameters -- Learning Rate - 1e-05  Regularization Parameter- 0.002511886431509582\n",
      "\n",
      "Hyper Parameters -- Learning Rate - 1e-05  Regularization Parameter- 0.01584893192461114\n",
      "\n",
      "Hyper Parameters -- Learning Rate - 0.0020080000000000002  Regularization Parameter- 1e-05\n",
      "\n",
      "Hyper Parameters -- Learning Rate - 0.0020080000000000002  Regularization Parameter- 6.309573444801929e-05\n",
      "\n",
      "Hyper Parameters -- Learning Rate - 0.0020080000000000002  Regularization Parameter- 0.00039810717055349735\n",
      "\n",
      "Hyper Parameters -- Learning Rate - 0.0020080000000000002  Regularization Parameter- 0.002511886431509582\n",
      "\n",
      "Hyper Parameters -- Learning Rate - 0.0020080000000000002  Regularization Parameter- 0.01584893192461114\n",
      "\n",
      "Hyper Parameters -- Learning Rate - 0.004006  Regularization Parameter- 1e-05\n",
      "\n",
      "Hyper Parameters -- Learning Rate - 0.004006  Regularization Parameter- 6.309573444801929e-05\n",
      "\n",
      "Hyper Parameters -- Learning Rate - 0.004006  Regularization Parameter- 0.00039810717055349735\n",
      "\n",
      "Hyper Parameters -- Learning Rate - 0.004006  Regularization Parameter- 0.002511886431509582\n",
      "\n",
      "Hyper Parameters -- Learning Rate - 0.004006  Regularization Parameter- 0.01584893192461114\n",
      "\n",
      "Hyper Parameters -- Learning Rate - 0.006004000000000001  Regularization Parameter- 1e-05\n",
      "\n",
      "Hyper Parameters -- Learning Rate - 0.006004000000000001  Regularization Parameter- 6.309573444801929e-05\n",
      "\n",
      "Hyper Parameters -- Learning Rate - 0.006004000000000001  Regularization Parameter- 0.00039810717055349735\n",
      "\n",
      "Hyper Parameters -- Learning Rate - 0.006004000000000001  Regularization Parameter- 0.002511886431509582\n",
      "\n",
      "Hyper Parameters -- Learning Rate - 0.006004000000000001  Regularization Parameter- 0.01584893192461114\n",
      "\n",
      "Hyper Parameters -- Learning Rate - 0.008002  Regularization Parameter- 1e-05\n",
      "\n",
      "Hyper Parameters -- Learning Rate - 0.008002  Regularization Parameter- 6.309573444801929e-05\n",
      "\n",
      "Hyper Parameters -- Learning Rate - 0.008002  Regularization Parameter- 0.00039810717055349735\n",
      "\n",
      "Hyper Parameters -- Learning Rate - 0.008002  Regularization Parameter- 0.002511886431509582\n",
      "\n",
      "Hyper Parameters -- Learning Rate - 0.008002  Regularization Parameter- 0.01584893192461114\n"
     ]
    }
   ],
   "source": [
    "#hyper paramater tuning for BOW-Count\n",
    "train_loss_history =[]\n",
    "validation_loss_history=[]\n",
    "hyperparam_history=[]\n",
    "#\n",
    "for lr_i in lr:\n",
    "    for alpha_i in alpha:\n",
    "        print('\\nHyper Parameters -- Learning Rate -',lr_i,' Regularization Parameter-',alpha_i)\n",
    "        weight, train_loss_count, dev_loss_count = SGD(X_tr=train_count_vector,\n",
    "                                             Y_tr=train_labels,\n",
    "                                             X_dev=dev_count_vector,\n",
    "                                             Y_dev=dev_labels,\n",
    "                                             lr=lr_i,\n",
    "                                             alpha=alpha_i,\n",
    "                                             tolerance=0.0001,\n",
    "                                             epochs=400,\n",
    "                                             print_progress=False)\n",
    "        if len(train_loss_count) > 40:\n",
    "            train_loss_history.append(train_loss_count[-1])\n",
    "            validation_loss_history.append(dev_loss_count[-1])\n",
    "            hyperparam_history.append([lr_i,alpha_i])\n",
    "     \n",
    "\n",
    "\n",
    "        "
   ]
  },
  {
   "cell_type": "code",
   "execution_count": 165,
   "metadata": {},
   "outputs": [
    {
     "name": "stdout",
     "output_type": "stream",
     "text": [
      "Best Training loss - 0.23281265732113487,best_validation_loss-0.41329350790053354,\n",
      "best_hyperparams-[1e-05, 1e-05]\n"
     ]
    }
   ],
   "source": [
    "#get the best hyper parameters\n",
    "temp = np.array(train_loss_history)\n",
    "train_loss_history_sortidx = np.argsort(temp)\n",
    "\n",
    "best_train_loss = temp[train_loss_history_sortidx[0]]\n",
    "best_validation_loss = validation_loss_history[train_loss_history_sortidx[0]]\n",
    "best_hyperparams=hyperparam_history[train_loss_history_sortidx[0]]\n",
    "\n",
    "print(f'Best Training loss - {best_train_loss},best_validation_loss-{best_validation_loss},\\nbest_hyperparams-{best_hyperparams}')\n",
    "\n"
   ]
  },
  {
   "cell_type": "code",
   "execution_count": 166,
   "metadata": {
    "scrolled": true
   },
   "outputs": [
    {
     "name": "stdout",
     "output_type": "stream",
     "text": [
      "Epoch:          0 | Training loss: 0.6837664802935786 | Validation loss: 0.6860666266246024\n",
      "Epoch:          1 | Training loss: 0.6751537941301965 | Validation loss: 0.6800242919507538\n",
      "Epoch:          2 | Training loss: 0.6670410843190909 | Validation loss: 0.6741665937070213\n",
      "Epoch:          3 | Training loss: 0.6593693831021286 | Validation loss: 0.6688284403248014\n",
      "Epoch:          4 | Training loss: 0.6520789507389164 | Validation loss: 0.6642044718900759\n",
      "Epoch:          5 | Training loss: 0.6451418867290613 | Validation loss: 0.6592676317437978\n",
      "Epoch:          6 | Training loss: 0.6385578999155843 | Validation loss: 0.6546807321249714\n",
      "Epoch:          7 | Training loss: 0.6322596420878759 | Validation loss: 0.6507759296929874\n",
      "Epoch:          8 | Training loss: 0.6262314087264625 | Validation loss: 0.646674831896937\n",
      "Epoch:          9 | Training loss: 0.620460854628425 | Validation loss: 0.64272630178654\n",
      "Epoch:         10 | Training loss: 0.6149881618632875 | Validation loss: 0.6394738548143387\n",
      "Epoch:         11 | Training loss: 0.6096263303307669 | Validation loss: 0.6356584498778969\n",
      "Epoch:         12 | Training loss: 0.6045043018078649 | Validation loss: 0.6322572826186653\n",
      "Epoch:         13 | Training loss: 0.5996144292432117 | Validation loss: 0.6293492459800534\n",
      "Epoch:         14 | Training loss: 0.5948162723563388 | Validation loss: 0.6258787119313933\n",
      "Epoch:         15 | Training loss: 0.5902174540550508 | Validation loss: 0.6229724126694056\n",
      "Epoch:         16 | Training loss: 0.5858409993538789 | Validation loss: 0.6205727203610901\n",
      "Epoch:         17 | Training loss: 0.5814696132641515 | Validation loss: 0.6175430515652522\n",
      "Epoch:         18 | Training loss: 0.5772660634103965 | Validation loss: 0.6146913686402145\n",
      "Epoch:         19 | Training loss: 0.573203239868719 | Validation loss: 0.6120757106076501\n",
      "Epoch:         20 | Training loss: 0.5692533401304347 | Validation loss: 0.609465451686768\n",
      "Epoch:         21 | Training loss: 0.565418961747484 | Validation loss: 0.6071622629742548\n",
      "Epoch:         22 | Training loss: 0.5616801579878159 | Validation loss: 0.6046943304173754\n",
      "Epoch:         23 | Training loss: 0.5580456726258316 | Validation loss: 0.6022680736754554\n",
      "Epoch:         24 | Training loss: 0.5545520121760678 | Validation loss: 0.6006037103567777\n",
      "Epoch:         25 | Training loss: 0.5510367585348915 | Validation loss: 0.5979420185980028\n",
      "Epoch:         26 | Training loss: 0.5476865083427509 | Validation loss: 0.596128864112069\n",
      "Epoch:         27 | Training loss: 0.5443924556120864 | Validation loss: 0.5940815370083644\n",
      "Epoch:         28 | Training loss: 0.5411402012734088 | Validation loss: 0.5918049348792468\n",
      "Epoch:         29 | Training loss: 0.5380223918391238 | Validation loss: 0.5901352532689339\n",
      "Epoch:         30 | Training loss: 0.5349035346458563 | Validation loss: 0.5879064173990801\n",
      "Epoch:         31 | Training loss: 0.5318869420725559 | Validation loss: 0.5860325171763313\n",
      "Epoch:         32 | Training loss: 0.5289719737508198 | Validation loss: 0.5845000056060266\n",
      "Epoch:         33 | Training loss: 0.5260395933891074 | Validation loss: 0.5822160556529584\n",
      "Epoch:         34 | Training loss: 0.5232012126512148 | Validation loss: 0.5805510208618871\n",
      "Epoch:         35 | Training loss: 0.5204200399022954 | Validation loss: 0.5787348355126516\n",
      "Epoch:         36 | Training loss: 0.5176919364011832 | Validation loss: 0.5770930718379378\n",
      "Epoch:         37 | Training loss: 0.5150336240849595 | Validation loss: 0.5756605902730182\n",
      "Epoch:         38 | Training loss: 0.5123937823554481 | Validation loss: 0.5739013257967216\n",
      "Epoch:         39 | Training loss: 0.509812115063446 | Validation loss: 0.5721273367399778\n",
      "Epoch:         40 | Training loss: 0.50728973068448 | Validation loss: 0.5704208804294065\n",
      "Epoch:         41 | Training loss: 0.5048061870437035 | Validation loss: 0.5688381889547951\n",
      "Epoch:         42 | Training loss: 0.5023526571599741 | Validation loss: 0.5673625681109469\n",
      "Epoch:         43 | Training loss: 0.4999495815903 | Validation loss: 0.5658515724516266\n",
      "Epoch:         44 | Training loss: 0.49756792858969884 | Validation loss: 0.5646093091599969\n",
      "Epoch:         45 | Training loss: 0.4952405210849046 | Validation loss: 0.5631584819637063\n",
      "Epoch:         46 | Training loss: 0.4929495823818077 | Validation loss: 0.5617385648972377\n",
      "Epoch:         47 | Training loss: 0.4907052406130593 | Validation loss: 0.5605148072784047\n",
      "Epoch:         48 | Training loss: 0.48847718354110614 | Validation loss: 0.5589147833835034\n",
      "Epoch:         49 | Training loss: 0.48631595490055785 | Validation loss: 0.5573487114953168\n",
      "Epoch:         50 | Training loss: 0.48415099012918256 | Validation loss: 0.5560928143646193\n",
      "Epoch:         51 | Training loss: 0.4820267580317835 | Validation loss: 0.5548089734127464\n",
      "Epoch:         52 | Training loss: 0.4799531560891506 | Validation loss: 0.5534212394390322\n",
      "Epoch:         53 | Training loss: 0.4778715239330672 | Validation loss: 0.5523197650202973\n",
      "Epoch:         54 | Training loss: 0.4758583903519518 | Validation loss: 0.550923406670577\n",
      "Epoch:         55 | Training loss: 0.47385802271210575 | Validation loss: 0.5496875054123193\n",
      "Epoch:         56 | Training loss: 0.4718681295381277 | Validation loss: 0.548613084374457\n",
      "Epoch:         57 | Training loss: 0.46991966274925095 | Validation loss: 0.5474829695359023\n",
      "Epoch:         58 | Training loss: 0.4680049722151188 | Validation loss: 0.5464390469432487\n",
      "Epoch:         59 | Training loss: 0.4661056300765147 | Validation loss: 0.5450870805694685\n",
      "Epoch:         60 | Training loss: 0.4642353057270652 | Validation loss: 0.5439437184317902\n",
      "Epoch:         61 | Training loss: 0.46238963126834726 | Validation loss: 0.5427980778893151\n",
      "Epoch:         62 | Training loss: 0.4605677091500393 | Validation loss: 0.5417392248113186\n",
      "Epoch:         63 | Training loss: 0.45876931457710496 | Validation loss: 0.5405703181534346\n",
      "Epoch:         64 | Training loss: 0.4569957814670056 | Validation loss: 0.5394118632507483\n",
      "Epoch:         65 | Training loss: 0.45525567083657764 | Validation loss: 0.5382181738733991\n",
      "Epoch:         66 | Training loss: 0.45350693965796374 | Validation loss: 0.5373449221244526\n",
      "Epoch:         67 | Training loss: 0.4517972310911083 | Validation loss: 0.5363856244619263\n",
      "Epoch:         68 | Training loss: 0.45010537742194817 | Validation loss: 0.5352418058418439\n",
      "Epoch:         69 | Training loss: 0.44843390998528515 | Validation loss: 0.5342143588566688\n",
      "Epoch:         70 | Training loss: 0.4467864345514428 | Validation loss: 0.5333387689769278\n",
      "Epoch:         71 | Training loss: 0.4451541229710335 | Validation loss: 0.53208973855215\n",
      "Epoch:         72 | Training loss: 0.44353724671552713 | Validation loss: 0.5311363596198899\n",
      "Epoch:         73 | Training loss: 0.4419436689976153 | Validation loss: 0.5303511529307477\n",
      "Epoch:         74 | Training loss: 0.44036265764022897 | Validation loss: 0.5292788789961118\n",
      "Epoch:         75 | Training loss: 0.43880524132660653 | Validation loss: 0.5283948624752359\n",
      "Epoch:         76 | Training loss: 0.4372603678646285 | Validation loss: 0.5274045270345552\n",
      "Epoch:         77 | Training loss: 0.4357380559904594 | Validation loss: 0.5265435372786134\n",
      "Epoch:         78 | Training loss: 0.4342271454320785 | Validation loss: 0.5255983716061824\n",
      "Epoch:         79 | Training loss: 0.4327375884245382 | Validation loss: 0.5247380006049372\n",
      "Epoch:         80 | Training loss: 0.43125832339600356 | Validation loss: 0.5238182689310932\n",
      "Epoch:         81 | Training loss: 0.4297900551815661 | Validation loss: 0.5228247023817667\n",
      "Epoch:         82 | Training loss: 0.4283518810233583 | Validation loss: 0.5220613935123488\n",
      "Epoch:         83 | Training loss: 0.4269265876611975 | Validation loss: 0.5212362568522544\n",
      "Epoch:         84 | Training loss: 0.42550311120505496 | Validation loss: 0.5199889692115025\n",
      "Epoch:         85 | Training loss: 0.42410125587166264 | Validation loss: 0.5191150987011416\n",
      "Epoch:         86 | Training loss: 0.42270846707060045 | Validation loss: 0.5185971321153982\n",
      "Epoch:         87 | Training loss: 0.42132776064686667 | Validation loss: 0.5177003748719688\n",
      "Epoch:         88 | Training loss: 0.41996120999150743 | Validation loss: 0.516747525008293\n",
      "Epoch:         89 | Training loss: 0.4186275736309935 | Validation loss: 0.5157430577343197\n"
     ]
    },
    {
     "name": "stdout",
     "output_type": "stream",
     "text": [
      "Epoch:         90 | Training loss: 0.4172757794162526 | Validation loss: 0.5151131850544521\n",
      "Epoch:         91 | Training loss: 0.4159762832232861 | Validation loss: 0.5140810545242347\n",
      "Epoch:         92 | Training loss: 0.41464340331998195 | Validation loss: 0.5134520424238438\n",
      "Epoch:         93 | Training loss: 0.4133468123738284 | Validation loss: 0.5128286890702466\n",
      "Epoch:         94 | Training loss: 0.4120585401784717 | Validation loss: 0.5118623067546063\n",
      "Epoch:         95 | Training loss: 0.4107899160380053 | Validation loss: 0.5110190277209037\n",
      "Epoch:         96 | Training loss: 0.4095229318181874 | Validation loss: 0.5105047904426872\n",
      "Epoch:         97 | Training loss: 0.40826756001931724 | Validation loss: 0.5095879179310288\n",
      "Epoch:         98 | Training loss: 0.4070266603437674 | Validation loss: 0.5088495815583657\n",
      "Epoch:         99 | Training loss: 0.40580129879378796 | Validation loss: 0.5082373370727296\n",
      "Epoch:        100 | Training loss: 0.4045811907223099 | Validation loss: 0.5073068644241903\n",
      "Epoch:        101 | Training loss: 0.4033708860588333 | Validation loss: 0.5066510957252813\n",
      "Epoch:        102 | Training loss: 0.4021737142323049 | Validation loss: 0.5058962069390738\n",
      "Epoch:        103 | Training loss: 0.4009868699255227 | Validation loss: 0.5052480378871065\n",
      "Epoch:        104 | Training loss: 0.3998105320332447 | Validation loss: 0.5044421897435346\n",
      "Epoch:        105 | Training loss: 0.39864337152841883 | Validation loss: 0.5038227036901928\n",
      "Epoch:        106 | Training loss: 0.39749217950254906 | Validation loss: 0.5032219159790792\n",
      "Epoch:        107 | Training loss: 0.39633839108272556 | Validation loss: 0.502394469121143\n",
      "Epoch:        108 | Training loss: 0.3952003948948108 | Validation loss: 0.5017042072427088\n",
      "Epoch:        109 | Training loss: 0.39408021017633094 | Validation loss: 0.50088691692697\n",
      "Epoch:        110 | Training loss: 0.3929551844944264 | Validation loss: 0.5002717780832359\n",
      "Epoch:        111 | Training loss: 0.3918424925389611 | Validation loss: 0.4996949738951304\n",
      "Epoch:        112 | Training loss: 0.39074235881939934 | Validation loss: 0.4989667625670596\n",
      "Epoch:        113 | Training loss: 0.3896507254594083 | Validation loss: 0.4982936372009222\n",
      "Epoch:        114 | Training loss: 0.38856577839811474 | Validation loss: 0.4977236576057825\n",
      "Epoch:        115 | Training loss: 0.3874912587487948 | Validation loss: 0.497092210414007\n",
      "Epoch:        116 | Training loss: 0.3864245058441865 | Validation loss: 0.49639514844708915\n",
      "Epoch:        117 | Training loss: 0.38536621832108536 | Validation loss: 0.49579208574398304\n",
      "Epoch:        118 | Training loss: 0.3843175961350903 | Validation loss: 0.49509806489595914\n",
      "Epoch:        119 | Training loss: 0.3832761101869947 | Validation loss: 0.4945980545743065\n",
      "Epoch:        120 | Training loss: 0.3822431351101441 | Validation loss: 0.49399528013576244\n",
      "Epoch:        121 | Training loss: 0.3812198618511562 | Validation loss: 0.49341686473156166\n",
      "Epoch:        122 | Training loss: 0.38019700909799203 | Validation loss: 0.49265280746861395\n",
      "Epoch:        123 | Training loss: 0.37918637405184313 | Validation loss: 0.4921199129806377\n",
      "Epoch:        124 | Training loss: 0.3781830213035372 | Validation loss: 0.4914571494940989\n",
      "Epoch:        125 | Training loss: 0.37718782077397384 | Validation loss: 0.4909382254841343\n",
      "Epoch:        126 | Training loss: 0.3762010919228765 | Validation loss: 0.49038305322243275\n",
      "Epoch:        127 | Training loss: 0.37521745495581926 | Validation loss: 0.48971506875948606\n",
      "Epoch:        128 | Training loss: 0.37424387402819387 | Validation loss: 0.48910710029759175\n",
      "Epoch:        129 | Training loss: 0.3732769285856317 | Validation loss: 0.4885392655074986\n",
      "Epoch:        130 | Training loss: 0.3723166583632724 | Validation loss: 0.4879730632345186\n",
      "Epoch:        131 | Training loss: 0.3713641008337482 | Validation loss: 0.487378681738184\n",
      "Epoch:        132 | Training loss: 0.3704165479403739 | Validation loss: 0.48685780270798495\n",
      "Epoch:        133 | Training loss: 0.3694787611742333 | Validation loss: 0.48624909090034096\n",
      "Epoch:        134 | Training loss: 0.36854427604964013 | Validation loss: 0.48571717053841934\n",
      "Epoch:        135 | Training loss: 0.367617447551719 | Validation loss: 0.4851747551705035\n",
      "Epoch:        136 | Training loss: 0.3666988185612402 | Validation loss: 0.4845954720943099\n",
      "Epoch:        137 | Training loss: 0.3657823020599932 | Validation loss: 0.4841340518317611\n",
      "Epoch:        138 | Training loss: 0.36487720696773046 | Validation loss: 0.48351948615726514\n",
      "Epoch:        139 | Training loss: 0.3639770230485703 | Validation loss: 0.48316868363794596\n",
      "Epoch:        140 | Training loss: 0.3630771836196717 | Validation loss: 0.48255331134807916\n",
      "Epoch:        141 | Training loss: 0.3621879412017794 | Validation loss: 0.4819849300908874\n",
      "Epoch:        142 | Training loss: 0.3613131043358653 | Validation loss: 0.48135875654667154\n",
      "Epoch:        143 | Training loss: 0.36043164837788605 | Validation loss: 0.4808750458407627\n",
      "Epoch:        144 | Training loss: 0.3595603669371584 | Validation loss: 0.4803566282554021\n",
      "Epoch:        145 | Training loss: 0.35868919508036623 | Validation loss: 0.4799138336732156\n",
      "Epoch:        146 | Training loss: 0.35782773389332767 | Validation loss: 0.47948397072265253\n",
      "Epoch:        147 | Training loss: 0.35697236820113565 | Validation loss: 0.4789521401224263\n",
      "Epoch:        148 | Training loss: 0.3561232624581765 | Validation loss: 0.47848903725237946\n",
      "Epoch:        149 | Training loss: 0.3552789495491082 | Validation loss: 0.4779530252895735\n",
      "Epoch:        150 | Training loss: 0.3544446139721459 | Validation loss: 0.47757635267120546\n",
      "Epoch:        151 | Training loss: 0.35362023402704046 | Validation loss: 0.47717529632732564\n",
      "Epoch:        152 | Training loss: 0.3527792258499768 | Validation loss: 0.4765087429996908\n",
      "Epoch:        153 | Training loss: 0.3519567366894854 | Validation loss: 0.47605160488496323\n",
      "Epoch:        154 | Training loss: 0.35113978870596857 | Validation loss: 0.4756038160862036\n",
      "Epoch:        155 | Training loss: 0.35032605388671406 | Validation loss: 0.47508210274007345\n",
      "Epoch:        156 | Training loss: 0.34951843544699124 | Validation loss: 0.4746071712777294\n",
      "Epoch:        157 | Training loss: 0.34871603472216606 | Validation loss: 0.47413578067771944\n",
      "Epoch:        158 | Training loss: 0.34791942036625095 | Validation loss: 0.47364102772769856\n",
      "Epoch:        159 | Training loss: 0.3471295332823663 | Validation loss: 0.4731380770914423\n",
      "Epoch:        160 | Training loss: 0.3463381998065525 | Validation loss: 0.47273382440140005\n",
      "Epoch:        161 | Training loss: 0.345554218566849 | Validation loss: 0.47231736813332575\n",
      "Epoch:        162 | Training loss: 0.34478024841307064 | Validation loss: 0.4719752848419785\n",
      "Epoch:        163 | Training loss: 0.3440021560793176 | Validation loss: 0.47144730377500155\n",
      "Epoch:        164 | Training loss: 0.34323692981262605 | Validation loss: 0.4708934783438385\n",
      "Epoch:        165 | Training loss: 0.342468076305001 | Validation loss: 0.47052241099472575\n",
      "Epoch:        166 | Training loss: 0.341707655134254 | Validation loss: 0.4701120375278542\n",
      "Epoch:        167 | Training loss: 0.3409592786909664 | Validation loss: 0.4695549272699273\n",
      "Epoch:        168 | Training loss: 0.3402119277923956 | Validation loss: 0.469097496921235\n",
      "Epoch:        169 | Training loss: 0.3394532304418111 | Validation loss: 0.4688064676161413\n",
      "Epoch:        170 | Training loss: 0.3387193153988854 | Validation loss: 0.46826182222140617\n",
      "Epoch:        171 | Training loss: 0.337972573017819 | Validation loss: 0.46793741316463544\n",
      "Epoch:        172 | Training loss: 0.3372380530027844 | Validation loss: 0.4675228925721659\n",
      "Epoch:        173 | Training loss: 0.3365088972153167 | Validation loss: 0.46718129154621324\n",
      "Epoch:        174 | Training loss: 0.3357879888220526 | Validation loss: 0.46683534931068876\n",
      "Epoch:        175 | Training loss: 0.33506411731170416 | Validation loss: 0.4664010990597667\n",
      "Epoch:        176 | Training loss: 0.33434973525181466 | Validation loss: 0.46602830178329085\n",
      "Epoch:        177 | Training loss: 0.33362816376952426 | Validation loss: 0.465508050069186\n",
      "Epoch:        178 | Training loss: 0.3329206905966826 | Validation loss: 0.4651603280407606\n"
     ]
    },
    {
     "name": "stdout",
     "output_type": "stream",
     "text": [
      "Epoch:        179 | Training loss: 0.33221217814564225 | Validation loss: 0.4646831356370877\n",
      "Epoch:        180 | Training loss: 0.33151099935248435 | Validation loss: 0.4643300041296846\n",
      "Epoch:        181 | Training loss: 0.33081210232163055 | Validation loss: 0.4638747885329552\n",
      "Epoch:        182 | Training loss: 0.33011805846000997 | Validation loss: 0.4635279741292131\n",
      "Epoch:        183 | Training loss: 0.3294272036932456 | Validation loss: 0.46309147136694834\n",
      "Epoch:        184 | Training loss: 0.32874422459478614 | Validation loss: 0.4628154395085077\n",
      "Epoch:        185 | Training loss: 0.32805709022503043 | Validation loss: 0.4623556638684647\n",
      "Epoch:        186 | Training loss: 0.32737747565202324 | Validation loss: 0.461940278786045\n",
      "Epoch:        187 | Training loss: 0.32670557530677463 | Validation loss: 0.4614888647627559\n",
      "Epoch:        188 | Training loss: 0.3260353060054206 | Validation loss: 0.4610928508119131\n",
      "Epoch:        189 | Training loss: 0.3253700076164875 | Validation loss: 0.46069379519061937\n",
      "Epoch:        190 | Training loss: 0.32469939811023496 | Validation loss: 0.4603619337468763\n",
      "Epoch:        191 | Training loss: 0.3240404177149908 | Validation loss: 0.46019173218447484\n",
      "Epoch:        192 | Training loss: 0.323375462716851 | Validation loss: 0.45971808113545903\n",
      "Epoch:        193 | Training loss: 0.32272050285827336 | Validation loss: 0.4593517241599492\n",
      "Epoch:        194 | Training loss: 0.32206953512295705 | Validation loss: 0.45893612843053744\n",
      "Epoch:        195 | Training loss: 0.32142179912782315 | Validation loss: 0.45856682603386134\n",
      "Epoch:        196 | Training loss: 0.3207761135070402 | Validation loss: 0.4582643333647355\n",
      "Epoch:        197 | Training loss: 0.32013539395873586 | Validation loss: 0.45793776255217006\n",
      "Epoch:        198 | Training loss: 0.3194963562881158 | Validation loss: 0.45752488975725647\n",
      "Epoch:        199 | Training loss: 0.31886139082229314 | Validation loss: 0.4571746746889178\n",
      "Epoch:        200 | Training loss: 0.31823343920021396 | Validation loss: 0.45675616731951757\n",
      "Epoch:        201 | Training loss: 0.3176026336108145 | Validation loss: 0.4564356528359507\n",
      "Epoch:        202 | Training loss: 0.31697586594662347 | Validation loss: 0.4561232978672811\n",
      "Epoch:        203 | Training loss: 0.31635354048571507 | Validation loss: 0.45577870249066565\n",
      "Epoch:        204 | Training loss: 0.31574323525768355 | Validation loss: 0.45558912172238913\n",
      "Epoch:        205 | Training loss: 0.31512046253664283 | Validation loss: 0.45517867799584294\n",
      "Epoch:        206 | Training loss: 0.314507032207403 | Validation loss: 0.45471252109198884\n",
      "Epoch:        207 | Training loss: 0.3138960911284605 | Validation loss: 0.4543896538358052\n",
      "Epoch:        208 | Training loss: 0.31328873673344787 | Validation loss: 0.45406241714483725\n",
      "Epoch:        209 | Training loss: 0.31268678845709247 | Validation loss: 0.4536968093436164\n",
      "Epoch:        210 | Training loss: 0.3120930840308591 | Validation loss: 0.4533111586850921\n",
      "Epoch:        211 | Training loss: 0.31148689020278425 | Validation loss: 0.45304208893432785\n",
      "Epoch:        212 | Training loss: 0.310889034907078 | Validation loss: 0.45276093211752455\n",
      "Epoch:        213 | Training loss: 0.31029713533413217 | Validation loss: 0.45241670563134484\n",
      "Epoch:        214 | Training loss: 0.30970746344897643 | Validation loss: 0.4521761444555202\n",
      "Epoch:        215 | Training loss: 0.30912236127767795 | Validation loss: 0.4518853734867697\n",
      "Epoch:        216 | Training loss: 0.3085359673552447 | Validation loss: 0.45146156719937863\n",
      "Epoch:        217 | Training loss: 0.30796291909199697 | Validation loss: 0.4510619013801721\n",
      "Epoch:        218 | Training loss: 0.3073777333634862 | Validation loss: 0.45079927754932464\n",
      "Epoch:        219 | Training loss: 0.30680210556578225 | Validation loss: 0.45048288247201784\n",
      "Epoch:        220 | Training loss: 0.30623420470349505 | Validation loss: 0.4501263782347033\n",
      "Epoch:        221 | Training loss: 0.30565780120263486 | Validation loss: 0.44986489950137226\n",
      "Epoch:        222 | Training loss: 0.30508776590640835 | Validation loss: 0.44961406174787727\n",
      "Epoch:        223 | Training loss: 0.30452496279694996 | Validation loss: 0.44924677611805897\n",
      "Epoch:        224 | Training loss: 0.303960054421738 | Validation loss: 0.4489867042579285\n",
      "Epoch:        225 | Training loss: 0.3034016628748526 | Validation loss: 0.4487573663649006\n",
      "Epoch:        226 | Training loss: 0.3028440420485588 | Validation loss: 0.44845398432703737\n",
      "Epoch:        227 | Training loss: 0.30228733474043223 | Validation loss: 0.4481040430180663\n",
      "Epoch:        228 | Training loss: 0.30173903734859786 | Validation loss: 0.44772468501939444\n",
      "Epoch:        229 | Training loss: 0.3011862962017453 | Validation loss: 0.44746240065830156\n",
      "Epoch:        230 | Training loss: 0.3006397332590611 | Validation loss: 0.4472700133123325\n",
      "Epoch:        231 | Training loss: 0.3000950948197428 | Validation loss: 0.44685733996666455\n",
      "Epoch:        232 | Training loss: 0.299557102061021 | Validation loss: 0.44652678348187946\n",
      "Epoch:        233 | Training loss: 0.29901425873087273 | Validation loss: 0.44625592099647915\n",
      "Epoch:        234 | Training loss: 0.2984747267924936 | Validation loss: 0.4459855184504905\n",
      "Epoch:        235 | Training loss: 0.2979410208992743 | Validation loss: 0.4456818025643885\n",
      "Epoch:        236 | Training loss: 0.29740391584600634 | Validation loss: 0.44547272974400676\n",
      "Epoch:        237 | Training loss: 0.2968746417776504 | Validation loss: 0.4451444432164614\n",
      "Epoch:        238 | Training loss: 0.2963451747906574 | Validation loss: 0.44492971595338177\n",
      "Epoch:        239 | Training loss: 0.29581890030085234 | Validation loss: 0.44463569527742375\n",
      "Epoch:        240 | Training loss: 0.2952951851198195 | Validation loss: 0.4443383998265434\n",
      "Epoch:        241 | Training loss: 0.29477429013412126 | Validation loss: 0.44403853408037564\n",
      "Epoch:        242 | Training loss: 0.29425580756804526 | Validation loss: 0.4438408341138683\n",
      "Epoch:        243 | Training loss: 0.29374150183319564 | Validation loss: 0.44360268325182184\n",
      "Epoch:        244 | Training loss: 0.2932233287798214 | Validation loss: 0.4432254818580042\n",
      "Epoch:        245 | Training loss: 0.2927128436002478 | Validation loss: 0.4429176048092433\n",
      "Epoch:        246 | Training loss: 0.29220030793922774 | Validation loss: 0.44269688855023914\n",
      "Epoch:        247 | Training loss: 0.2916927365680737 | Validation loss: 0.4424667519540168\n",
      "Epoch:        248 | Training loss: 0.2911873017848136 | Validation loss: 0.44221132067406527\n",
      "Epoch:        249 | Training loss: 0.29068448473297326 | Validation loss: 0.4419617055601474\n",
      "Epoch:        250 | Training loss: 0.29018592028510526 | Validation loss: 0.44173287718063264\n",
      "Epoch:        251 | Training loss: 0.28968231972626435 | Validation loss: 0.4414221099744773\n",
      "Epoch:        252 | Training loss: 0.289185744633953 | Validation loss: 0.4411751772137923\n",
      "Epoch:        253 | Training loss: 0.28869266507690483 | Validation loss: 0.4409417372659828\n",
      "Epoch:        254 | Training loss: 0.2881966360464299 | Validation loss: 0.4406517100173884\n",
      "Epoch:        255 | Training loss: 0.28770306525312644 | Validation loss: 0.44033999372111454\n",
      "Epoch:        256 | Training loss: 0.2872170773859687 | Validation loss: 0.4401493822679325\n",
      "Epoch:        257 | Training loss: 0.28672681362811775 | Validation loss: 0.4398435675818761\n",
      "Epoch:        258 | Training loss: 0.28624117295593204 | Validation loss: 0.4395677808767671\n",
      "Epoch:        259 | Training loss: 0.2857583528304201 | Validation loss: 0.4393409563747055\n",
      "Epoch:        260 | Training loss: 0.2852784419417516 | Validation loss: 0.43911650572563377\n",
      "Epoch:        261 | Training loss: 0.2847996582006983 | Validation loss: 0.4388753185982695\n",
      "Epoch:        262 | Training loss: 0.2843209907791069 | Validation loss: 0.43860769816819295\n",
      "Epoch:        263 | Training loss: 0.28384475905915485 | Validation loss: 0.4383444806919913\n",
      "Epoch:        264 | Training loss: 0.2833766150637667 | Validation loss: 0.4381691724445799\n",
      "Epoch:        265 | Training loss: 0.28290557747517137 | Validation loss: 0.43792990382843755\n",
      "Epoch:        266 | Training loss: 0.28242913868999325 | Validation loss: 0.4375736568142176\n",
      "Epoch:        267 | Training loss: 0.28196117177409274 | Validation loss: 0.4373445390106905\n"
     ]
    },
    {
     "name": "stdout",
     "output_type": "stream",
     "text": [
      "Epoch:        268 | Training loss: 0.28149609523660174 | Validation loss: 0.43705884675505446\n",
      "Epoch:        269 | Training loss: 0.2810311151075112 | Validation loss: 0.4368383014770363\n",
      "Epoch:        270 | Training loss: 0.28056912719671784 | Validation loss: 0.43658948063331693\n",
      "Epoch:        271 | Training loss: 0.28011015575631687 | Validation loss: 0.4364321913654545\n",
      "Epoch:        272 | Training loss: 0.27964962055397224 | Validation loss: 0.4361481172851967\n",
      "Epoch:        273 | Training loss: 0.2791927882589598 | Validation loss: 0.4359207019412642\n",
      "Epoch:        274 | Training loss: 0.27873755087120894 | Validation loss: 0.43567979429809156\n",
      "Epoch:        275 | Training loss: 0.27828454033736877 | Validation loss: 0.43541548329062274\n",
      "Epoch:        276 | Training loss: 0.27783341316269955 | Validation loss: 0.4352428184030165\n",
      "Epoch:        277 | Training loss: 0.2773835561583845 | Validation loss: 0.4349407220671337\n",
      "Epoch:        278 | Training loss: 0.2769346053615126 | Validation loss: 0.43473758879036245\n",
      "Epoch:        279 | Training loss: 0.2764882579823728 | Validation loss: 0.434525474678895\n",
      "Epoch:        280 | Training loss: 0.2760447717837533 | Validation loss: 0.43433011927051796\n",
      "Epoch:        281 | Training loss: 0.27560091441758056 | Validation loss: 0.43404588671249145\n",
      "Epoch:        282 | Training loss: 0.27515956117681817 | Validation loss: 0.43385211297805015\n",
      "Epoch:        283 | Training loss: 0.27472013718102506 | Validation loss: 0.4335934538575373\n",
      "Epoch:        284 | Training loss: 0.27428571088847253 | Validation loss: 0.43332310586854517\n",
      "Epoch:        285 | Training loss: 0.27384758580060165 | Validation loss: 0.43311902519112144\n",
      "Epoch:        286 | Training loss: 0.2734133657476954 | Validation loss: 0.4328938423769166\n",
      "Epoch:        287 | Training loss: 0.2729783734089405 | Validation loss: 0.4327467318705543\n",
      "Epoch:        288 | Training loss: 0.27254678730167703 | Validation loss: 0.43250474468872274\n",
      "Epoch:        289 | Training loss: 0.27211717837124283 | Validation loss: 0.4322791053832443\n",
      "Epoch:        290 | Training loss: 0.27168931714155814 | Validation loss: 0.4320507683390275\n",
      "Epoch:        291 | Training loss: 0.27126310081081745 | Validation loss: 0.43182870979253024\n",
      "Epoch:        292 | Training loss: 0.2708376148901278 | Validation loss: 0.43164420590729613\n",
      "Epoch:        293 | Training loss: 0.270414820995472 | Validation loss: 0.43139898652306335\n",
      "Epoch:        294 | Training loss: 0.26999301535104 | Validation loss: 0.4311871003815604\n",
      "Epoch:        295 | Training loss: 0.26957243729672276 | Validation loss: 0.4309854660766739\n",
      "Epoch:        296 | Training loss: 0.26915434766055624 | Validation loss: 0.4307594961520286\n",
      "Epoch:        297 | Training loss: 0.2687364786213496 | Validation loss: 0.4305732168945346\n",
      "Epoch:        298 | Training loss: 0.26832086439550756 | Validation loss: 0.4303645760664692\n",
      "Epoch:        299 | Training loss: 0.2679070238155448 | Validation loss: 0.43014383756606234\n",
      "Epoch:        300 | Training loss: 0.2674945662571926 | Validation loss: 0.4299327342293184\n",
      "Epoch:        301 | Training loss: 0.2670830823098649 | Validation loss: 0.4297583656108707\n",
      "Epoch:        302 | Training loss: 0.26667360370222315 | Validation loss: 0.42956031663696337\n",
      "Epoch:        303 | Training loss: 0.2662657075020615 | Validation loss: 0.4293175648390725\n",
      "Epoch:        304 | Training loss: 0.2658592861308371 | Validation loss: 0.42910705939202176\n",
      "Epoch:        305 | Training loss: 0.26545521935813887 | Validation loss: 0.4288876855302513\n",
      "Epoch:        306 | Training loss: 0.265049791409723 | Validation loss: 0.42872025306955885\n",
      "Epoch:        307 | Training loss: 0.2646483464458197 | Validation loss: 0.42849657929195567\n",
      "Epoch:        308 | Training loss: 0.26424660678663897 | Validation loss: 0.42831987824214335\n",
      "Epoch:        309 | Training loss: 0.26384720165744213 | Validation loss: 0.4281187779385575\n",
      "Epoch:        310 | Training loss: 0.26344909205352957 | Validation loss: 0.42793406315306326\n",
      "Epoch:        311 | Training loss: 0.26305248777656515 | Validation loss: 0.4277382895928163\n",
      "Epoch:        312 | Training loss: 0.2626577524253129 | Validation loss: 0.4275172004965311\n",
      "Epoch:        313 | Training loss: 0.2622647304426624 | Validation loss: 0.4273075420841991\n",
      "Epoch:        314 | Training loss: 0.26187214857366264 | Validation loss: 0.42718944341781473\n",
      "Epoch:        315 | Training loss: 0.2614799744369903 | Validation loss: 0.42695951708391744\n",
      "Epoch:        316 | Training loss: 0.26109052360573054 | Validation loss: 0.42674827119056064\n",
      "Epoch:        317 | Training loss: 0.26070332718759526 | Validation loss: 0.42653329119606487\n",
      "Epoch:        318 | Training loss: 0.26031543096135734 | Validation loss: 0.42635712713370055\n",
      "Epoch:        319 | Training loss: 0.2599300288797742 | Validation loss: 0.42616201461778586\n",
      "Epoch:        320 | Training loss: 0.2595465119998346 | Validation loss: 0.4259622187480059\n",
      "Epoch:        321 | Training loss: 0.259162021978057 | Validation loss: 0.42580102393707375\n",
      "Epoch:        322 | Training loss: 0.25878102674300774 | Validation loss: 0.42559489621988933\n",
      "Epoch:        323 | Training loss: 0.2583998525658513 | Validation loss: 0.42545520710869916\n",
      "Epoch:        324 | Training loss: 0.25802064116605533 | Validation loss: 0.4252476206181201\n",
      "Epoch:        325 | Training loss: 0.2576436257548547 | Validation loss: 0.4250402122292205\n",
      "Epoch:        326 | Training loss: 0.2572664441475887 | Validation loss: 0.42489829012761215\n",
      "Epoch:        327 | Training loss: 0.25689109994580045 | Validation loss: 0.42470117684171216\n",
      "Epoch:        328 | Training loss: 0.25651735954087707 | Validation loss: 0.42450353655457135\n",
      "Epoch:        329 | Training loss: 0.25614445518707385 | Validation loss: 0.424337779222284\n",
      "Epoch:        330 | Training loss: 0.25577301071238473 | Validation loss: 0.4241506559701778\n",
      "Epoch:        331 | Training loss: 0.2554041897640804 | Validation loss: 0.4239382583282817\n",
      "Epoch:        332 | Training loss: 0.2550346811380546 | Validation loss: 0.4237672132367234\n",
      "Epoch:        333 | Training loss: 0.2546666015111085 | Validation loss: 0.4235959397518333\n",
      "Epoch:        334 | Training loss: 0.2543006958938394 | Validation loss: 0.4234056030676824\n",
      "Epoch:        335 | Training loss: 0.25393825019071115 | Validation loss: 0.4232001157742092\n",
      "Epoch:        336 | Training loss: 0.2535780459417035 | Validation loss: 0.4230020009022137\n",
      "Epoch:        337 | Training loss: 0.25320951104676404 | Validation loss: 0.4228656526362492\n",
      "Epoch:        338 | Training loss: 0.25284885840949534 | Validation loss: 0.4226812431103983\n",
      "Epoch:        339 | Training loss: 0.2524885006806433 | Validation loss: 0.42250629512935334\n",
      "Epoch:        340 | Training loss: 0.25213102981133173 | Validation loss: 0.4223196749492793\n",
      "Epoch:        341 | Training loss: 0.25176883295065305 | Validation loss: 0.42218553508655604\n",
      "Epoch:        342 | Training loss: 0.25141355378719593 | Validation loss: 0.42199277967677473\n",
      "Epoch:        343 | Training loss: 0.2510555795509604 | Validation loss: 0.42185516280830315\n",
      "Epoch:        344 | Training loss: 0.25070074775306656 | Validation loss: 0.42169790361153386\n",
      "Epoch:        345 | Training loss: 0.25034725115205153 | Validation loss: 0.4215330183867472\n",
      "Epoch:        346 | Training loss: 0.24999558358674123 | Validation loss: 0.4213341384153104\n",
      "Epoch:        347 | Training loss: 0.24964366585315567 | Validation loss: 0.42119529736037203\n",
      "Epoch:        348 | Training loss: 0.24929600146133687 | Validation loss: 0.42097849218655525\n",
      "Epoch:        349 | Training loss: 0.24894596519415768 | Validation loss: 0.42082361100200444\n",
      "Epoch:        350 | Training loss: 0.24859717938803474 | Validation loss: 0.4206775473984057\n",
      "Epoch:        351 | Training loss: 0.24825076200241564 | Validation loss: 0.4205056121667856\n",
      "Epoch:        352 | Training loss: 0.24790490817913785 | Validation loss: 0.42035080557504884\n",
      "Epoch:        353 | Training loss: 0.24756100803650918 | Validation loss: 0.420222437306324\n",
      "Epoch:        354 | Training loss: 0.24721777297460318 | Validation loss: 0.42006204676663034\n",
      "Epoch:        355 | Training loss: 0.24687476233718744 | Validation loss: 0.41987014485291396\n",
      "Epoch:        356 | Training loss: 0.24653380570704053 | Validation loss: 0.4197233666008504\n",
      "Epoch:        357 | Training loss: 0.24619357739540773 | Validation loss: 0.41953147346104364\n"
     ]
    },
    {
     "name": "stdout",
     "output_type": "stream",
     "text": [
      "Epoch:        358 | Training loss: 0.2458558698624229 | Validation loss: 0.4193471182911409\n",
      "Epoch:        359 | Training loss: 0.2455165804589985 | Validation loss: 0.4192126506882012\n",
      "Epoch:        360 | Training loss: 0.24517955844786798 | Validation loss: 0.41906090865577406\n",
      "Epoch:        361 | Training loss: 0.24484481539464428 | Validation loss: 0.4188719641108787\n",
      "Epoch:        362 | Training loss: 0.2445101590099968 | Validation loss: 0.41871188342840426\n",
      "Epoch:        363 | Training loss: 0.24417653031448425 | Validation loss: 0.4185537598580524\n",
      "Epoch:        364 | Training loss: 0.24384283170198784 | Validation loss: 0.41841451014062003\n",
      "Epoch:        365 | Training loss: 0.24351089762153735 | Validation loss: 0.41827779821206845\n",
      "Epoch:        366 | Training loss: 0.24318093854283263 | Validation loss: 0.4181452851955499\n",
      "Epoch:        367 | Training loss: 0.2428508526968094 | Validation loss: 0.4179770220448924\n",
      "Epoch:        368 | Training loss: 0.24252224267584455 | Validation loss: 0.4177963705432299\n",
      "Epoch:        369 | Training loss: 0.24219550823199615 | Validation loss: 0.4176868432177186\n",
      "Epoch:        370 | Training loss: 0.24186824928921882 | Validation loss: 0.4174824918015028\n",
      "Epoch:        371 | Training loss: 0.2415423675858444 | Validation loss: 0.417341127320461\n",
      "Epoch:        372 | Training loss: 0.24121802451596416 | Validation loss: 0.417178320048798\n",
      "Epoch:        373 | Training loss: 0.2408950554438425 | Validation loss: 0.4170141121398922\n",
      "Epoch:        374 | Training loss: 0.24057155724182913 | Validation loss: 0.4168924434223904\n",
      "Epoch:        375 | Training loss: 0.24024995653786183 | Validation loss: 0.416735255539405\n",
      "Epoch:        376 | Training loss: 0.23992966281820097 | Validation loss: 0.41661272682447786\n",
      "Epoch:        377 | Training loss: 0.23960980406826862 | Validation loss: 0.41645909329195846\n",
      "Epoch:        378 | Training loss: 0.23929089959867947 | Validation loss: 0.4162853140382665\n",
      "Epoch:        379 | Training loss: 0.23897318884460142 | Validation loss: 0.4161560019740349\n",
      "Epoch:        380 | Training loss: 0.23865629671746028 | Validation loss: 0.41599114412605004\n",
      "Epoch:        381 | Training loss: 0.2383408229563539 | Validation loss: 0.4158699587510695\n",
      "Epoch:        382 | Training loss: 0.23802557770797994 | Validation loss: 0.41571127196663454\n",
      "Epoch:        383 | Training loss: 0.23771200687868363 | Validation loss: 0.4155789658399173\n",
      "Epoch:        384 | Training loss: 0.23739913648081135 | Validation loss: 0.4154376899314753\n",
      "Epoch:        385 | Training loss: 0.2370871056514189 | Validation loss: 0.41524330947404076\n",
      "Epoch:        386 | Training loss: 0.23677565925504268 | Validation loss: 0.41510565499131885\n",
      "Epoch:        387 | Training loss: 0.23646556333241955 | Validation loss: 0.41495879030473065\n",
      "Epoch:        388 | Training loss: 0.23615587452076295 | Validation loss: 0.41484639806437884\n",
      "Epoch:        389 | Training loss: 0.23584749244114472 | Validation loss: 0.4146852184535048\n",
      "Epoch:        390 | Training loss: 0.2355399787006666 | Validation loss: 0.41456053043791846\n",
      "Epoch:        391 | Training loss: 0.23523360634533666 | Validation loss: 0.4143948319710631\n",
      "Epoch:        392 | Training loss: 0.23492765449119876 | Validation loss: 0.41427613815700665\n",
      "Epoch:        393 | Training loss: 0.23462344698241655 | Validation loss: 0.4141546233955462\n",
      "Epoch:        394 | Training loss: 0.23431890846330272 | Validation loss: 0.41399306378821565\n",
      "Epoch:        395 | Training loss: 0.23401591894025922 | Validation loss: 0.41385769423764673\n",
      "Epoch:        396 | Training loss: 0.2337143151992898 | Validation loss: 0.4137364355717328\n",
      "Epoch:        397 | Training loss: 0.2334125424684175 | Validation loss: 0.41356758861573967\n",
      "Epoch:        398 | Training loss: 0.23311232233817641 | Validation loss: 0.41342268734349574\n",
      "Epoch:        399 | Training loss: 0.23281265732113487 | Validation loss: 0.41329350790053354\n",
      "Epoch:        400 | Training loss: 0.23251446500338943 | Validation loss: 0.4131847479190516\n",
      "Epoch:        401 | Training loss: 0.23221623289499915 | Validation loss: 0.4130196856327241\n",
      "Epoch:        402 | Training loss: 0.2319194123476981 | Validation loss: 0.4128783104910542\n",
      "Epoch:        403 | Training loss: 0.23162315568338251 | Validation loss: 0.4127564292318081\n",
      "Epoch:        404 | Training loss: 0.23132945894095577 | Validation loss: 0.4126597333270198\n",
      "Epoch:        405 | Training loss: 0.23103523233871032 | Validation loss: 0.41252746813821645\n",
      "Epoch:        406 | Training loss: 0.23074005762609492 | Validation loss: 0.41235966222840603\n",
      "Epoch:        407 | Training loss: 0.23044734202679965 | Validation loss: 0.4122254854172502\n",
      "Epoch:        408 | Training loss: 0.2301564450463919 | Validation loss: 0.4121178945154149\n",
      "Epoch:        409 | Training loss: 0.22986534544613435 | Validation loss: 0.4119845336347991\n",
      "Epoch:        410 | Training loss: 0.2295750899821175 | Validation loss: 0.41185211077054246\n",
      "Epoch:        411 | Training loss: 0.2292850512989462 | Validation loss: 0.4116783544298918\n",
      "Epoch:        412 | Training loss: 0.228996299155636 | Validation loss: 0.4115561017141144\n",
      "Epoch:        413 | Training loss: 0.22870856035946097 | Validation loss: 0.41143780456917667\n",
      "Epoch:        414 | Training loss: 0.22842213796317618 | Validation loss: 0.41132509828976765\n",
      "Epoch:        415 | Training loss: 0.2281353725185468 | Validation loss: 0.4111774242308684\n",
      "Epoch:        416 | Training loss: 0.22784998061953296 | Validation loss: 0.4110446136903045\n",
      "Epoch:        417 | Training loss: 0.2275655564290059 | Validation loss: 0.41090459972845195\n",
      "Epoch:        418 | Training loss: 0.22728165725265262 | Validation loss: 0.41078602793471913\n",
      "Epoch:        419 | Training loss: 0.2269999507399692 | Validation loss: 0.41069448062851477\n",
      "Epoch:        420 | Training loss: 0.22671691685556808 | Validation loss: 0.41055226849547843\n",
      "Epoch:        421 | Training loss: 0.22643535165882867 | Validation loss: 0.41042142805645343\n",
      "Epoch:        422 | Training loss: 0.22615458028231267 | Validation loss: 0.4102896127518934\n",
      "Epoch:        423 | Training loss: 0.2258766040221865 | Validation loss: 0.41019906753522206\n",
      "Epoch:        424 | Training loss: 0.22559632450638933 | Validation loss: 0.41005746714587893\n",
      "Epoch:        425 | Training loss: 0.22531729485843677 | Validation loss: 0.4099121894487227\n",
      "Epoch:        426 | Training loss: 0.22504082579429602 | Validation loss: 0.4098148042578583\n",
      "Epoch:        427 | Training loss: 0.22476292303494924 | Validation loss: 0.4096565357196637\n",
      "Epoch:        428 | Training loss: 0.22448809712417683 | Validation loss: 0.409505294802411\n",
      "Epoch:        429 | Training loss: 0.2242132952781394 | Validation loss: 0.40937769142823965\n",
      "Epoch:        430 | Training loss: 0.22393768823377358 | Validation loss: 0.4092708365499367\n",
      "Epoch:        431 | Training loss: 0.22366352389753238 | Validation loss: 0.4091590973771582\n",
      "Epoch:        432 | Training loss: 0.22339043447321397 | Validation loss: 0.40905389980115786\n",
      "Epoch:        433 | Training loss: 0.2231181106068127 | Validation loss: 0.40892317347863405\n",
      "Epoch:        434 | Training loss: 0.2228467986987103 | Validation loss: 0.40879108261364877\n",
      "Epoch:        435 | Training loss: 0.22257570380091632 | Validation loss: 0.4086867698210348\n",
      "Epoch:        436 | Training loss: 0.22230571226701493 | Validation loss: 0.40857504242099213\n",
      "Epoch:        437 | Training loss: 0.22203624272313757 | Validation loss: 0.4084469023348704\n",
      "Epoch:        438 | Training loss: 0.22176904716287385 | Validation loss: 0.4083633529987958\n",
      "Epoch:        439 | Training loss: 0.22150015483384988 | Validation loss: 0.4082282170460054\n",
      "Epoch:        440 | Training loss: 0.2212328098628687 | Validation loss: 0.408105948109107\n",
      "Epoch:        441 | Training loss: 0.22096693810609863 | Validation loss: 0.4080009156357633\n",
      "Epoch:        442 | Training loss: 0.220700399708208 | Validation loss: 0.4078651903572045\n",
      "Epoch:        443 | Training loss: 0.22043521937609176 | Validation loss: 0.4077371894985217\n",
      "Epoch:        444 | Training loss: 0.22017185827724728 | Validation loss: 0.4075950301320391\n",
      "Epoch:        445 | Training loss: 0.21990728801701112 | Validation loss: 0.40750055127956286\n",
      "Epoch:        446 | Training loss: 0.21964437223668085 | Validation loss: 0.4073974417503937\n",
      "Epoch:        447 | Training loss: 0.21938233034850121 | Validation loss: 0.40729106579573143\n"
     ]
    },
    {
     "name": "stdout",
     "output_type": "stream",
     "text": [
      "Epoch:        448 | Training loss: 0.21912091496029498 | Validation loss: 0.40718057663716634\n",
      "Epoch:        449 | Training loss: 0.21885999419925334 | Validation loss: 0.40706495675263\n",
      "Epoch:        450 | Training loss: 0.21859952828562224 | Validation loss: 0.40694336945652976\n",
      "Epoch:        451 | Training loss: 0.21834029345426975 | Validation loss: 0.4068377678530383\n",
      "Epoch:        452 | Training loss: 0.21808134076779062 | Validation loss: 0.406691713827346\n",
      "Epoch:        453 | Training loss: 0.21782310367567237 | Validation loss: 0.4065816102267918\n",
      "Epoch:        454 | Training loss: 0.2175656833106895 | Validation loss: 0.40646754676537133\n",
      "Epoch:        455 | Training loss: 0.217308975111601 | Validation loss: 0.40638406021940626\n",
      "Epoch:        456 | Training loss: 0.2170546879049753 | Validation loss: 0.4062178157201805\n",
      "Epoch:        457 | Training loss: 0.21679780830955442 | Validation loss: 0.406122533552396\n",
      "Epoch:        458 | Training loss: 0.21654235153805432 | Validation loss: 0.4060297893990572\n",
      "Epoch:        459 | Training loss: 0.21628826169531626 | Validation loss: 0.4059321815045657\n",
      "Epoch:        460 | Training loss: 0.21603497903166827 | Validation loss: 0.40582921585326526\n",
      "Epoch:        461 | Training loss: 0.21578452337228538 | Validation loss: 0.40575360167351954\n",
      "Epoch:        462 | Training loss: 0.21552985925759616 | Validation loss: 0.40560570190782785\n",
      "Epoch:        463 | Training loss: 0.21527866028822612 | Validation loss: 0.40546666893646716\n",
      "Epoch:        464 | Training loss: 0.21502779997228305 | Validation loss: 0.4053574184458678\n",
      "Epoch:        465 | Training loss: 0.21477704088410238 | Validation loss: 0.40526742571201174\n",
      "Epoch:        466 | Training loss: 0.2145277155093855 | Validation loss: 0.40514644479554823\n",
      "Epoch:        467 | Training loss: 0.21427883044166085 | Validation loss: 0.40503666812230976\n",
      "Epoch:        468 | Training loss: 0.21403012713098787 | Validation loss: 0.4049490213929041\n",
      "Epoch:        469 | Training loss: 0.21378302797452328 | Validation loss: 0.404861865928374\n",
      "Epoch:        470 | Training loss: 0.2135355850945529 | Validation loss: 0.40474668008452674\n",
      "Epoch:        471 | Training loss: 0.21329115521001785 | Validation loss: 0.40467110847791815\n",
      "Epoch:        472 | Training loss: 0.21304348509055784 | Validation loss: 0.40453909683895434\n",
      "Epoch:        473 | Training loss: 0.21279797875886536 | Validation loss: 0.4044249470927188\n",
      "Epoch:        474 | Training loss: 0.21255326509891273 | Validation loss: 0.4043112070855892\n",
      "Epoch:        475 | Training loss: 0.21230945759936243 | Validation loss: 0.4041944306728286\n",
      "Epoch:        476 | Training loss: 0.21206594407610685 | Validation loss: 0.4040990130970394\n",
      "Epoch:        477 | Training loss: 0.21182334642530057 | Validation loss: 0.40398611667733986\n",
      "Epoch:        478 | Training loss: 0.21158124458590985 | Validation loss: 0.40388059664934345\n",
      "Epoch:        479 | Training loss: 0.21134230198474288 | Validation loss: 0.4037470988091057\n",
      "Epoch:        480 | Training loss: 0.21109994650584202 | Validation loss: 0.40365635354536245\n",
      "Epoch:        481 | Training loss: 0.21085920074112663 | Validation loss: 0.40355892173743824\n",
      "Epoch:        482 | Training loss: 0.21061878865550285 | Validation loss: 0.4034691336682451\n",
      "Epoch:        483 | Training loss: 0.21037991407754703 | Validation loss: 0.4033990321574138\n",
      "Epoch:        484 | Training loss: 0.21014467292762118 | Validation loss: 0.4033349054703899\n",
      "Epoch:        485 | Training loss: 0.20990482458604617 | Validation loss: 0.40321496127267026\n",
      "Epoch:        486 | Training loss: 0.20966614337327721 | Validation loss: 0.40309413790252696\n",
      "Epoch:        487 | Training loss: 0.20943071132361998 | Validation loss: 0.4030129848616822\n",
      "Epoch:        488 | Training loss: 0.20919345671230677 | Validation loss: 0.40289792767882304\n",
      "Epoch:        489 | Training loss: 0.2089574813503881 | Validation loss: 0.4027905531892129\n",
      "Epoch:        490 | Training loss: 0.20872253739508823 | Validation loss: 0.40265675362381054\n",
      "Epoch:        491 | Training loss: 0.2084877810535611 | Validation loss: 0.40256586857786614\n",
      "Epoch:        492 | Training loss: 0.20825387315981012 | Validation loss: 0.40246925609676687\n",
      "Epoch:        493 | Training loss: 0.20802115104961932 | Validation loss: 0.4023561213256771\n",
      "Epoch:        494 | Training loss: 0.2077884911416652 | Validation loss: 0.40225708315537545\n",
      "Epoch:        495 | Training loss: 0.20755592284852165 | Validation loss: 0.4021929651274633\n",
      "Epoch:        496 | Training loss: 0.2073262520493661 | Validation loss: 0.4021247120528588\n",
      "Epoch:        497 | Training loss: 0.20709420304959614 | Validation loss: 0.40201468929635453\n",
      "Epoch:        498 | Training loss: 0.2068627555530405 | Validation loss: 0.40189749156180526\n",
      "Epoch:        499 | Training loss: 0.206632745655962 | Validation loss: 0.40179490798290757\n"
     ]
    }
   ],
   "source": [
    "weight, train_loss_count, dev_loss_count = SGD(X_tr=train_count_vector,\n",
    "                                             Y_tr=train_labels,\n",
    "                                             X_dev=dev_count_vector,\n",
    "                                             Y_dev=dev_labels,\n",
    "                                             lr=best_hyperparams[0],\n",
    "                                             alpha=best_hyperparams[1],\n",
    "                                             tolerance=0.00001,\n",
    "                                             epochs=500,\n",
    "                                             print_progress=True)"
   ]
  },
  {
   "cell_type": "markdown",
   "metadata": {},
   "source": [
    "Now plot the training and validation history per epoch for the best hyperparameter combination. Does your model underfit, overfit or is it about right? Explain why."
   ]
  },
  {
   "cell_type": "code",
   "execution_count": 167,
   "metadata": {
    "ExecuteTime": {
     "end_time": "2020-02-15T14:17:51.598911Z",
     "start_time": "2020-02-15T14:17:51.482307Z"
    }
   },
   "outputs": [
    {
     "data": {
      "image/png": "[encoded data removed]",
      "text/plain": [
       "<Figure size 432x288 with 1 Axes>"
      ]
     },
     "metadata": {
      "needs_background": "light"
     },
     "output_type": "display_data"
    }
   ],
   "source": [
    "plt.plot(train_loss_count, label='Training loss')\n",
    "plt.plot(dev_loss_count, label='Validation loss')\n",
    "\n",
    "plt.xlabel('Epochs')\n",
    "plt.ylabel('Loss')\n",
    "\n",
    "plt.title('Training loss vs Validation loss (BOW - Count)')\n",
    "\n",
    "plt.legend()\n",
    "\n",
    "plt.show()"
   ]
  },
  {
   "cell_type": "markdown",
   "metadata": {
    "ExecuteTime": {
     "end_time": "2020-01-21T16:52:26.583150Z",
     "start_time": "2020-01-21T16:52:26.578754Z"
    }
   },
   "source": [
    "Explain here..."
   ]
  },
  {
   "cell_type": "markdown",
   "metadata": {},
   "source": [
    "#### Evaluation\n",
    "\n",
    "Compute accuracy, precision, recall and F1-scores:"
   ]
  },
  {
   "cell_type": "code",
   "execution_count": 42,
   "metadata": {
    "ExecuteTime": {
     "end_time": "2020-02-15T14:17:51.607940Z",
     "start_time": "2020-02-15T14:17:51.600272Z"
    },
    "scrolled": true
   },
   "outputs": [
    {
     "name": "stdout",
     "output_type": "stream",
     "text": [
      "Accuracy: 0.845\n",
      "Precision: 0.8349514563106796\n",
      "Recall: 0.86\n",
      "F1-Score: 0.8472906403940887\n"
     ]
    }
   ],
   "source": [
    "preds_te_count = predict_class(test_count_vector, weight)\n",
    "\n",
    "print('Accuracy:', accuracy_score(test_labels,preds_te_count))\n",
    "print('Precision:', precision_score(test_labels,preds_te_count))\n",
    "print('Recall:', recall_score(test_labels,preds_te_count))\n",
    "print('F1-Score:', f1_score(test_labels,preds_te_count))"
   ]
  },
  {
   "cell_type": "markdown",
   "metadata": {},
   "source": [
    "Finally, print the top-10 words for the negative and positive class respectively."
   ]
  },
  {
   "cell_type": "code",
   "execution_count": 43,
   "metadata": {
    "ExecuteTime": {
     "end_time": "2020-02-15T14:17:51.613935Z",
     "start_time": "2020-02-15T14:17:51.610660Z"
    }
   },
   "outputs": [
    {
     "name": "stdout",
     "output_type": "stream",
     "text": [
      "('bad',)\n",
      "('only',)\n",
      "('plot',)\n",
      "('worst',)\n",
      "('unfortunately',)\n",
      "('script',)\n",
      "('why',)\n",
      "('boring',)\n",
      "('nothing',)\n",
      "('any',)\n"
     ]
    }
   ],
   "source": [
    "top_negative_words = weight.argsort()[:10]\n",
    "for i in top_negative_words:\n",
    "    print(vocab_word[i])"
   ]
  },
  {
   "cell_type": "code",
   "execution_count": 44,
   "metadata": {
    "ExecuteTime": {
     "end_time": "2020-02-15T14:17:51.624122Z",
     "start_time": "2020-02-15T14:17:51.615674Z"
    }
   },
   "outputs": [
    {
     "name": "stdout",
     "output_type": "stream",
     "text": [
      "('great',)\n",
      "('well',)\n",
      "('also',)\n",
      "('seen',)\n",
      "('life',)\n",
      "('world',)\n",
      "('many',)\n",
      "('see',)\n",
      "('very',)\n",
      "('fun',)\n"
     ]
    }
   ],
   "source": [
    "top_positive_words = weight.argsort()[::-1][:10]\n",
    "for i in top_positive_words:\n",
    "    print(vocab_word[i])"
   ]
  },
  {
   "cell_type": "markdown",
   "metadata": {},
   "source": [
    "If we were to apply the classifier we've learned into a different domain such laptop reviews or restaurant reviews, do you think these features would generalise well? Can you propose what features the classifier could pick up as important in the new domain?"
   ]
  },
  {
   "cell_type": "markdown",
   "metadata": {},
   "source": [
    "#### This classifier is trained on movie reviews data. Word count are the features we used to train this classfier and therefore if we were to apply this classifer in different domain such as laptop review or restaurant review, Most probably it would classify reviews correctly as reviews are either positive or negative, given that reviews are positive if the words used are among the top positive words and negative reviews contain words from top negative words of this classifier.\n",
    "\n",
    "#### But, Restaurant and laptop reviews use different words to express positive and negative. In case of restaurant reviews,positive words like 'Delicious','Amazing','Welcomed','Cozy','Luxurious','Atmosphere',etc. And negative words like 'Unequipped','Snappy','mediocre',etc. And in case of Laptop reviews,positive words like 'Budget-friendly','fast','productivity','Gaming','Performance',etc. And negative words like 'Unsatisfied','Unhygenic',etc.\n",
    "#### The above mentioned words are features that can be important in the new domain. I think that this classifier would not generalise well in different domains."
   ]
  },
  {
   "cell_type": "markdown",
   "metadata": {},
   "source": [
    "### Discuss how did you choose model hyperparameters (e.g. learning rate and regularisation strength)? What is the relation between training epochs and learning rate? How the regularisation strength affects performance?"
   ]
  },
  {
   "cell_type": "markdown",
   "metadata": {},
   "source": [
    "#### Generated 5 different values using logspace and linspace and trained the model for all 25 different variations and selected the best hyperparameter from the results. From online review i found out that learning rate range is between 0.0001 to 0.01.\n",
    "\n",
    "#### If learning rate is too high then the cost function will converge very fast or in less epochs which may result in underfitting. if learning rate is too low then the cost function will converge very slow or takes higher epochs. Each epoch results in a larger weight update. Consequently, a higher learning rate will result in fewer convergence epochs.\n",
    "\n",
    "#### from the above trails, it can observed that tiny changes in the regularization parameter affects the number of epochs required for convergence"
   ]
  },
  {
   "cell_type": "markdown",
   "metadata": {},
   "source": [
    "## Train and Evaluate Logistic Regression with TF.IDF vectors\n",
    "\n",
    "Follow the same steps as above (i.e. evaluating count n-gram representations).\n"
   ]
  },
  {
   "cell_type": "code",
   "execution_count": 168,
   "metadata": {},
   "outputs": [
    {
     "name": "stdout",
     "output_type": "stream",
     "text": [
      "\n",
      "Hyper Parameters -- Learning Rate - 1e-05  Regularization Parameter- 1e-05\n",
      "\n",
      "Hyper Parameters -- Learning Rate - 1e-05  Regularization Parameter- 6.309573444801929e-05\n",
      "\n",
      "Hyper Parameters -- Learning Rate - 1e-05  Regularization Parameter- 0.00039810717055349735\n",
      "\n",
      "Hyper Parameters -- Learning Rate - 1e-05  Regularization Parameter- 0.002511886431509582\n",
      "\n",
      "Hyper Parameters -- Learning Rate - 1e-05  Regularization Parameter- 0.01584893192461114\n",
      "\n",
      "Hyper Parameters -- Learning Rate - 0.0020080000000000002  Regularization Parameter- 1e-05\n",
      "\n",
      "Hyper Parameters -- Learning Rate - 0.0020080000000000002  Regularization Parameter- 6.309573444801929e-05\n",
      "\n",
      "Hyper Parameters -- Learning Rate - 0.0020080000000000002  Regularization Parameter- 0.00039810717055349735\n",
      "\n",
      "Hyper Parameters -- Learning Rate - 0.0020080000000000002  Regularization Parameter- 0.002511886431509582\n",
      "\n",
      "Hyper Parameters -- Learning Rate - 0.0020080000000000002  Regularization Parameter- 0.01584893192461114\n",
      "\n",
      "Hyper Parameters -- Learning Rate - 0.004006  Regularization Parameter- 1e-05\n",
      "\n",
      "Hyper Parameters -- Learning Rate - 0.004006  Regularization Parameter- 6.309573444801929e-05\n",
      "\n",
      "Hyper Parameters -- Learning Rate - 0.004006  Regularization Parameter- 0.00039810717055349735\n",
      "\n",
      "Hyper Parameters -- Learning Rate - 0.004006  Regularization Parameter- 0.002511886431509582\n",
      "\n",
      "Hyper Parameters -- Learning Rate - 0.004006  Regularization Parameter- 0.01584893192461114\n",
      "\n",
      "Hyper Parameters -- Learning Rate - 0.006004000000000001  Regularization Parameter- 1e-05\n",
      "\n",
      "Hyper Parameters -- Learning Rate - 0.006004000000000001  Regularization Parameter- 6.309573444801929e-05\n",
      "\n",
      "Hyper Parameters -- Learning Rate - 0.006004000000000001  Regularization Parameter- 0.00039810717055349735\n",
      "\n",
      "Hyper Parameters -- Learning Rate - 0.006004000000000001  Regularization Parameter- 0.002511886431509582\n",
      "\n",
      "Hyper Parameters -- Learning Rate - 0.006004000000000001  Regularization Parameter- 0.01584893192461114\n",
      "\n",
      "Hyper Parameters -- Learning Rate - 0.008002  Regularization Parameter- 1e-05\n",
      "\n",
      "Hyper Parameters -- Learning Rate - 0.008002  Regularization Parameter- 6.309573444801929e-05\n",
      "\n",
      "Hyper Parameters -- Learning Rate - 0.008002  Regularization Parameter- 0.00039810717055349735\n",
      "\n",
      "Hyper Parameters -- Learning Rate - 0.008002  Regularization Parameter- 0.002511886431509582\n",
      "\n",
      "Hyper Parameters -- Learning Rate - 0.008002  Regularization Parameter- 0.01584893192461114\n"
     ]
    }
   ],
   "source": [
    "#hyper paramater tuning for BOW-tfidf\n",
    "train_loss_history =[]\n",
    "validation_loss_history=[]\n",
    "hyperparam_history=[]\n",
    "#\n",
    "for lr_i in lr:\n",
    "    for alpha_i in alpha:\n",
    "        print('\\nHyper Parameters -- Learning Rate -',lr_i,' Regularization Parameter-',alpha_i)\n",
    "        weight, train_loss_count, dev_loss_count = SGD(X_tr=train_tf_idf,\n",
    "                                             Y_tr=train_labels,\n",
    "                                             X_dev=dev_tf_idf,\n",
    "                                             Y_dev=dev_labels,\n",
    "                                             lr=lr_i,\n",
    "                                             alpha=alpha_i,\n",
    "                                             tolerance=0.00001,\n",
    "                                             epochs=800,\n",
    "                                             print_progress=False)\n",
    "        if len(train_loss_count) > 40:\n",
    "            train_loss_history.append(train_loss_count[-1])\n",
    "            validation_loss_history.append(dev_loss_count[-1])\n",
    "            hyperparam_history.append([lr_i,alpha_i])\n",
    "     \n",
    "\n"
   ]
  },
  {
   "cell_type": "code",
   "execution_count": 169,
   "metadata": {},
   "outputs": [
    {
     "name": "stdout",
     "output_type": "stream",
     "text": [
      "BOW-TFIDF\n",
      "Best Training loss - 0.01744929454307362,best_validation_loss-0.3313827620476839,\n",
      "best_hyperparams-[0.008002, 1e-05]\n"
     ]
    }
   ],
   "source": [
    "#get the best hyper parameters\n",
    "temp = np.array(train_loss_history)\n",
    "train_loss_history_sortidx = np.argsort(temp)\n",
    "\n",
    "best_train_loss_BOW_tfidf = temp[train_loss_history_sortidx[0]]\n",
    "best_validation_loss_BOW_tfidf = validation_loss_history[train_loss_history_sortidx[0]]\n",
    "best_hyperparams_BOW_tfidf=hyperparam_history[train_loss_history_sortidx[0]]\n",
    "\n",
    "print(\"BOW-TFIDF\")\n",
    "print(f'Best Training loss - {best_train_loss_BOW_tfidf},best_validation_loss-{best_validation_loss_BOW_tfidf},\\nbest_hyperparams-{best_hyperparams_BOW_tfidf}')\n",
    "\n"
   ]
  },
  {
   "cell_type": "code",
   "execution_count": 170,
   "metadata": {
    "scrolled": true
   },
   "outputs": [
    {
     "name": "stdout",
     "output_type": "stream",
     "text": [
      "Epoch:          0 | Training loss: 0.5000687628863478 | Validation loss: 0.5943528148320568\n",
      "Epoch:          1 | Training loss: 0.39920986884994153 | Validation loss: 0.5428902906558546\n",
      "Epoch:          2 | Training loss: 0.33499138039352355 | Validation loss: 0.508580032542277\n",
      "Epoch:          3 | Training loss: 0.29000179667592907 | Validation loss: 0.4845671543225173\n",
      "Epoch:          4 | Training loss: 0.25627014471622933 | Validation loss: 0.46684129906035027\n",
      "Epoch:          5 | Training loss: 0.2297458089909241 | Validation loss: 0.45205353662995096\n",
      "Epoch:          6 | Training loss: 0.20825335037158837 | Validation loss: 0.440253446789454\n",
      "Epoch:          7 | Training loss: 0.19063950647322533 | Validation loss: 0.4307245702563378\n",
      "Epoch:          8 | Training loss: 0.17571415147854116 | Validation loss: 0.4223184849980601\n",
      "Epoch:          9 | Training loss: 0.16313514118760217 | Validation loss: 0.4154286345989037\n",
      "Epoch:         10 | Training loss: 0.15233302691037892 | Validation loss: 0.4095581931210676\n",
      "Epoch:         11 | Training loss: 0.14248769777094802 | Validation loss: 0.4033856303816895\n",
      "Epoch:         12 | Training loss: 0.13402776573644645 | Validation loss: 0.3985700575132637\n",
      "Epoch:         13 | Training loss: 0.12659288795590481 | Validation loss: 0.3944502399601706\n",
      "Epoch:         14 | Training loss: 0.11984430551756174 | Validation loss: 0.3903455132172136\n",
      "Epoch:         15 | Training loss: 0.11383599085876578 | Validation loss: 0.3868023405782895\n",
      "Epoch:         16 | Training loss: 0.10840242385149411 | Validation loss: 0.3837186499239702\n",
      "Epoch:         17 | Training loss: 0.10347369225721091 | Validation loss: 0.3808620681655126\n",
      "Epoch:         18 | Training loss: 0.09894391240847246 | Validation loss: 0.3779948549001507\n",
      "Epoch:         19 | Training loss: 0.09479263724454472 | Validation loss: 0.37558441628371925\n",
      "Epoch:         20 | Training loss: 0.09098871924656077 | Validation loss: 0.3732604072060216\n",
      "Epoch:         21 | Training loss: 0.08748261549740667 | Validation loss: 0.3711773375441949\n",
      "Epoch:         22 | Training loss: 0.08427194176593678 | Validation loss: 0.36940727045842037\n",
      "Epoch:         23 | Training loss: 0.08123619623984052 | Validation loss: 0.36742806644112663\n",
      "Epoch:         24 | Training loss: 0.0784718329233569 | Validation loss: 0.365931564740213\n",
      "Epoch:         25 | Training loss: 0.0758300103311477 | Validation loss: 0.3642032708495659\n",
      "Epoch:         26 | Training loss: 0.07340995328355328 | Validation loss: 0.36284864239845566\n",
      "Epoch:         27 | Training loss: 0.07111099828057926 | Validation loss: 0.3613707816523887\n",
      "Epoch:         28 | Training loss: 0.06896805999201652 | Validation loss: 0.36005571733005015\n",
      "Epoch:         29 | Training loss: 0.06696821305405734 | Validation loss: 0.3589500726377199\n",
      "Epoch:         30 | Training loss: 0.06505900340137155 | Validation loss: 0.3576963856805789\n",
      "Epoch:         31 | Training loss: 0.06327138240390888 | Validation loss: 0.35662330068380554\n",
      "Epoch:         32 | Training loss: 0.06158389751687704 | Validation loss: 0.35562200620074175\n",
      "Epoch:         33 | Training loss: 0.05998304066038968 | Validation loss: 0.3545915982541497\n",
      "Epoch:         34 | Training loss: 0.05846767805412077 | Validation loss: 0.3537046399996238\n",
      "Epoch:         35 | Training loss: 0.057030512281680615 | Validation loss: 0.35283445001143626\n",
      "Epoch:         36 | Training loss: 0.05566514411310914 | Validation loss: 0.35198189105898847\n",
      "Epoch:         37 | Training loss: 0.05436655515442238 | Validation loss: 0.35121852830235784\n",
      "Epoch:         38 | Training loss: 0.05313005394056189 | Validation loss: 0.35045231369952434\n",
      "Epoch:         39 | Training loss: 0.05195298579768281 | Validation loss: 0.3497083703444011\n",
      "Epoch:         40 | Training loss: 0.05082831246401901 | Validation loss: 0.3490283060562943\n",
      "Epoch:         41 | Training loss: 0.04975474675976106 | Validation loss: 0.34836949714068877\n",
      "Epoch:         42 | Training loss: 0.048725894556434356 | Validation loss: 0.3477654647826584\n",
      "Epoch:         43 | Training loss: 0.047744689540984465 | Validation loss: 0.3471533286132313\n",
      "Epoch:         44 | Training loss: 0.04680148307650878 | Validation loss: 0.34661173051075067\n",
      "Epoch:         45 | Training loss: 0.04589910487292043 | Validation loss: 0.3460751346028658\n",
      "Epoch:         46 | Training loss: 0.04503588589591633 | Validation loss: 0.3456048042068136\n",
      "Epoch:         47 | Training loss: 0.044207019153829595 | Validation loss: 0.34513449972913707\n",
      "Epoch:         48 | Training loss: 0.04340392498276445 | Validation loss: 0.3445985532478361\n",
      "Epoch:         49 | Training loss: 0.042637540722205304 | Validation loss: 0.34407803320067815\n",
      "Epoch:         50 | Training loss: 0.041897683744451686 | Validation loss: 0.343644673588846\n",
      "Epoch:         51 | Training loss: 0.041186406606258635 | Validation loss: 0.3432171744362746\n",
      "Epoch:         52 | Training loss: 0.04050214149427618 | Validation loss: 0.34280107332000886\n",
      "Epoch:         53 | Training loss: 0.039838472686686846 | Validation loss: 0.3424492154248247\n",
      "Epoch:         54 | Training loss: 0.03920083530317034 | Validation loss: 0.34207726694126506\n",
      "Epoch:         55 | Training loss: 0.038586243896331 | Validation loss: 0.3416829828891649\n",
      "Epoch:         56 | Training loss: 0.037990995766305054 | Validation loss: 0.3413623338245357\n",
      "Epoch:         57 | Training loss: 0.037416608888609725 | Validation loss: 0.3410251916844907\n",
      "Epoch:         58 | Training loss: 0.036862197232481526 | Validation loss: 0.34074158648316233\n",
      "Epoch:         59 | Training loss: 0.03632418577979033 | Validation loss: 0.3404001600189022\n",
      "Epoch:         60 | Training loss: 0.03580426195842193 | Validation loss: 0.3400921748685252\n",
      "Epoch:         61 | Training loss: 0.03530095823851452 | Validation loss: 0.3398081961741603\n",
      "Epoch:         62 | Training loss: 0.03481335658487021 | Validation loss: 0.3395307243473487\n",
      "Epoch:         63 | Training loss: 0.03434078716764366 | Validation loss: 0.3392590047153974\n",
      "Epoch:         64 | Training loss: 0.033882648325428456 | Validation loss: 0.3389668115105515\n",
      "Epoch:         65 | Training loss: 0.03343850865205626 | Validation loss: 0.3387050553369445\n",
      "Epoch:         66 | Training loss: 0.033006930826666184 | Validation loss: 0.3385074418202704\n",
      "Epoch:         67 | Training loss: 0.03258920513097954 | Validation loss: 0.3383038340574391\n",
      "Epoch:         68 | Training loss: 0.03218163261075827 | Validation loss: 0.338046363280083\n",
      "Epoch:         69 | Training loss: 0.03178629337640348 | Validation loss: 0.33780109422050436\n",
      "Epoch:         70 | Training loss: 0.031402514070550426 | Validation loss: 0.3376093395616946\n",
      "Epoch:         71 | Training loss: 0.031029560074560487 | Validation loss: 0.33735488880841347\n",
      "Epoch:         72 | Training loss: 0.03066609809750166 | Validation loss: 0.3371646563922275\n",
      "Epoch:         73 | Training loss: 0.030312745844919605 | Validation loss: 0.33700183932381633\n",
      "Epoch:         74 | Training loss: 0.029968846446398203 | Validation loss: 0.33680381273570686\n",
      "Epoch:         75 | Training loss: 0.0296340976847317 | Validation loss: 0.3366198013180812\n",
      "Epoch:         76 | Training loss: 0.02930830664275227 | Validation loss: 0.3364621001448229\n",
      "Epoch:         77 | Training loss: 0.028990597794295865 | Validation loss: 0.3362849941568476\n",
      "Epoch:         78 | Training loss: 0.028681079741042836 | Validation loss: 0.33611683807384296\n",
      "Epoch:         79 | Training loss: 0.028379361638838807 | Validation loss: 0.3359514616461552\n",
      "Epoch:         80 | Training loss: 0.02808527811401247 | Validation loss: 0.33580265218258326\n",
      "Epoch:         81 | Training loss: 0.027798322924846183 | Validation loss: 0.3356434873278126\n",
      "Epoch:         82 | Training loss: 0.027518510138858504 | Validation loss: 0.33550830805641896\n",
      "Epoch:         83 | Training loss: 0.02724573828754203 | Validation loss: 0.33538803309271953\n",
      "Epoch:         84 | Training loss: 0.026978785788872795 | Validation loss: 0.3352062187187219\n",
      "Epoch:         85 | Training loss: 0.026718982460657854 | Validation loss: 0.33505200424436715\n",
      "Epoch:         86 | Training loss: 0.02646421128843187 | Validation loss: 0.3349557961906654\n",
      "Epoch:         87 | Training loss: 0.02621588230609095 | Validation loss: 0.33482626147780936\n"
     ]
    },
    {
     "name": "stdout",
     "output_type": "stream",
     "text": [
      "Epoch:         88 | Training loss: 0.025973306720391248 | Validation loss: 0.334695588240145\n",
      "Epoch:         89 | Training loss: 0.025736477503264833 | Validation loss: 0.3345627173753212\n",
      "Epoch:         90 | Training loss: 0.025504439328551183 | Validation loss: 0.33445741962174685\n",
      "Epoch:         91 | Training loss: 0.025278057005136287 | Validation loss: 0.33433456728305166\n",
      "Epoch:         92 | Training loss: 0.025055991256853295 | Validation loss: 0.334248096385748\n",
      "Epoch:         93 | Training loss: 0.02483917047448617 | Validation loss: 0.3341666762470636\n",
      "Epoch:         94 | Training loss: 0.024627020160449292 | Validation loss: 0.334040682245154\n",
      "Epoch:         95 | Training loss: 0.024419490226773043 | Validation loss: 0.3339347650191625\n",
      "Epoch:         96 | Training loss: 0.024216176467809953 | Validation loss: 0.33386107894527284\n",
      "Epoch:         97 | Training loss: 0.02401729117559786 | Validation loss: 0.3337511055608183\n",
      "Epoch:         98 | Training loss: 0.023822449933726477 | Validation loss: 0.3336680807760572\n",
      "Epoch:         99 | Training loss: 0.023631693085793673 | Validation loss: 0.3335947989473549\n",
      "Epoch:        100 | Training loss: 0.023444789830848127 | Validation loss: 0.3335013088546437\n",
      "Epoch:        101 | Training loss: 0.023261700463329465 | Validation loss: 0.33342095818581724\n",
      "Epoch:        102 | Training loss: 0.023082305451976218 | Validation loss: 0.33334607710168085\n",
      "Epoch:        103 | Training loss: 0.022906521582143832 | Validation loss: 0.3332759015791804\n",
      "Epoch:        104 | Training loss: 0.0227340970849175 | Validation loss: 0.33318702999270644\n",
      "Epoch:        105 | Training loss: 0.022565143720884504 | Validation loss: 0.33312356323495407\n",
      "Epoch:        106 | Training loss: 0.022399469327307974 | Validation loss: 0.33305655261512557\n",
      "Epoch:        107 | Training loss: 0.0222368847679602 | Validation loss: 0.3329729849120309\n",
      "Epoch:        108 | Training loss: 0.02207749680342985 | Validation loss: 0.33289469335810784\n",
      "Epoch:        109 | Training loss: 0.02192113061749038 | Validation loss: 0.33282530716963094\n",
      "Epoch:        110 | Training loss: 0.021767645850881773 | Validation loss: 0.3327662542743807\n",
      "Epoch:        111 | Training loss: 0.02161702908963536 | Validation loss: 0.33271608733312436\n",
      "Epoch:        112 | Training loss: 0.021469228297094942 | Validation loss: 0.33264829330888546\n",
      "Epoch:        113 | Training loss: 0.021324147223538807 | Validation loss: 0.33258670277555824\n",
      "Epoch:        114 | Training loss: 0.02118166049449371 | Validation loss: 0.33254272246460137\n",
      "Epoch:        115 | Training loss: 0.021041774047631835 | Validation loss: 0.33249063420634306\n",
      "Epoch:        116 | Training loss: 0.020904391487915893 | Validation loss: 0.3324353822707095\n",
      "Epoch:        117 | Training loss: 0.02076947421132589 | Validation loss: 0.3323918789259984\n",
      "Epoch:        118 | Training loss: 0.02063692156264473 | Validation loss: 0.33234279928875377\n",
      "Epoch:        119 | Training loss: 0.020506699687832364 | Validation loss: 0.3322961673250691\n",
      "Epoch:        120 | Training loss: 0.020378755118865943 | Validation loss: 0.33225394356891913\n",
      "Epoch:        121 | Training loss: 0.02025301591277404 | Validation loss: 0.33221187694082394\n",
      "Epoch:        122 | Training loss: 0.020129367463060432 | Validation loss: 0.33215894402804735\n",
      "Epoch:        123 | Training loss: 0.020007895082795914 | Validation loss: 0.33212110423885854\n",
      "Epoch:        124 | Training loss: 0.019888429092080002 | Validation loss: 0.3320748502490112\n",
      "Epoch:        125 | Training loss: 0.019770983660456536 | Validation loss: 0.33203317401255716\n",
      "Epoch:        126 | Training loss: 0.0196555055539041 | Validation loss: 0.3319959486378686\n",
      "Epoch:        127 | Training loss: 0.01954193074632353 | Validation loss: 0.33195592261116164\n",
      "Epoch:        128 | Training loss: 0.019430230777789517 | Validation loss: 0.331910043437494\n",
      "Epoch:        129 | Training loss: 0.01932034696614566 | Validation loss: 0.3318776262994879\n",
      "Epoch:        130 | Training loss: 0.019212250420639027 | Validation loss: 0.33184257203303985\n",
      "Epoch:        131 | Training loss: 0.019105897003508832 | Validation loss: 0.3318090286991676\n",
      "Epoch:        132 | Training loss: 0.019001256499751953 | Validation loss: 0.33177267734265853\n",
      "Epoch:        133 | Training loss: 0.018898267193748496 | Validation loss: 0.3317421755855795\n",
      "Epoch:        134 | Training loss: 0.01879688897932875 | Validation loss: 0.33171568541427576\n",
      "Epoch:        135 | Training loss: 0.018697114552796813 | Validation loss: 0.3316863788727208\n",
      "Epoch:        136 | Training loss: 0.0185989094413352 | Validation loss: 0.33165491499624183\n",
      "Epoch:        137 | Training loss: 0.01850219165944013 | Validation loss: 0.33163282782057507\n",
      "Epoch:        138 | Training loss: 0.018407008644148185 | Validation loss: 0.3316006614351423\n",
      "Epoch:        139 | Training loss: 0.018313214790264962 | Validation loss: 0.3315875633466498\n",
      "Epoch:        140 | Training loss: 0.018220891429279976 | Validation loss: 0.3315590507014351\n",
      "Epoch:        141 | Training loss: 0.018129993139736483 | Validation loss: 0.3315282265213715\n",
      "Epoch:        142 | Training loss: 0.01804050603452024 | Validation loss: 0.3314962386870355\n",
      "Epoch:        143 | Training loss: 0.017952196458610216 | Validation loss: 0.3314833432620698\n",
      "Epoch:        144 | Training loss: 0.017865256602693468 | Validation loss: 0.3314647096970907\n",
      "Epoch:        145 | Training loss: 0.017779596364837884 | Validation loss: 0.3314479889361393\n",
      "Epoch:        146 | Training loss: 0.017695192070307474 | Validation loss: 0.3314326987869932\n",
      "Epoch:        147 | Training loss: 0.017612022061507505 | Validation loss: 0.33141926216947515\n",
      "Epoch:        148 | Training loss: 0.017530066464825536 | Validation loss: 0.3314015231148633\n",
      "Epoch:        149 | Training loss: 0.01744929454307362 | Validation loss: 0.3313827620476839\n"
     ]
    }
   ],
   "source": [
    "weight_tfidf, train_loss_count_tfidf, dev_loss_count_tfidf = SGD(X_tr=train_tf_idf,\n",
    "                                             Y_tr=train_labels,\n",
    "                                             X_dev=dev_tf_idf,\n",
    "                                             Y_dev=dev_labels,\n",
    "                                             lr=best_hyperparams_BOW_tfidf[0],\n",
    "                                             alpha=best_hyperparams_BOW_tfidf[1],\n",
    "                                             tolerance=0.00001,\n",
    "                                             epochs=1000,\n",
    "                                             print_progress=True)"
   ]
  },
  {
   "cell_type": "code",
   "execution_count": 171,
   "metadata": {
    "scrolled": false
   },
   "outputs": [
    {
     "data": {
      "image/png": "[encoded data removed]",
      "text/plain": [
       "<Figure size 432x288 with 1 Axes>"
      ]
     },
     "metadata": {
      "needs_background": "light"
     },
     "output_type": "display_data"
    }
   ],
   "source": [
    "plt.plot(train_loss_count_tfidf, label='Training loss')\n",
    "plt.plot(dev_loss_count_tfidf, label='Validation loss')\n",
    "\n",
    "plt.xlabel('Epochs')\n",
    "plt.ylabel('Loss')\n",
    "\n",
    "plt.title('Training loss vs Validation loss (BOW - TFIDF)')\n",
    "\n",
    "plt.legend()\n",
    "\n",
    "plt.show()"
   ]
  },
  {
   "cell_type": "code",
   "execution_count": 172,
   "metadata": {},
   "outputs": [
    {
     "name": "stdout",
     "output_type": "stream",
     "text": [
      "Accuracy: 0.855\n",
      "Precision: 0.8585858585858586\n",
      "Recall: 0.85\n",
      "F1-Score: 0.8542713567839195\n"
     ]
    }
   ],
   "source": [
    "preds_te_count = predict_class(test_tf_idf, weight)\n",
    "\n",
    "print('Accuracy:', accuracy_score(test_labels,preds_te_count))\n",
    "print('Precision:', precision_score(test_labels,preds_te_count))\n",
    "print('Recall:', recall_score(test_labels,preds_te_count))\n",
    "print('F1-Score:', f1_score(test_labels,preds_te_count))"
   ]
  },
  {
   "cell_type": "markdown",
   "metadata": {},
   "source": [
    "### Top 10 negative and positive Words from BOW-TFIDF"
   ]
  },
  {
   "cell_type": "code",
   "execution_count": 173,
   "metadata": {},
   "outputs": [
    {
     "name": "stdout",
     "output_type": "stream",
     "text": [
      "('worst',)\n",
      "('boring',)\n",
      "('unfortunately',)\n",
      "('supposed',)\n",
      "('waste',)\n",
      "('ridiculous',)\n",
      "('awful',)\n",
      "('poor',)\n",
      "('fails',)\n",
      "('minute',)\n"
     ]
    }
   ],
   "source": [
    "top_negative_words = weight_tfidf.argsort()[:10]\n",
    "for i in top_negative_words:\n",
    "    print(vocab_word[i])"
   ]
  },
  {
   "cell_type": "code",
   "execution_count": 174,
   "metadata": {
    "scrolled": true
   },
   "outputs": [
    {
     "name": "stdout",
     "output_type": "stream",
     "text": [
      "('hilarious',)\n",
      "('perfectly',)\n",
      "('t',)\n",
      "('memorable',)\n",
      "('terrific',)\n",
      "('s', 'life')\n",
      "('overall',)\n",
      "('very', 'well')\n",
      "('excellent',)\n",
      "('definitely',)\n"
     ]
    }
   ],
   "source": [
    "top_positive_words = weight_tfidf.argsort()[::-1][:10]\n",
    "for i in top_positive_words:\n",
    "    print(vocab_word[i])"
   ]
  },
  {
   "cell_type": "markdown",
   "metadata": {},
   "source": [
    "### the top +ve and -ve words seems to be more accurate compared to the BOW-Count"
   ]
  },
  {
   "cell_type": "markdown",
   "metadata": {},
   "source": [
    "### Now repeat the training and evaluation process for BOW-tfidf, BOCN-count, BOCN-tfidf, BOW+BOCN including hyperparameter tuning for each model..."
   ]
  },
  {
   "cell_type": "markdown",
   "metadata": {},
   "source": [
    "## BOCN - Count"
   ]
  },
  {
   "cell_type": "code",
   "execution_count": 52,
   "metadata": {},
   "outputs": [],
   "source": [
    "#generate hyperparameters using logspace\n",
    "lr_c = np.logspace(-7, -4, num = 5)\n",
    "alpha_c = np.logspace(-6, -3, num = 5)\n",
    "\n",
    "# lr_c = np.linspace(0.000001, 0.0001, num = 5,endpoint=False)\n",
    "# alpha_c = np.logspace(-5, -1, num = 5,endpoint=False)"
   ]
  },
  {
   "cell_type": "code",
   "execution_count": 53,
   "metadata": {},
   "outputs": [
    {
     "data": {
      "text/plain": [
       "array([1.00000000e-07, 5.62341325e-07, 3.16227766e-06, 1.77827941e-05,\n",
       "       1.00000000e-04])"
      ]
     },
     "execution_count": 53,
     "metadata": {},
     "output_type": "execute_result"
    }
   ],
   "source": [
    "lr_c"
   ]
  },
  {
   "cell_type": "code",
   "execution_count": 175,
   "metadata": {},
   "outputs": [
    {
     "name": "stdout",
     "output_type": "stream",
     "text": [
      "\n",
      "Hyper Parameters -- Learning Rate - 1e-07  Regularization Parameter- 1e-06\n",
      "\n",
      "Hyper Parameters -- Learning Rate - 1e-07  Regularization Parameter- 5.623413251903491e-06\n",
      "\n",
      "Hyper Parameters -- Learning Rate - 1e-07  Regularization Parameter- 3.1622776601683795e-05\n",
      "\n",
      "Hyper Parameters -- Learning Rate - 1e-07  Regularization Parameter- 0.00017782794100389227\n",
      "\n",
      "Hyper Parameters -- Learning Rate - 1e-07  Regularization Parameter- 0.001\n",
      "\n",
      "Hyper Parameters -- Learning Rate - 5.62341325190349e-07  Regularization Parameter- 1e-06\n",
      "\n",
      "Hyper Parameters -- Learning Rate - 5.62341325190349e-07  Regularization Parameter- 5.623413251903491e-06\n",
      "\n",
      "Hyper Parameters -- Learning Rate - 5.62341325190349e-07  Regularization Parameter- 3.1622776601683795e-05\n",
      "\n",
      "Hyper Parameters -- Learning Rate - 5.62341325190349e-07  Regularization Parameter- 0.00017782794100389227\n",
      "\n",
      "Hyper Parameters -- Learning Rate - 5.62341325190349e-07  Regularization Parameter- 0.001\n",
      "\n",
      "Hyper Parameters -- Learning Rate - 3.162277660168379e-06  Regularization Parameter- 1e-06\n",
      "\n",
      "Hyper Parameters -- Learning Rate - 3.162277660168379e-06  Regularization Parameter- 5.623413251903491e-06\n",
      "\n",
      "Hyper Parameters -- Learning Rate - 3.162277660168379e-06  Regularization Parameter- 3.1622776601683795e-05\n",
      "\n",
      "Hyper Parameters -- Learning Rate - 3.162277660168379e-06  Regularization Parameter- 0.00017782794100389227\n",
      "\n",
      "Hyper Parameters -- Learning Rate - 3.162277660168379e-06  Regularization Parameter- 0.001\n",
      "\n",
      "Hyper Parameters -- Learning Rate - 1.778279410038923e-05  Regularization Parameter- 1e-06\n",
      "\n",
      "Hyper Parameters -- Learning Rate - 1.778279410038923e-05  Regularization Parameter- 5.623413251903491e-06\n",
      "\n",
      "Hyper Parameters -- Learning Rate - 1.778279410038923e-05  Regularization Parameter- 3.1622776601683795e-05\n",
      "\n",
      "Hyper Parameters -- Learning Rate - 1.778279410038923e-05  Regularization Parameter- 0.00017782794100389227\n",
      "\n",
      "Hyper Parameters -- Learning Rate - 1.778279410038923e-05  Regularization Parameter- 0.001\n",
      "\n",
      "Hyper Parameters -- Learning Rate - 0.0001  Regularization Parameter- 1e-06\n",
      "\n",
      "Hyper Parameters -- Learning Rate - 0.0001  Regularization Parameter- 5.623413251903491e-06\n",
      "\n",
      "Hyper Parameters -- Learning Rate - 0.0001  Regularization Parameter- 3.1622776601683795e-05\n",
      "\n",
      "Hyper Parameters -- Learning Rate - 0.0001  Regularization Parameter- 0.00017782794100389227\n",
      "\n",
      "Hyper Parameters -- Learning Rate - 0.0001  Regularization Parameter- 0.001\n"
     ]
    }
   ],
   "source": [
    "#hyper paramater tuning for BOCN count\n",
    "train_loss_history =[]\n",
    "validation_loss_history=[]\n",
    "hyperparam_history=[]\n",
    "#\n",
    "for lr_i in lr_c:\n",
    "    for alpha_i in alpha_c:\n",
    "        print('\\nHyper Parameters -- Learning Rate -',lr_i,' Regularization Parameter-',alpha_i)\n",
    "        weight, train_loss_count, dev_loss_count = SGD(X_tr=train_char_count_vector,\n",
    "                                             Y_tr=train_labels,\n",
    "                                             X_dev=dev_char_count_vector,\n",
    "                                             Y_dev=dev_labels,\n",
    "                                             lr=lr_i,\n",
    "                                             alpha=alpha_i,\n",
    "                                             tolerance=0.00001,\n",
    "                                             epochs=100,\n",
    "                                             print_progress=False)\n",
    "        if len(train_loss_count) > 5:\n",
    "            train_loss_history.append(train_loss_count[-1])\n",
    "            validation_loss_history.append(dev_loss_count[-1])\n",
    "            hyperparam_history.append([lr_i,alpha_i])\n",
    "     "
   ]
  },
  {
   "cell_type": "code",
   "execution_count": 58,
   "metadata": {},
   "outputs": [
    {
     "name": "stdout",
     "output_type": "stream",
     "text": [
      "BOCN\n",
      "Best Training loss - 0.545651012297725,best_validation_loss-0.5882516831593606,\n",
      "best_hyperparams-[3.162277660168379e-06, 1e-06]\n"
     ]
    }
   ],
   "source": [
    "#get the best hyper parameters\n",
    "temp = np.array(train_loss_history)\n",
    "train_loss_history_sortidx = np.argsort(temp)\n",
    "\n",
    "best_train_loss_BOCN = temp[train_loss_history_sortidx[0]]\n",
    "best_validation_loss_BOCN = validation_loss_history[train_loss_history_sortidx[0]]\n",
    "best_hyperparams_BOCN=hyperparam_history[train_loss_history_sortidx[0]]\n",
    "\n",
    "print(\"BOCN\")\n",
    "print(f'Best Training loss - {best_train_loss_BOCN},best_validation_loss-{best_validation_loss_BOCN},\\nbest_hyperparams-{best_hyperparams_BOCN}')\n",
    "\n",
    "\n"
   ]
  },
  {
   "cell_type": "code",
   "execution_count": 132,
   "metadata": {},
   "outputs": [
    {
     "name": "stdout",
     "output_type": "stream",
     "text": [
      "Epoch:          0 | Training loss: 0.6542845694411505 | Validation loss: 0.6657195350794239\n",
      "Epoch:          1 | Training loss: 0.6230437026470058 | Validation loss: 0.6372112595440422\n",
      "Epoch:          2 | Training loss: 0.5978921883310198 | Validation loss: 0.6188192740618566\n",
      "Epoch:          3 | Training loss: 0.5837228648604418 | Validation loss: 0.610550383736873\n",
      "Epoch:          4 | Training loss: 0.5546239444480642 | Validation loss: 0.5889601019749006\n",
      "Epoch:          5 | Training loss: 0.545651012297725 | Validation loss: 0.5882516831593606\n"
     ]
    }
   ],
   "source": [
    "weight_c, train_loss_count_c, dev_loss_count_c = SGD(X_tr=train_char_count_vector,\n",
    "                                             Y_tr=train_labels,\n",
    "                                             X_dev=dev_char_count_vector,\n",
    "                                             Y_dev=dev_labels,\n",
    "                                             lr=best_hyperparams_BOCN[0],\n",
    "                                             alpha=best_hyperparams_BOCN[1],\n",
    "                                             tolerance=1.0e-06,\n",
    "                                             epochs=100,\n",
    "                                             print_progress=True)"
   ]
  },
  {
   "cell_type": "code",
   "execution_count": 133,
   "metadata": {
    "scrolled": true
   },
   "outputs": [
    {
     "data": {
      "image/png": "[encoded data removed]",
      "text/plain": [
       "<Figure size 432x288 with 1 Axes>"
      ]
     },
     "metadata": {
      "needs_background": "light"
     },
     "output_type": "display_data"
    }
   ],
   "source": [
    "plt.plot(train_loss_count_c, label='Training loss')\n",
    "plt.plot(dev_loss_count_c, label='Validation loss')\n",
    "\n",
    "plt.xlabel('Epochs')\n",
    "plt.ylabel('Loss')\n",
    "\n",
    "plt.title('Training loss vs Validation loss (BOCN-Count)')\n",
    "\n",
    "plt.legend()\n",
    "\n",
    "plt.show()"
   ]
  },
  {
   "cell_type": "code",
   "execution_count": 134,
   "metadata": {},
   "outputs": [
    {
     "name": "stdout",
     "output_type": "stream",
     "text": [
      "Accuracy: 0.7575\n",
      "Precision: 0.8601398601398601\n",
      "Recall: 0.615\n",
      "F1-Score: 0.7172011661807579\n"
     ]
    }
   ],
   "source": [
    "preds_te_count = predict_class(test_char_count_vector, weight_c)\n",
    "\n",
    "print('Accuracy:', accuracy_score(test_labels,preds_te_count))\n",
    "print('Precision:', precision_score(test_labels,preds_te_count))\n",
    "print('Recall:', recall_score(test_labels,preds_te_count))\n",
    "print('F1-Score:', f1_score(test_labels,preds_te_count))"
   ]
  },
  {
   "cell_type": "markdown",
   "metadata": {},
   "source": [
    "## Top 10 negative and positive characters BOCN (raw)"
   ]
  },
  {
   "cell_type": "code",
   "execution_count": 135,
   "metadata": {},
   "outputs": [
    {
     "name": "stdout",
     "output_type": "stream",
     "text": [
      "ba\n",
      "ha\n",
      "ad\n",
      "lo\n",
      "ed\n",
      "tt\n",
      "te\n",
      "oo\n",
      "nt\n",
      "in\n"
     ]
    }
   ],
   "source": [
    "top_negative_words = weight_c.argsort()[:10]\n",
    "for i in top_negative_words:\n",
    "    print(vocab_char[i])"
   ]
  },
  {
   "cell_type": "code",
   "execution_count": 136,
   "metadata": {},
   "outputs": [
    {
     "name": "stdout",
     "output_type": "stream",
     "text": [
      "an\n",
      "nd\n",
      "and\n",
      "is\n",
      "al\n",
      "ti\n",
      "tr\n",
      "fe\n",
      "ce\n",
      "ar\n"
     ]
    }
   ],
   "source": [
    "top_positive_words = weight_c.argsort()[::-1][:10]\n",
    "for i in top_positive_words:\n",
    "    print(vocab_char[i])"
   ]
  },
  {
   "cell_type": "markdown",
   "metadata": {},
   "source": [
    "## BOCN - TFIDF"
   ]
  },
  {
   "cell_type": "code",
   "execution_count": 138,
   "metadata": {},
   "outputs": [],
   "source": [
    "lr_ctf = np.linspace(0.00001, 0.0001, num = 5,endpoint=False)\n",
    "alpha_ctf = np.logspace(-7, -3, num = 5)\n"
   ]
  },
  {
   "cell_type": "code",
   "execution_count": 75,
   "metadata": {},
   "outputs": [
    {
     "data": {
      "text/plain": [
       "array([1.0e-05, 2.8e-05, 4.6e-05, 6.4e-05, 8.2e-05])"
      ]
     },
     "execution_count": 75,
     "metadata": {},
     "output_type": "execute_result"
    }
   ],
   "source": [
    "lr_ctf"
   ]
  },
  {
   "cell_type": "code",
   "execution_count": 144,
   "metadata": {
    "scrolled": true
   },
   "outputs": [
    {
     "name": "stdout",
     "output_type": "stream",
     "text": [
      "\n",
      "Hyper Parameters -- Learning Rate - 1e-05  Regularization Parameter- 1e-07\n",
      "Epoch:          0 | Training loss: 0.6923097050658443 | Validation loss: 0.691434878834223\n",
      "Epoch:          1 | Training loss: 0.6916736978092416 | Validation loss: 0.6902072141306621\n",
      "Epoch:          2 | Training loss: 0.691041310581203 | Validation loss: 0.6889905217994519\n",
      "Epoch:          3 | Training loss: 0.6904293177719095 | Validation loss: 0.6878384738718647\n",
      "Epoch:          4 | Training loss: 0.6898063584677643 | Validation loss: 0.6866520309275623\n",
      "Epoch:          5 | Training loss: 0.6891657728388537 | Validation loss: 0.6855150351283098\n",
      "Epoch:          6 | Training loss: 0.6885489178259216 | Validation loss: 0.6844006351054539\n",
      "Epoch:          7 | Training loss: 0.6879275119448535 | Validation loss: 0.6831700715041151\n",
      "Epoch:          8 | Training loss: 0.6873171366132588 | Validation loss: 0.6820315145289538\n",
      "Epoch:          9 | Training loss: 0.6866864582322433 | Validation loss: 0.6809531801897143\n",
      "Epoch:         10 | Training loss: 0.6862197228097303 | Validation loss: 0.6797612973997704\n",
      "Epoch:         11 | Training loss: 0.6854641319524455 | Validation loss: 0.6787645681967001\n",
      "Epoch:         12 | Training loss: 0.6848652056186443 | Validation loss: 0.6776410314056708\n",
      "Epoch:         13 | Training loss: 0.6843401293405951 | Validation loss: 0.6764415696966785\n",
      "Epoch:         14 | Training loss: 0.6836434450614824 | Validation loss: 0.675696076464408\n",
      "Epoch:         15 | Training loss: 0.6830407045632522 | Validation loss: 0.6746179936356802\n",
      "Epoch:         16 | Training loss: 0.6825403661660226 | Validation loss: 0.6732300449948206\n",
      "Epoch:         17 | Training loss: 0.681876258372899 | Validation loss: 0.6723268981748405\n",
      "Epoch:         18 | Training loss: 0.681249970079766 | Validation loss: 0.6715401405834323\n",
      "Epoch:         19 | Training loss: 0.6806558030405516 | Validation loss: 0.6705914409730732\n",
      "Epoch:         20 | Training loss: 0.6800745470153491 | Validation loss: 0.6694446595296744\n",
      "Epoch:         21 | Training loss: 0.6794769141824601 | Validation loss: 0.6686046834306596\n",
      "Epoch:         22 | Training loss: 0.6788897893023201 | Validation loss: 0.6677988376257517\n",
      "Epoch:         23 | Training loss: 0.6783253158903522 | Validation loss: 0.6671754869504061\n",
      "Epoch:         24 | Training loss: 0.6778244008140156 | Validation loss: 0.6651791353379863\n",
      "\n",
      "Hyper Parameters -- Learning Rate - 1e-05  Regularization Parameter- 1e-06\n",
      "Epoch:          0 | Training loss: 0.6923097050763879 | Validation loss: 0.6914348788447668\n",
      "Epoch:          1 | Training loss: 0.691673697844029 | Validation loss: 0.6902072141654512\n",
      "Epoch:          2 | Training loss: 0.6910413106574468 | Validation loss: 0.6889905218756996\n",
      "Epoch:          3 | Training loss: 0.6904293179056733 | Validation loss: 0.6878384740056346\n",
      "Epoch:          4 | Training loss: 0.6898063586683408 | Validation loss: 0.6866520311281487\n",
      "Epoch:          5 | Training loss: 0.6891657731298699 | Validation loss: 0.6855150354193367\n",
      "Epoch:          6 | Training loss: 0.6885489182201734 | Validation loss: 0.6844006354997185\n",
      "Epoch:          7 | Training loss: 0.6879275124537159 | Validation loss: 0.6831700720129951\n",
      "Epoch:          8 | Training loss: 0.6873171372551232 | Validation loss: 0.6820315151708384\n",
      "Epoch:          9 | Training loss: 0.6866864590238947 | Validation loss: 0.6809531809813876\n",
      "Epoch:         10 | Training loss: 0.6862197237624768 | Validation loss: 0.6797612983525468\n",
      "Epoch:         11 | Training loss: 0.6854641330866821 | Validation loss: 0.6787645693309627\n",
      "Epoch:         12 | Training loss: 0.6848652069460749 | Validation loss: 0.6776410327331328\n",
      "Epoch:         13 | Training loss: 0.6843401308752639 | Validation loss: 0.6764415712313864\n",
      "Epoch:         14 | Training loss: 0.6836434468236008 | Validation loss: 0.6756960782265586\n",
      "Epoch:         15 | Training loss: 0.6830407065634412 | Validation loss: 0.6746179956359061\n",
      "Epoch:         16 | Training loss: 0.6825403684160866 | Validation loss: 0.6732300472449346\n",
      "Epoch:         17 | Training loss: 0.6818762608917499 | Validation loss: 0.6723269006937395\n",
      "Epoch:         18 | Training loss: 0.6812499728826888 | Validation loss: 0.6715401433864007\n",
      "Epoch:         19 | Training loss: 0.6806558061406246 | Validation loss: 0.670591444073195\n",
      "Epoch:         20 | Training loss: 0.6800745504254704 | Validation loss: 0.6694446629398536\n",
      "Epoch:         21 | Training loss: 0.6794769179188442 | Validation loss: 0.6686046871671014\n",
      "Epoch:         22 | Training loss: 0.6788897933793415 | Validation loss: 0.6677988417028322\n",
      "Epoch:         23 | Training loss: 0.6783253203232799 | Validation loss: 0.66717549138339\n",
      "Epoch:         24 | Training loss: 0.677824405608899 | Validation loss: 0.6651791401329571\n",
      "\n",
      "Hyper Parameters -- Learning Rate - 1e-05  Regularization Parameter- 1e-05\n",
      "Epoch:          0 | Training loss: 0.6923097051818231 | Validation loss: 0.6914348789502034\n",
      "Epoch:          1 | Training loss: 0.6916736981919024 | Validation loss: 0.6902072145133415\n",
      "Epoch:          2 | Training loss: 0.6910413114198861 | Validation loss: 0.6889905226381788\n",
      "Epoch:          3 | Training loss: 0.6904293192433114 | Validation loss: 0.6878384753433329\n",
      "Epoch:          4 | Training loss: 0.6898063606741076 | Validation loss: 0.6866520331340117\n",
      "Epoch:          5 | Training loss: 0.6891657760400322 | Validation loss: 0.6855150383296043\n",
      "Epoch:          6 | Training loss: 0.688548922162692 | Validation loss: 0.6844006394423664\n",
      "Epoch:          7 | Training loss: 0.6879275175423407 | Validation loss: 0.6831700771017956\n",
      "Epoch:          8 | Training loss: 0.6873171436737661 | Validation loss: 0.6820315215896834\n",
      "Epoch:          9 | Training loss: 0.6866864669404099 | Validation loss: 0.6809531888981213\n",
      "Epoch:         10 | Training loss: 0.6862197332899403 | Validation loss: 0.6797613078803134\n",
      "Epoch:         11 | Training loss: 0.6854641444290483 | Validation loss: 0.6787645806735906\n",
      "Epoch:         12 | Training loss: 0.6848652202203802 | Validation loss: 0.6776410460077525\n",
      "Epoch:         13 | Training loss: 0.6843401462219518 | Validation loss: 0.6764415865784642\n",
      "Epoch:         14 | Training loss: 0.6836434644447845 | Validation loss: 0.6756960958480659\n",
      "Epoch:         15 | Training loss: 0.6830407265653301 | Validation loss: 0.6746180156381628\n",
      "Epoch:         16 | Training loss: 0.6825403909167261 | Validation loss: 0.6732300697460732\n",
      "Epoch:         17 | Training loss: 0.6818762860802593 | Validation loss: 0.6723269258827301\n",
      "Epoch:         18 | Training loss: 0.6812500009119166 | Validation loss: 0.6715401714160862\n",
      "Epoch:         19 | Training loss: 0.6806558371413549 | Validation loss: 0.6705914750744126\n",
      "Epoch:         20 | Training loss: 0.6800745845266851 | Validation loss: 0.6694446970416468\n",
      "Epoch:         21 | Training loss: 0.6794769552826839 | Validation loss: 0.6686047245315189\n",
      "Epoch:         22 | Training loss: 0.6788898341495554 | Validation loss: 0.6677988824736368\n",
      "Epoch:         23 | Training loss: 0.6783253646525567 | Validation loss: 0.6671755357132299\n",
      "Epoch:         24 | Training loss: 0.6778244535577324 | Validation loss: 0.665179188082664\n",
      "\n",
      "Hyper Parameters -- Learning Rate - 1e-05  Regularization Parameter- 0.0001\n",
      "Epoch:          0 | Training loss: 0.6923097062361756 | Validation loss: 0.6914348800045693\n",
      "Epoch:          1 | Training loss: 0.6916737016706358 | Validation loss: 0.6902072179922435\n",
      "Epoch:          2 | Training loss: 0.6910413190442798 | Validation loss: 0.6889905302629703\n",
      "Epoch:          3 | Training loss: 0.6904293326196923 | Validation loss: 0.6878384887203164\n",
      "Epoch:          4 | Training loss: 0.6898063807317748 | Validation loss: 0.6866520531926423\n",
      "Epoch:          5 | Training loss: 0.6891658051416554 | Validation loss: 0.6855150674322812\n",
      "Epoch:          6 | Training loss: 0.6885489615878766 | Validation loss: 0.6844006788688444\n",
      "Epoch:          7 | Training loss: 0.6879275684285886 | Validation loss: 0.6831701279897985\n",
      "Epoch:          8 | Training loss: 0.6873172078601965 | Validation loss: 0.6820315857781347\n",
      "Epoch:          9 | Training loss: 0.6866865461055628 | Validation loss: 0.6809532680654595\n",
      "Epoch:         10 | Training loss: 0.6862198285645762 | Validation loss: 0.6797614031579786\n",
      "Epoch:         11 | Training loss: 0.6854642578527109 | Validation loss: 0.6787646940998687\n"
     ]
    },
    {
     "name": "stdout",
     "output_type": "stream",
     "text": [
      "Epoch:         12 | Training loss: 0.6848653529634348 | Validation loss: 0.677641178753951\n",
      "Epoch:         13 | Training loss: 0.6843402996888326 | Validation loss: 0.6764417400492438\n",
      "Epoch:         14 | Training loss: 0.6836436406566218 | Validation loss: 0.6756962720631384\n",
      "Epoch:         15 | Training loss: 0.6830409265842201 | Validation loss: 0.6746182156607327\n",
      "Epoch:         16 | Training loss: 0.6825406159231215 | Validation loss: 0.6732302947574592\n",
      "Epoch:         17 | Training loss: 0.6818765379653544 | Validation loss: 0.6723271777726376\n",
      "Epoch:         18 | Training loss: 0.6812502812041953 | Validation loss: 0.6715404517129432\n",
      "Epoch:         19 | Training loss: 0.6806561471486594 | Validation loss: 0.670591785086592\n",
      "Epoch:         20 | Training loss: 0.680074925538834 | Validation loss: 0.6694450380595811\n",
      "Epoch:         21 | Training loss: 0.6794773289210821 | Validation loss: 0.6686050981756952\n",
      "Epoch:         22 | Training loss: 0.6788902418516957 | Validation loss: 0.6677992901816858\n",
      "Epoch:         23 | Training loss: 0.6783258079453262 | Validation loss: 0.6671759790116272\n",
      "Epoch:         24 | Training loss: 0.6778249330460681 | Validation loss: 0.6651796675797358\n",
      "\n",
      "Hyper Parameters -- Learning Rate - 1e-05  Regularization Parameter- 0.001\n",
      "Epoch:          0 | Training loss: 0.6923097167797008 | Validation loss: 0.6914348905482265\n",
      "Epoch:          1 | Training loss: 0.691673736457972 | Validation loss: 0.6902072527812657\n",
      "Epoch:          2 | Training loss: 0.6910413952882155 | Validation loss: 0.6889906065108856\n",
      "Epoch:          3 | Training loss: 0.6904294663835021 | Validation loss: 0.6878386224901507\n",
      "Epoch:          4 | Training loss: 0.6898065813084486 | Validation loss: 0.6866522537789492\n",
      "Epoch:          5 | Training loss: 0.6891660961578894 | Validation loss: 0.6855153584590522\n",
      "Epoch:          6 | Training loss: 0.6885493558397295 | Validation loss: 0.6844010731336292\n",
      "Epoch:          7 | Training loss: 0.687928077291076 | Validation loss: 0.683170636869836\n",
      "Epoch:          8 | Training loss: 0.6873178497245095 | Validation loss: 0.6820322276626579\n",
      "Epoch:          9 | Training loss: 0.6866873377571051 | Validation loss: 0.6809540597388554\n",
      "Epoch:         10 | Training loss: 0.6862207813109543 | Validation loss: 0.6797623559346494\n",
      "Epoch:         11 | Training loss: 0.6854653920893634 | Validation loss: 0.6787658283626766\n",
      "Epoch:         12 | Training loss: 0.6848666803940123 | Validation loss: 0.6776425062159691\n",
      "Epoch:         13 | Training loss: 0.684341834357683 | Validation loss: 0.6764432747570811\n",
      "Epoch:         14 | Training loss: 0.683645402775047 | Validation loss: 0.6756980342139162\n",
      "Epoch:         15 | Training loss: 0.683042926773185 | Validation loss: 0.674620215886496\n",
      "Epoch:         16 | Training loss: 0.6825428659871532 | Validation loss: 0.6732325448713979\n",
      "Epoch:         17 | Training loss: 0.6818790568163965 | Validation loss: 0.6723296966718039\n",
      "Epoch:         18 | Training loss: 0.6812530841270898 | Validation loss: 0.6715432546816189\n",
      "Epoch:         19 | Training loss: 0.6806592472218295 | Validation loss: 0.6705948852085101\n",
      "Epoch:         20 | Training loss: 0.6800783356604672 | Validation loss: 0.6694484482390679\n",
      "Epoch:         21 | Training loss: 0.6794810653052319 | Validation loss: 0.6686088346176254\n",
      "Epoch:         22 | Training loss: 0.6788943188732884 | Validation loss: 0.667803367262367\n",
      "Epoch:         23 | Training loss: 0.6783302408732385 | Validation loss: 0.6671804119958188\n",
      "Epoch:         24 | Training loss: 0.6778297279296698 | Validation loss: 0.6651844625506971\n",
      "\n",
      "Hyper Parameters -- Learning Rate - 2.8000000000000003e-05  Regularization Parameter- 1e-07\n",
      "Epoch:          0 | Training loss: 0.6911768756206623 | Validation loss: 0.6892302600501271\n",
      "Epoch:          1 | Training loss: 0.6894317452382112 | Validation loss: 0.6859391525909951\n",
      "Epoch:          2 | Training loss: 0.6876679329905059 | Validation loss: 0.682789478059807\n",
      "Epoch:          3 | Training loss: 0.6863640083746503 | Validation loss: 0.6808713630727476\n",
      "Epoch:          4 | Training loss: 0.6842526972718471 | Validation loss: 0.6765752282910193\n",
      "Epoch:          5 | Training loss: 0.6826342343146746 | Validation loss: 0.6743517486735209\n",
      "Epoch:          6 | Training loss: 0.6809244020794973 | Validation loss: 0.6714344414530597\n",
      "Epoch:          7 | Training loss: 0.6794057435260588 | Validation loss: 0.6675631509589303\n",
      "Epoch:          8 | Training loss: 0.677637592567806 | Validation loss: 0.6651681194998359\n",
      "Epoch:          9 | Training loss: 0.6760045584013277 | Validation loss: 0.6626180311894926\n",
      "Epoch:         10 | Training loss: 0.6759585382831026 | Validation loss: 0.6588111251526313\n",
      "Epoch:         11 | Training loss: 0.6727815699134192 | Validation loss: 0.6583234705675726\n",
      "Epoch:         12 | Training loss: 0.6714078060627973 | Validation loss: 0.6544960566888548\n",
      "Epoch:         13 | Training loss: 0.6704392313566504 | Validation loss: 0.6511285323955552\n",
      "\n",
      "Hyper Parameters -- Learning Rate - 2.8000000000000003e-05  Regularization Parameter- 1e-06\n",
      "Epoch:          0 | Training loss: 0.6911768756888703 | Validation loss: 0.6892302601183387\n",
      "Epoch:          1 | Training loss: 0.6894317454893746 | Validation loss: 0.6859391528421698\n",
      "Epoch:          2 | Training loss: 0.6876679335544769 | Validation loss: 0.6827894786237961\n",
      "Epoch:          3 | Training loss: 0.6863640093851923 | Validation loss: 0.6808713640833011\n",
      "Epoch:          4 | Training loss: 0.6842526988095946 | Validation loss: 0.6765752298287928\n",
      "Epoch:          5 | Training loss: 0.6826342365237753 | Validation loss: 0.6743517508826574\n",
      "Epoch:          6 | Training loss: 0.6809244050678819 | Validation loss: 0.6714344444414913\n",
      "Epoch:          7 | Training loss: 0.6794057474002357 | Validation loss: 0.6675631548331793\n",
      "Epoch:          8 | Training loss: 0.6776375974458425 | Validation loss: 0.6651681243779454\n",
      "Epoch:          9 | Training loss: 0.6760045643946203 | Validation loss: 0.6626180371828788\n",
      "Epoch:         10 | Training loss: 0.6759585455076329 | Validation loss: 0.6588111323773379\n",
      "Epoch:         11 | Training loss: 0.6727815784566652 | Validation loss: 0.6583234791109117\n",
      "Epoch:         12 | Training loss: 0.6714078160341236 | Validation loss: 0.6544960666603477\n",
      "Epoch:         13 | Training loss: 0.6704392428677829 | Validation loss: 0.6511285439068933\n",
      "\n",
      "Hyper Parameters -- Learning Rate - 2.8000000000000003e-05  Regularization Parameter- 1e-05\n",
      "Epoch:          0 | Training loss: 0.6911768763709497 | Validation loss: 0.6892302608004539\n",
      "Epoch:          1 | Training loss: 0.6894317480010087 | Validation loss: 0.6859391553539166\n",
      "Epoch:          2 | Training loss: 0.687667939194187 | Validation loss: 0.6827894842636867\n",
      "Epoch:          3 | Training loss: 0.6863640194906133 | Validation loss: 0.6808713741888366\n",
      "Epoch:          4 | Training loss: 0.6842527141870696 | Validation loss: 0.676575245206529\n",
      "Epoch:          5 | Training loss: 0.682634258614782 | Validation loss: 0.6743517729740227\n",
      "Epoch:          6 | Training loss: 0.6809244349517274 | Validation loss: 0.6714344743258053\n",
      "Epoch:          7 | Training loss: 0.6794057861420058 | Validation loss: 0.6675631935756704\n",
      "Epoch:          8 | Training loss: 0.6776376462262089 | Validation loss: 0.6651681731590411\n",
      "Epoch:          9 | Training loss: 0.676004624327546 | Validation loss: 0.66261809711674\n",
      "Epoch:         10 | Training loss: 0.6759586177529374 | Validation loss: 0.6588112046244052\n",
      "Epoch:         11 | Training loss: 0.672781663889126 | Validation loss: 0.6583235645443029\n",
      "Epoch:         12 | Training loss: 0.671407915747387 | Validation loss: 0.6544961663752757\n",
      "Epoch:         13 | Training loss: 0.6704393579791077 | Validation loss: 0.651128659020275\n",
      "\n",
      "Hyper Parameters -- Learning Rate - 2.8000000000000003e-05  Regularization Parameter- 0.0001\n",
      "Epoch:          0 | Training loss: 0.6911768831917434 | Validation loss: 0.6892302676216054\n",
      "Epoch:          1 | Training loss: 0.6894317731173495 | Validation loss: 0.6859391804713835\n",
      "Epoch:          2 | Training loss: 0.6876679955912888 | Validation loss: 0.6827895406625938\n",
      "Epoch:          3 | Training loss: 0.6863641205448248 | Validation loss: 0.6808714752441921\n",
      "Epoch:          4 | Training loss: 0.6842528679618193 | Validation loss: 0.6765753989838899\n"
     ]
    },
    {
     "name": "stdout",
     "output_type": "stream",
     "text": [
      "Epoch:          5 | Training loss: 0.6826344795248511 | Validation loss: 0.6743519938876767\n",
      "Epoch:          6 | Training loss: 0.6809247337901828 | Validation loss: 0.6714347731689472\n",
      "Epoch:          7 | Training loss: 0.6794061735597072 | Validation loss: 0.6675635810005807\n",
      "Epoch:          8 | Training loss: 0.6776381340298742 | Validation loss: 0.6651686609699995\n",
      "Epoch:          9 | Training loss: 0.6760052236568077 | Validation loss: 0.662618696455356\n",
      "Epoch:         10 | Training loss: 0.675959340205987 | Validation loss: 0.658811927095083\n",
      "Epoch:         11 | Training loss: 0.672782518213738 | Validation loss: 0.6583244188782209\n",
      "Epoch:         12 | Training loss: 0.6714089128800269 | Validation loss: 0.6544971635245633\n",
      "Epoch:         13 | Training loss: 0.670440509092366 | Validation loss: 0.6511298101541014\n",
      "\n",
      "Hyper Parameters -- Learning Rate - 2.8000000000000003e-05  Regularization Parameter- 0.001\n",
      "Epoch:          0 | Training loss: 0.6911769513996805 | Validation loss: 0.6892303358331213\n",
      "Epoch:          1 | Training loss: 0.6894320242807602 | Validation loss: 0.6859394316460553\n",
      "Epoch:          2 | Training loss: 0.687668559562315 | Validation loss: 0.6827901046516712\n",
      "Epoch:          3 | Training loss: 0.6863651310869597 | Validation loss: 0.6808724857977678\n",
      "Epoch:          4 | Training loss: 0.6842544057093595 | Validation loss: 0.6765769367575412\n",
      "Epoch:          5 | Training loss: 0.682636688625615 | Validation loss: 0.6743542030242896\n",
      "Epoch:          6 | Training loss: 0.6809277221748563 | Validation loss: 0.6714377616004831\n",
      "Epoch:          7 | Training loss: 0.6794100477368991 | Validation loss: 0.6675674552498603\n",
      "Epoch:          8 | Training loss: 0.6776430120667776 | Validation loss: 0.665173539079834\n",
      "Epoch:          9 | Training loss: 0.6760112169497647 | Validation loss: 0.6626246898418566\n",
      "Epoch:         10 | Training loss: 0.6759665647369333 | Validation loss: 0.6588191518023107\n",
      "Epoch:         11 | Training loss: 0.6727910614604428 | Validation loss: 0.6583329622179841\n",
      "Epoch:         12 | Training loss: 0.6714188842071648 | Validation loss: 0.6545071350181777\n",
      "Epoch:         13 | Training loss: 0.6704520202258621 | Validation loss: 0.6511413214932799\n",
      "\n",
      "Hyper Parameters -- Learning Rate - 4.6e-05  Regularization Parameter- 1e-07\n",
      "Epoch:          0 | Training loss: 0.6900790098050679 | Validation loss: 0.6871827744568333\n",
      "Epoch:          1 | Training loss: 0.6872174250479163 | Validation loss: 0.6817711670025566\n",
      "Epoch:          2 | Training loss: 0.6843560621607965 | Validation loss: 0.6768177359618249\n",
      "Epoch:          3 | Training loss: 0.6830128733192897 | Validation loss: 0.6763484371630406\n",
      "Epoch:          4 | Training loss: 0.6790357884514501 | Validation loss: 0.6688415989723484\n",
      "Epoch:          5 | Training loss: 0.6762455022731914 | Validation loss: 0.6640660622376228\n",
      "Epoch:          6 | Training loss: 0.6735817563265669 | Validation loss: 0.6598601120989158\n",
      "Epoch:          7 | Training loss: 0.6712934753988162 | Validation loss: 0.6538210618384803\n",
      "Epoch:          8 | Training loss: 0.6684378957921223 | Validation loss: 0.6514233864062866\n",
      "Epoch:          9 | Training loss: 0.6660262696743723 | Validation loss: 0.64696418932815\n",
      "Epoch:         10 | Training loss: 0.6672305745449177 | Validation loss: 0.6402276905337101\n",
      "\n",
      "Hyper Parameters -- Learning Rate - 4.6e-05  Regularization Parameter- 1e-06\n",
      "Epoch:          0 | Training loss: 0.690079009981679 | Validation loss: 0.6871827746334518\n",
      "Epoch:          1 | Training loss: 0.6872174257187775 | Validation loss: 0.6817711676734381\n",
      "Epoch:          2 | Training loss: 0.6843560636600912 | Validation loss: 0.6768177374611564\n",
      "Epoch:          3 | Training loss: 0.6830128760037553 | Validation loss: 0.6763484398475083\n",
      "Epoch:          4 | Training loss: 0.6790357925413432 | Validation loss: 0.6688416030622585\n",
      "Epoch:          5 | Training loss: 0.6762455081032969 | Validation loss: 0.6640660680678105\n",
      "Epoch:          6 | Training loss: 0.6735817642020699 | Validation loss: 0.6598601199745205\n",
      "Epoch:          7 | Training loss: 0.6712934855973692 | Validation loss: 0.6538210720371825\n",
      "Epoch:          8 | Training loss: 0.6684379085923691 | Validation loss: 0.6514233992066746\n",
      "Epoch:          9 | Training loss: 0.6660262853551859 | Validation loss: 0.6469642050091781\n",
      "Epoch:         10 | Training loss: 0.6672305934019336 | Validation loss: 0.6402277093912276\n",
      "\n",
      "Hyper Parameters -- Learning Rate - 4.6e-05  Regularization Parameter- 1e-05\n",
      "Epoch:          0 | Training loss: 0.6900790117477907 | Validation loss: 0.6871827763996373\n",
      "Epoch:          1 | Training loss: 0.687217432427389 | Validation loss: 0.681771174382256\n",
      "Epoch:          2 | Training loss: 0.6843560786530373 | Validation loss: 0.6768177524544705\n",
      "Epoch:          3 | Training loss: 0.6830129028484114 | Validation loss: 0.6763484666921847\n",
      "Epoch:          4 | Training loss: 0.6790358334402748 | Validation loss: 0.6688416439613613\n",
      "Epoch:          5 | Training loss: 0.6762455664043516 | Validation loss: 0.6640661263696869\n",
      "Epoch:          6 | Training loss: 0.6735818429570987 | Validation loss: 0.6598601987305672\n",
      "Epoch:          7 | Training loss: 0.6712935875828991 | Validation loss: 0.6538211740242038\n",
      "Epoch:          8 | Training loss: 0.6684380365948358 | Validation loss: 0.6514235272105539\n",
      "Epoch:          9 | Training loss: 0.6660264421633219 | Validation loss: 0.6469643618194578\n",
      "Epoch:         10 | Training loss: 0.6672307819720914 | Validation loss: 0.6402278979664047\n",
      "\n",
      "Hyper Parameters -- Learning Rate - 4.6e-05  Regularization Parameter- 0.0001\n",
      "Epoch:          0 | Training loss: 0.6900790294089062 | Validation loss: 0.6871827940614921\n",
      "Epoch:          1 | Training loss: 0.6872174995135037 | Validation loss: 0.6817712414704329\n",
      "Epoch:          2 | Training loss: 0.6843562285824988 | Validation loss: 0.6768179023876137\n",
      "Epoch:          3 | Training loss: 0.6830131712949731 | Validation loss: 0.6763487351389503\n",
      "Epoch:          4 | Training loss: 0.6790362424295935 | Validation loss: 0.6688420529523902\n",
      "Epoch:          5 | Training loss: 0.6762461494149024 | Validation loss: 0.6640667093884531\n",
      "Epoch:          6 | Training loss: 0.6735826305073928 | Validation loss: 0.6598609862910382\n",
      "Epoch:          7 | Training loss: 0.6712946074382058 | Validation loss: 0.6538221938944259\n",
      "Epoch:          8 | Training loss: 0.6684393166195143 | Validation loss: 0.6514248072493587\n",
      "Epoch:          9 | Training loss: 0.6660280102446969 | Validation loss: 0.646965929922269\n",
      "Epoch:         10 | Training loss: 0.6672326676736882 | Validation loss: 0.6402297837181931\n",
      "\n",
      "Hyper Parameters -- Learning Rate - 4.6e-05  Regularization Parameter- 0.001\n",
      "Epoch:          0 | Training loss: 0.6900792060200632 | Validation loss: 0.6871829706800408\n",
      "Epoch:          1 | Training loss: 0.6872181703746628 | Validation loss: 0.6817719123522146\n",
      "Epoch:          2 | Training loss: 0.6843577278771558 | Validation loss: 0.6768194017190854\n",
      "Epoch:          3 | Training loss: 0.6830158557606887 | Validation loss: 0.6763514196067052\n",
      "Epoch:          4 | Training loss: 0.6790403323229681 | Validation loss: 0.6688461428628679\n",
      "Epoch:          5 | Training loss: 0.6762519795207376 | Validation loss: 0.6640725395764437\n",
      "Epoch:          6 | Training loss: 0.6735905060108492 | Validation loss: 0.6598688618962666\n",
      "Epoch:          7 | Training loss: 0.6713048059920353 | Validation loss: 0.6538323925974092\n",
      "Epoch:          8 | Training loss: 0.6684521168673722 | Validation loss: 0.6514376076384789\n",
      "Epoch:          9 | Training loss: 0.6660436910599014 | Validation loss: 0.646981610951835\n",
      "Epoch:         10 | Training loss: 0.6672515246915662 | Validation loss: 0.6402486412379873\n",
      "\n",
      "Hyper Parameters -- Learning Rate - 6.4e-05  Regularization Parameter- 1e-07\n",
      "Epoch:          0 | Training loss: 0.6890082884992939 | Validation loss: 0.6852497538513705\n",
      "Epoch:          1 | Training loss: 0.6850031427855531 | Validation loss: 0.6777608405547185\n",
      "Epoch:          2 | Training loss: 0.6811454632324884 | Validation loss: 0.6710280625497193\n",
      "\n",
      "Hyper Parameters -- Learning Rate - 6.4e-05  Regularization Parameter- 1e-06\n",
      "Epoch:          0 | Training loss: 0.6890082888353909 | Validation loss: 0.6852497541874786\n",
      "Epoch:          1 | Training loss: 0.6850031440752572 | Validation loss: 0.6777608418444507\n",
      "Epoch:          2 | Training loss: 0.6811454661038723 | Validation loss: 0.6710280654211647\n"
     ]
    },
    {
     "name": "stdout",
     "output_type": "stream",
     "text": [
      "\n",
      "Hyper Parameters -- Learning Rate - 6.4e-05  Regularization Parameter- 1e-05\n",
      "Epoch:          0 | Training loss: 0.6890082921963608 | Validation loss: 0.6852497575485573\n",
      "Epoch:          1 | Training loss: 0.6850031569722981 | Validation loss: 0.6777608547417715\n",
      "Epoch:          2 | Training loss: 0.6811454948177134 | Validation loss: 0.6710280941356197\n",
      "\n",
      "Hyper Parameters -- Learning Rate - 6.4e-05  Regularization Parameter- 0.0001\n",
      "Epoch:          0 | Training loss: 0.6890083258060601 | Validation loss: 0.685249791159346\n",
      "Epoch:          1 | Training loss: 0.6850032859427085 | Validation loss: 0.6777609837149818\n",
      "Epoch:          2 | Training loss: 0.681145781956124 | Validation loss: 0.6710283812801704\n",
      "\n",
      "Hyper Parameters -- Learning Rate - 6.4e-05  Regularization Parameter- 0.001\n",
      "Epoch:          0 | Training loss: 0.6890086619030563 | Validation loss: 0.6852501272672363\n",
      "Epoch:          1 | Training loss: 0.6850045756468457 | Validation loss: 0.6777622734471157\n",
      "Epoch:          2 | Training loss: 0.6811486533403414 | Validation loss: 0.6710312527257892\n",
      "\n",
      "Hyper Parameters -- Learning Rate - 8.2e-05  Regularization Parameter- 1e-07\n",
      "Epoch:          0 | Training loss: 0.6879443522844564 | Validation loss: 0.6833853806582519\n",
      "Epoch:          1 | Training loss: 0.6828077352825561 | Validation loss: 0.6739729299810047\n",
      "Epoch:          2 | Training loss: 0.6780452208025601 | Validation loss: 0.6654338412430537\n",
      "\n",
      "Hyper Parameters -- Learning Rate - 8.2e-05  Regularization Parameter- 1e-06\n",
      "Epoch:          0 | Training loss: 0.6879443528298523 | Validation loss: 0.6833853812036628\n",
      "Epoch:          1 | Training loss: 0.682807737385804 | Validation loss: 0.6739729320842867\n",
      "Epoch:          2 | Training loss: 0.6780452254708268 | Validation loss: 0.6654338459114123\n",
      "\n",
      "Hyper Parameters -- Learning Rate - 8.2e-05  Regularization Parameter- 1e-05\n",
      "Epoch:          0 | Training loss: 0.6879443582838121 | Validation loss: 0.6833853866577718\n",
      "Epoch:          1 | Training loss: 0.6828077584182822 | Validation loss: 0.6739729531171043\n",
      "Epoch:          2 | Training loss: 0.6780452721534947 | Validation loss: 0.6654338925949989\n",
      "\n",
      "Hyper Parameters -- Learning Rate - 8.2e-05  Regularization Parameter- 0.0001\n",
      "Epoch:          0 | Training loss: 0.6879444128234098 | Validation loss: 0.6833854411988625\n",
      "Epoch:          1 | Training loss: 0.6828079687430649 | Validation loss: 0.673973163445282\n",
      "Epoch:          2 | Training loss: 0.678045738980177 | Validation loss: 0.6654343594308656\n",
      "\n",
      "Hyper Parameters -- Learning Rate - 8.2e-05  Regularization Parameter- 0.001\n",
      "Epoch:          0 | Training loss: 0.6879449582193945 | Validation loss: 0.6833859866097776\n",
      "Epoch:          1 | Training loss: 0.6828100719909611 | Validation loss: 0.6739752667271302\n",
      "Epoch:          2 | Training loss: 0.678050407247231 | Validation loss: 0.665439027789766\n"
     ]
    }
   ],
   "source": [
    "#hyper paramater tuning for BOCN-tfidf\n",
    "train_loss_history =[]\n",
    "validation_loss_history=[]\n",
    "hyperparam_history=[]\n",
    "#\n",
    "for lr_i in lr_ctf:\n",
    "    for alpha_i in alpha_ctf:\n",
    "        print('\\nHyper Parameters -- Learning Rate -',lr_i,' Regularization Parameter-',alpha_i)\n",
    "        weight, train_loss_count, dev_loss_count = SGD(X_tr=train_char_tf_idf,\n",
    "                                             Y_tr=train_labels,\n",
    "                                             X_dev=dev_char_tf_idf,\n",
    "                                             Y_dev=dev_labels,\n",
    "                                             lr=lr_i,\n",
    "                                             alpha=alpha_i,\n",
    "                                             tolerance=0.0001,\n",
    "                                             epochs=300,\n",
    "                                             print_progress=True)\n",
    "        if len(train_loss_count) > 5:\n",
    "            train_loss_history.append(train_loss_count[-1])\n",
    "            validation_loss_history.append(dev_loss_count[-1])\n",
    "            hyperparam_history.append([lr_i,alpha_i])"
   ]
  },
  {
   "cell_type": "code",
   "execution_count": 145,
   "metadata": {},
   "outputs": [
    {
     "name": "stdout",
     "output_type": "stream",
     "text": [
      "BOCN-TFIDF\n",
      "Best Training loss - 0.6672305745449177,best_validation_loss-0.6402276905337101,\n",
      "best_hyperparams-[4.6e-05, 1e-07]\n"
     ]
    }
   ],
   "source": [
    "#get the best hyper parameters\n",
    "temp = np.array(train_loss_history)\n",
    "train_loss_history_sortidx = np.argsort(temp)\n",
    "\n",
    "best_train_loss_BOCN_tfidf = temp[train_loss_history_sortidx[0]]\n",
    "best_validation_loss_BOCN_tfidf = validation_loss_history[train_loss_history_sortidx[0]]\n",
    "best_hyperparams_BOCN_tfidf=hyperparam_history[train_loss_history_sortidx[0]]\n",
    "\n",
    "print(\"BOCN-TFIDF\")\n",
    "print(f'Best Training loss - {best_train_loss_BOCN_tfidf},best_validation_loss-{best_validation_loss_BOCN_tfidf},\\nbest_hyperparams-{best_hyperparams_BOCN_tfidf}')\n",
    "\n",
    "\n",
    "\n"
   ]
  },
  {
   "cell_type": "code",
   "execution_count": 146,
   "metadata": {},
   "outputs": [
    {
     "name": "stdout",
     "output_type": "stream",
     "text": [
      "Epoch:          0 | Training loss: 0.6900790098050679 | Validation loss: 0.6871827744568333\n",
      "Epoch:          1 | Training loss: 0.6872174250479163 | Validation loss: 0.6817711670025566\n",
      "Epoch:          2 | Training loss: 0.6843560621607965 | Validation loss: 0.6768177359618249\n",
      "Epoch:          3 | Training loss: 0.6830128733192897 | Validation loss: 0.6763484371630406\n",
      "Epoch:          4 | Training loss: 0.6790357884514501 | Validation loss: 0.6688415989723484\n",
      "Epoch:          5 | Training loss: 0.6762455022731914 | Validation loss: 0.6640660622376228\n",
      "Epoch:          6 | Training loss: 0.6735817563265669 | Validation loss: 0.6598601120989158\n",
      "Epoch:          7 | Training loss: 0.6712934753988162 | Validation loss: 0.6538210618384803\n",
      "Epoch:          8 | Training loss: 0.6684378957921223 | Validation loss: 0.6514233864062866\n",
      "Epoch:          9 | Training loss: 0.6660262696743723 | Validation loss: 0.64696418932815\n",
      "Epoch:         10 | Training loss: 0.6672305745449177 | Validation loss: 0.6402276905337101\n"
     ]
    }
   ],
   "source": [
    "#train with best hyperparameters (BOCN-TFIDF)\n",
    "weight_c, train_loss_count_c, dev_loss_count_c = SGD(X_tr=train_char_tf_idf,\n",
    "                                             Y_tr=train_labels,\n",
    "                                             X_dev=dev_char_tf_idf,\n",
    "                                             Y_dev=dev_labels,\n",
    "                                             lr=best_hyperparams_BOCN_tfidf[0],\n",
    "                                             alpha=best_hyperparams_BOCN_tfidf[1],\n",
    "                                             tolerance=0.0001,\n",
    "                                             epochs=100,\n",
    "                                             print_progress=True)"
   ]
  },
  {
   "cell_type": "code",
   "execution_count": 147,
   "metadata": {},
   "outputs": [
    {
     "data": {
      "image/png": "[encoded data removed]",
      "text/plain": [
       "<Figure size 432x288 with 1 Axes>"
      ]
     },
     "metadata": {
      "needs_background": "light"
     },
     "output_type": "display_data"
    }
   ],
   "source": [
    "plt.plot(train_loss_count_c, label='Training loss')\n",
    "plt.plot(dev_loss_count_c, label='Validation loss')\n",
    "\n",
    "plt.xlabel('Epochs')\n",
    "plt.ylabel('Loss')\n",
    "\n",
    "plt.title('Training loss vs Validation loss (BOCN-Count)')\n",
    "\n",
    "plt.legend()\n",
    "\n",
    "plt.show()"
   ]
  },
  {
   "cell_type": "code",
   "execution_count": 148,
   "metadata": {},
   "outputs": [
    {
     "name": "stdout",
     "output_type": "stream",
     "text": [
      "Accuracy: 0.65\n",
      "Precision: 0.5920245398773006\n",
      "Recall: 0.965\n",
      "F1-Score: 0.7338403041825096\n"
     ]
    }
   ],
   "source": [
    "preds_te_count = predict_class(test_char_tf_idf, weight_c)\n",
    "\n",
    "print('Accuracy:', accuracy_score(test_labels,preds_te_count))\n",
    "print('Precision:', precision_score(test_labels,preds_te_count))\n",
    "print('Recall:', recall_score(test_labels,preds_te_count))\n",
    "print('F1-Score:', f1_score(test_labels,preds_te_count))"
   ]
  },
  {
   "cell_type": "markdown",
   "metadata": {},
   "source": [
    "### Top 10 Negative and Positive Characters BOCN(TFIDF)"
   ]
  },
  {
   "cell_type": "code",
   "execution_count": 149,
   "metadata": {},
   "outputs": [
    {
     "name": "stdout",
     "output_type": "stream",
     "text": [
      "fe\n",
      "and\n",
      "tr\n",
      "per\n",
      "ion\n",
      "wors\n",
      "tio\n",
      "rf\n",
      "tion\n",
      "man\n"
     ]
    }
   ],
   "source": [
    "top_negative_words = weight_c.argsort()[:10]\n",
    "for i in top_negative_words:\n",
    "    print(vocab_char[i])"
   ]
  },
  {
   "cell_type": "code",
   "execution_count": 150,
   "metadata": {},
   "outputs": [
    {
     "name": "stdout",
     "output_type": "stream",
     "text": [
      "th\n",
      "ba\n",
      "ha\n",
      "he\n",
      "tt\n",
      "in\n",
      "thi\n",
      "oo\n",
      "to\n",
      "ad\n"
     ]
    }
   ],
   "source": [
    "top_positive_words = weight_c.argsort()[::-1][:10]\n",
    "for i in top_positive_words:\n",
    "    print(vocab_char[i])"
   ]
  },
  {
   "cell_type": "markdown",
   "metadata": {},
   "source": [
    "## BOW+BOCN"
   ]
  },
  {
   "cell_type": "code",
   "execution_count": 103,
   "metadata": {},
   "outputs": [
    {
     "name": "stdout",
     "output_type": "stream",
     "text": [
      "new train data array with BOW and BOCN count - (2800, 10000)\n",
      "new array with train labels - (2800,)\n",
      "new test data array with BOW and BOCN count - (800, 10000)\n",
      "new array with train labels - (800,)\n",
      "new validation data array with BOW and BOCN count - (400, 10000)\n",
      "new array with train labels - (400,)\n"
     ]
    }
   ],
   "source": [
    "#i have joined the BOW count vector with BOCN count vector and labels using hstack and vstack\n",
    "\n",
    "#training data\n",
    "train_BOW_BOCN_count_vector = np.vstack((train_count_vector,train_char_count_vector))\n",
    "\n",
    "print('new train data array with BOW and BOCN count -',train_BOW_BOCN_count_vector.shape)\n",
    "\n",
    "train_labels_new = np.hstack((train_labels,train_labels))\n",
    "\n",
    "print('new array with train labels -',train_labels_new.shape)\n",
    "\n",
    "#testing data\n",
    "test_BOW_BOCN_count_vector = np.vstack((test_count_vector,test_char_count_vector))\n",
    "\n",
    "print('new test data array with BOW and BOCN count -',test_BOW_BOCN_count_vector.shape)\n",
    "\n",
    "test_labels_new = np.hstack((test_labels,test_labels))\n",
    "\n",
    "print('new array with train labels -',test_labels_new.shape)\n",
    "\n",
    "#validation data\n",
    "dev_BOW_BOCN_count_vector = np.vstack((dev_count_vector,dev_char_count_vector))\n",
    "\n",
    "print('new validation data array with BOW and BOCN count -',dev_BOW_BOCN_count_vector.shape)\n",
    "\n",
    "dev_labels_new = np.hstack((dev_labels,dev_labels))\n",
    "\n",
    "print('new array with train labels -',dev_labels_new.shape)"
   ]
  },
  {
   "cell_type": "code",
   "execution_count": 109,
   "metadata": {},
   "outputs": [],
   "source": [
    "lr = np.logspace(-7, -4, num = 5)\n",
    "alpha = np.logspace(-6, -3, num = 5)\n",
    "\n"
   ]
  },
  {
   "cell_type": "code",
   "execution_count": 151,
   "metadata": {
    "scrolled": true
   },
   "outputs": [
    {
     "name": "stdout",
     "output_type": "stream",
     "text": [
      "\n",
      "Hyper Parameters -- Learning Rate - 1e-07  Regularization Parameter- 1e-06\n",
      "Epoch:          0 | Training loss: 0.6914988723371794 | Validation loss: 0.6910366921400016\n",
      "Epoch:          1 | Training loss: 0.6906433838251786 | Validation loss: 0.6901687257731097\n",
      "Epoch:          2 | Training loss: 0.6898480819482578 | Validation loss: 0.6899762427117031\n",
      "Epoch:          3 | Training loss: 0.6889836180180043 | Validation loss: 0.6887675108274282\n",
      "Epoch:          4 | Training loss: 0.6880862299850675 | Validation loss: 0.6885030132963333\n",
      "Epoch:          5 | Training loss: 0.6872352692115632 | Validation loss: 0.687810926729751\n",
      "Epoch:          6 | Training loss: 0.6864495400645508 | Validation loss: 0.6872754463998534\n",
      "Epoch:          7 | Training loss: 0.6855515977152251 | Validation loss: 0.6863246072840837\n",
      "Epoch:          8 | Training loss: 0.6847501892085522 | Validation loss: 0.6856497560338164\n",
      "Epoch:          9 | Training loss: 0.6839519394798088 | Validation loss: 0.6850338510460636\n",
      "Epoch:         10 | Training loss: 0.6831849832516707 | Validation loss: 0.6846160192225793\n",
      "Epoch:         11 | Training loss: 0.6824669829151961 | Validation loss: 0.683713474206681\n",
      "Epoch:         12 | Training loss: 0.6816166168220474 | Validation loss: 0.6832140060370623\n",
      "Epoch:         13 | Training loss: 0.6808497982559146 | Validation loss: 0.6826841662183735\n",
      "Epoch:         14 | Training loss: 0.680181505065827 | Validation loss: 0.682400522896496\n",
      "Epoch:         15 | Training loss: 0.6793597659850172 | Validation loss: 0.681577540404925\n",
      "\n",
      "Hyper Parameters -- Learning Rate - 1e-07  Regularization Parameter- 5.623413251903491e-06\n",
      "Epoch:          0 | Training loss: 0.691498872338859 | Validation loss: 0.6910366921416827\n",
      "Epoch:          1 | Training loss: 0.6906433838306654 | Validation loss: 0.6901687257785974\n",
      "Epoch:          2 | Training loss: 0.689848081958793 | Validation loss: 0.6899762427222381\n",
      "Epoch:          3 | Training loss: 0.6889836180373167 | Validation loss: 0.6887675108467376\n",
      "Epoch:          4 | Training loss: 0.6880862300136313 | Validation loss: 0.688503013324892\n",
      "Epoch:          5 | Training loss: 0.6872352692523371 | Validation loss: 0.6878109267705154\n",
      "Epoch:          6 | Training loss: 0.6864495401194747 | Validation loss: 0.6872754464547637\n",
      "Epoch:          7 | Training loss: 0.6855515977867784 | Validation loss: 0.6863246073556182\n",
      "Epoch:          8 | Training loss: 0.6847501892984516 | Validation loss: 0.6856497561236905\n",
      "Epoch:          9 | Training loss: 0.6839519395899328 | Validation loss: 0.6850338511561566\n",
      "Epoch:         10 | Training loss: 0.6831849833836406 | Validation loss: 0.6846160193545119\n",
      "Epoch:         11 | Training loss: 0.6824669830718992 | Validation loss: 0.6837134743633386\n",
      "Epoch:         12 | Training loss: 0.6816166170043061 | Validation loss: 0.683214006219268\n",
      "Epoch:         13 | Training loss: 0.6808497984658265 | Validation loss: 0.6826841664282237\n",
      "Epoch:         14 | Training loss: 0.6801815053049334 | Validation loss: 0.6824005231355319\n",
      "Epoch:         15 | Training loss: 0.6793597662556315 | Validation loss: 0.6815775406754585\n",
      "\n",
      "Hyper Parameters -- Learning Rate - 1e-07  Regularization Parameter- 3.1622776601683795e-05\n",
      "Epoch:          0 | Training loss: 0.6914988723483043 | Validation loss: 0.6910366921511367\n",
      "Epoch:          1 | Training loss: 0.6906433838615187 | Validation loss: 0.6901687258094569\n",
      "Epoch:          2 | Training loss: 0.6898480820180372 | Validation loss: 0.6899762427814814\n",
      "Epoch:          3 | Training loss: 0.6889836181459169 | Validation loss: 0.6887675109553214\n",
      "Epoch:          4 | Training loss: 0.6880862301742573 | Validation loss: 0.6885030134854894\n",
      "Epoch:          5 | Training loss: 0.6872352694816256 | Validation loss: 0.6878109269997512\n",
      "Epoch:          6 | Training loss: 0.6864495404283338 | Validation loss: 0.6872754467635473\n",
      "Epoch:          7 | Training loss: 0.6855515981891519 | Validation loss: 0.6863246077578863\n",
      "Epoch:          8 | Training loss: 0.6847501898039917 | Validation loss: 0.6856497566290901\n",
      "Epoch:          9 | Training loss: 0.683951940209206 | Validation loss: 0.6850338517752553\n",
      "Epoch:         10 | Training loss: 0.6831849841257621 | Validation loss: 0.6846160200964236\n",
      "Epoch:         11 | Training loss: 0.6824669839531048 | Validation loss: 0.6837134752442889\n",
      "Epoch:         12 | Training loss: 0.6816166180292226 | Validation loss: 0.6832140072438859\n",
      "Epoch:         13 | Training loss: 0.6808497996462477 | Validation loss: 0.6826841676082986\n",
      "Epoch:         14 | Training loss: 0.6801815066495278 | Validation loss: 0.6824005244797293\n",
      "Epoch:         15 | Training loss: 0.6793597677774078 | Validation loss: 0.68157754219678\n",
      "\n",
      "Hyper Parameters -- Learning Rate - 1e-07  Regularization Parameter- 0.00017782794100389227\n",
      "Epoch:          0 | Training loss: 0.6914988724014184 | Validation loss: 0.6910366922042996\n",
      "Epoch:          1 | Training loss: 0.6906433840350203 | Validation loss: 0.6901687259829924\n",
      "Epoch:          2 | Training loss: 0.6898480823511912 | Validation loss: 0.6899762431146305\n",
      "Epoch:          3 | Training loss: 0.6889836187566215 | Validation loss: 0.6887675115659339\n",
      "Epoch:          4 | Training loss: 0.6880862310775241 | Validation loss: 0.6885030143885945\n",
      "Epoch:          5 | Training loss: 0.6872352707710093 | Validation loss: 0.6878109282888376\n",
      "Epoch:          6 | Training loss: 0.6864495421651771 | Validation loss: 0.6872754484999655\n",
      "Epoch:          7 | Training loss: 0.6855516004518639 | Validation loss: 0.6863246100200061\n",
      "Epoch:          8 | Training loss: 0.6847501926468528 | Validation loss: 0.6856497594711596\n",
      "Epoch:          9 | Training loss: 0.6839519436916344 | Validation loss: 0.6850338552567036\n",
      "Epoch:         10 | Training loss: 0.6831849882990176 | Validation loss: 0.6846160242685003\n",
      "Epoch:         11 | Training loss: 0.6824669889084878 | Validation loss: 0.6837134801982367\n",
      "Epoch:         12 | Training loss: 0.6816166237927509 | Validation loss: 0.683214013005736\n",
      "Epoch:         13 | Training loss: 0.6808498062842444 | Validation loss: 0.6826841742443471\n",
      "Epoch:         14 | Training loss: 0.6801815142107374 | Validation loss: 0.6824005320387068\n",
      "Epoch:         15 | Training loss: 0.6793597763349839 | Validation loss: 0.6815775507517989\n",
      "\n",
      "Hyper Parameters -- Learning Rate - 1e-07  Regularization Parameter- 0.001\n",
      "Epoch:          0 | Training loss: 0.6914988727001015 | Validation loss: 0.6910366925032579\n",
      "Epoch:          1 | Training loss: 0.6906433850106921 | Validation loss: 0.6901687269588558\n",
      "Epoch:          2 | Training loss: 0.6898480842246549 | Validation loss: 0.6899762449880659\n",
      "Epoch:          3 | Training loss: 0.6889836221908662 | Validation loss: 0.6887675149996602\n",
      "Epoch:          4 | Training loss: 0.6880862361569663 | Validation loss: 0.6885030194671278\n",
      "Epoch:          5 | Training loss: 0.6872352780217468 | Validation loss: 0.6878109355379038\n",
      "Epoch:          6 | Training loss: 0.6864495519321642 | Validation loss: 0.6872754582645618\n",
      "Epoch:          7 | Training loss: 0.6855516131760294 | Validation loss: 0.6863246227408402\n",
      "Epoch:          8 | Training loss: 0.6847502086334362 | Validation loss: 0.6856497754532915\n",
      "Epoch:          9 | Training loss: 0.683951963274769 | Validation loss: 0.6850338748343248\n",
      "Epoch:         10 | Training loss: 0.6831850117669579 | Validation loss: 0.6846160477298112\n",
      "Epoch:         11 | Training loss: 0.6824670167746544 | Validation loss: 0.683713508056332\n",
      "Epoch:         12 | Training loss: 0.6816166562034521 | Validation loss: 0.6832140454069995\n",
      "Epoch:         13 | Training loss: 0.680849843612442 | Validation loss: 0.6826842115615895\n",
      "Epoch:         14 | Training loss: 0.6801815567305437 | Validation loss: 0.6824005745459604\n",
      "Epoch:         15 | Training loss: 0.6793598244577707 | Validation loss: 0.6815775988602063\n",
      "\n",
      "Hyper Parameters -- Learning Rate - 5.62341325190349e-07  Regularization Parameter- 1e-06\n",
      "Epoch:          0 | Training loss: 0.6875404070696487 | Validation loss: 0.6880718502659505\n",
      "Epoch:          1 | Training loss: 0.6829362153623643 | Validation loss: 0.6843329130701133\n",
      "Epoch:          2 | Training loss: 0.6795681512922334 | Validation loss: 0.6826076228940033\n",
      "Epoch:          3 | Training loss: 0.6762240411512797 | Validation loss: 0.6784852302215958\n"
     ]
    },
    {
     "name": "stdout",
     "output_type": "stream",
     "text": [
      "\n",
      "Hyper Parameters -- Learning Rate - 5.62341325190349e-07  Regularization Parameter- 5.623413251903491e-06\n",
      "Epoch:          0 | Training loss: 0.6875404071057634 | Validation loss: 0.6880718503020578\n",
      "Epoch:          1 | Training loss: 0.682936215501301 | Validation loss: 0.6843329132090143\n",
      "Epoch:          2 | Training loss: 0.6795681515937906 | Validation loss: 0.6826076231954704\n",
      "Epoch:          3 | Training loss: 0.6762240416723949 | Validation loss: 0.6784852307425561\n",
      "\n",
      "Hyper Parameters -- Learning Rate - 5.62341325190349e-07  Regularization Parameter- 3.1622776601683795e-05\n",
      "Epoch:          0 | Training loss: 0.6875404073088509 | Validation loss: 0.6880718505051039\n",
      "Epoch:          1 | Training loss: 0.6829362162826 | Validation loss: 0.6843329139901126\n",
      "Epoch:          2 | Training loss: 0.6795681532895718 | Validation loss: 0.6826076248907443\n",
      "Epoch:          3 | Training loss: 0.6762240446028402 | Validation loss: 0.6784852336721312\n",
      "\n",
      "Hyper Parameters -- Learning Rate - 5.62341325190349e-07  Regularization Parameter- 0.00017782794100389227\n",
      "Epoch:          0 | Training loss: 0.6875404084508966 | Validation loss: 0.6880718516469164\n",
      "Epoch:          1 | Training loss: 0.682936220676167 | Validation loss: 0.6843329183825506\n",
      "Epoch:          2 | Training loss: 0.6795681628256498 | Validation loss: 0.6826076344239698\n",
      "Epoch:          3 | Training loss: 0.6762240610819458 | Validation loss: 0.6784852501463433\n",
      "\n",
      "Hyper Parameters -- Learning Rate - 5.62341325190349e-07  Regularization Parameter- 0.001\n",
      "Epoch:          0 | Training loss: 0.6875404148730905 | Validation loss: 0.6880718580678002\n",
      "Epoch:          1 | Training loss: 0.6829362453830097 | Validation loss: 0.6843329430830454\n",
      "Epoch:          2 | Training loss: 0.6795682164509576 | Validation loss: 0.6826076880332362\n",
      "Epoch:          3 | Training loss: 0.6762241537507653 | Validation loss: 0.6784853427876437\n",
      "\n",
      "Hyper Parameters -- Learning Rate - 3.162277660168379e-06  Regularization Parameter- 1e-06\n",
      "Epoch:          0 | Training loss: 0.6687105911319241 | Validation loss: 0.6732567688769214\n",
      "\n",
      "Hyper Parameters -- Learning Rate - 3.162277660168379e-06  Regularization Parameter- 5.623413251903491e-06\n",
      "Epoch:          0 | Training loss: 0.6687105921158331 | Validation loss: 0.6732567698605376\n",
      "\n",
      "Hyper Parameters -- Learning Rate - 3.162277660168379e-06  Regularization Parameter- 3.1622776601683795e-05\n",
      "Epoch:          0 | Training loss: 0.6687105976487596 | Validation loss: 0.6732567753918187\n",
      "\n",
      "Hyper Parameters -- Learning Rate - 3.162277660168379e-06  Regularization Parameter- 0.00017782794100389227\n",
      "Epoch:          0 | Training loss: 0.6687106287626918 | Validation loss: 0.6732568064964974\n",
      "\n",
      "Hyper Parameters -- Learning Rate - 3.162277660168379e-06  Regularization Parameter- 0.001\n",
      "Epoch:          0 | Training loss: 0.6687108037291882 | Validation loss: 0.673256981410957\n",
      "\n",
      "Hyper Parameters -- Learning Rate - 1.778279410038923e-05  Regularization Parameter- 1e-06\n",
      "Epoch:          0 | Training loss: 0.6075508561538746 | Validation loss: 0.6298189802843563\n",
      "Epoch:          1 | Training loss: 0.573287308157641 | Validation loss: 0.6085986392903506\n",
      "Epoch:          2 | Training loss: 0.5442197672010288 | Validation loss: 0.590417154802116\n",
      "\n",
      "Hyper Parameters -- Learning Rate - 1.778279410038923e-05  Regularization Parameter- 5.623413251903491e-06\n",
      "Epoch:          0 | Training loss: 0.6075508779133073 | Validation loss: 0.6298190020375813\n",
      "Epoch:          1 | Training loss: 0.5732873691426807 | Validation loss: 0.6085987002583816\n",
      "Epoch:          2 | Training loss: 0.5442198726087041 | Validation loss: 0.5904172601818682\n",
      "\n",
      "Hyper Parameters -- Learning Rate - 1.778279410038923e-05  Regularization Parameter- 3.1622776601683795e-05\n",
      "Epoch:          0 | Training loss: 0.6075510002755894 | Validation loss: 0.629819124364954\n",
      "Epoch:          1 | Training loss: 0.573287712086761 | Validation loss: 0.6085990431068139\n",
      "Epoch:          2 | Training loss: 0.5442204653596203 | Validation loss: 0.5904178527757616\n",
      "\n",
      "Hyper Parameters -- Learning Rate - 1.778279410038923e-05  Regularization Parameter- 0.00017782794100389227\n",
      "Epoch:          0 | Training loss: 0.6075516883692607 | Validation loss: 0.6298198122623159\n",
      "Epoch:          1 | Training loss: 0.5732896406030109 | Validation loss: 0.6086009710851961\n",
      "Epoch:          2 | Training loss: 0.5442237986429019 | Validation loss: 0.5904211851760399\n",
      "\n",
      "Hyper Parameters -- Learning Rate - 1.778279410038923e-05  Regularization Parameter- 0.001\n",
      "Epoch:          0 | Training loss: 0.6075555578040868 | Validation loss: 0.6298236805932138\n",
      "Epoch:          1 | Training loss: 0.5733004854457316 | Validation loss: 0.6086118129032656\n",
      "Epoch:          2 | Training loss: 0.5442425430698927 | Validation loss: 0.5904399246375394\n",
      "\n",
      "Hyper Parameters -- Learning Rate - 0.0001  Regularization Parameter- 1e-06\n",
      "Epoch:          0 | Training loss: 0.7187504184632367 | Validation loss: 0.8178784760098141\n",
      "Epoch:          1 | Training loss: 0.46459429474166736 | Validation loss: 0.5627547775663957\n",
      "Epoch:          2 | Training loss: 0.4102320275083679 | Validation loss: 0.5438768023962375\n",
      "\n",
      "Hyper Parameters -- Learning Rate - 0.0001  Regularization Parameter- 5.623413251903491e-06\n",
      "Epoch:          0 | Training loss: 0.7187510390189372 | Validation loss: 0.8178790967879026\n",
      "Epoch:          1 | Training loss: 0.4645955671472732 | Validation loss: 0.5627560496778525\n",
      "Epoch:          2 | Training loss: 0.4102339763897723 | Validation loss: 0.5438787507503511\n",
      "\n",
      "Hyper Parameters -- Learning Rate - 0.0001  Regularization Parameter- 3.1622776601683795e-05\n",
      "Epoch:          0 | Training loss: 0.7187545286600358 | Validation loss: 0.8178825876795679\n",
      "Epoch:          1 | Training loss: 0.4646027224097177 | Validation loss: 0.5627632032861737\n",
      "Epoch:          2 | Training loss: 0.410244935755087 | Validation loss: 0.5438897071504911\n",
      "\n",
      "Hyper Parameters -- Learning Rate - 0.0001  Regularization Parameter- 0.00017782794100389227\n",
      "Epoch:          0 | Training loss: 0.7187741523532082 | Validation loss: 0.8179022184051967\n",
      "Epoch:          1 | Training loss: 0.4646429594042212 | Validation loss: 0.5628034309788592\n",
      "Epoch:          2 | Training loss: 0.4103065647888421 | Validation loss: 0.5439513195098469\n",
      "\n",
      "Hyper Parameters -- Learning Rate - 0.0001  Regularization Parameter- 0.001\n",
      "Epoch:          0 | Training loss: 0.7188845044624522 | Validation loss: 0.8180126100607036\n",
      "Epoch:          1 | Training loss: 0.4648692285527607 | Validation loss: 0.563029647819462\n",
      "Epoch:          2 | Training loss: 0.41065313011197485 | Validation loss: 0.5442977910660111\n"
     ]
    }
   ],
   "source": [
    "#hyper paramater tuning for BOW-Count\n",
    "train_loss_history =[]\n",
    "validation_loss_history=[]\n",
    "hyperparam_history=[]\n",
    "#\n",
    "for lr_i in lr:\n",
    "    for alpha_i in alpha:\n",
    "        print('\\nHyper Parameters -- Learning Rate -',lr_i,' Regularization Parameter-',alpha_i)\n",
    "        weight, train_loss_count, dev_loss_count = SGD(X_tr=train_BOW_BOCN_count_vector,\n",
    "                                             Y_tr=train_labels_new,\n",
    "                                             X_dev=dev_BOW_BOCN_count_vector,\n",
    "                                             Y_dev=dev_labels_new,\n",
    "                                             lr=lr_i,\n",
    "                                             alpha=alpha_i,\n",
    "                                             tolerance=0.0001,\n",
    "                                             epochs=400,\n",
    "                                             print_progress=True)\n",
    "        if len(train_loss_count) > 5:\n",
    "            train_loss_history.append(train_loss_count[-1])\n",
    "            validation_loss_history.append(dev_loss_count[-1])\n",
    "            hyperparam_history.append([lr_i,alpha_i])\n",
    "     \n",
    "\n",
    "\n",
    "        "
   ]
  },
  {
   "cell_type": "code",
   "execution_count": 152,
   "metadata": {},
   "outputs": [
    {
     "name": "stdout",
     "output_type": "stream",
     "text": [
      "BOW-BOCN Count\n",
      "Best Training loss - 0.6672305745449177,best_validation_loss-0.6402276905337101,\n",
      "best_hyperparams-[4.6e-05, 1e-07]\n"
     ]
    }
   ],
   "source": [
    "#get the best hyper parameters\n",
    "temp = np.array(train_loss_history)\n",
    "train_loss_history_sortidx = np.argsort(temp)\n",
    "\n",
    "best_train_loss_BOW_BOCN = temp[train_loss_history_sortidx[0]]\n",
    "best_validation_loss_BOW_BOCN = validation_loss_history[train_loss_history_sortidx[0]]\n",
    "best_hyperparams_BOW_BOCN=hyperparam_history[train_loss_history_sortidx[0]]\n",
    "\n",
    "print(\"BOW-BOCN Count\")\n",
    "print(f'Best Training loss - {best_train_loss_BOCN_tfidf},best_validation_loss-{best_validation_loss_BOCN_tfidf},\\nbest_hyperparams-{best_hyperparams_BOCN_tfidf}')\n",
    "\n",
    "\n"
   ]
  },
  {
   "cell_type": "code",
   "execution_count": 153,
   "metadata": {
    "scrolled": true
   },
   "outputs": [
    {
     "name": "stdout",
     "output_type": "stream",
     "text": [
      "Epoch:          0 | Training loss: 0.6914988723371794 | Validation loss: 0.6910366921400016\n",
      "Epoch:          1 | Training loss: 0.6906433838251786 | Validation loss: 0.6901687257731097\n",
      "Epoch:          2 | Training loss: 0.6898480819482578 | Validation loss: 0.6899762427117031\n",
      "Epoch:          3 | Training loss: 0.6889836180180043 | Validation loss: 0.6887675108274282\n",
      "Epoch:          4 | Training loss: 0.6880862299850675 | Validation loss: 0.6885030132963333\n",
      "Epoch:          5 | Training loss: 0.6872352692115632 | Validation loss: 0.687810926729751\n",
      "Epoch:          6 | Training loss: 0.6864495400645508 | Validation loss: 0.6872754463998534\n",
      "Epoch:          7 | Training loss: 0.6855515977152251 | Validation loss: 0.6863246072840837\n",
      "Epoch:          8 | Training loss: 0.6847501892085522 | Validation loss: 0.6856497560338164\n",
      "Epoch:          9 | Training loss: 0.6839519394798088 | Validation loss: 0.6850338510460636\n",
      "Epoch:         10 | Training loss: 0.6831849832516707 | Validation loss: 0.6846160192225793\n",
      "Epoch:         11 | Training loss: 0.6824669829151961 | Validation loss: 0.683713474206681\n",
      "Epoch:         12 | Training loss: 0.6816166168220474 | Validation loss: 0.6832140060370623\n",
      "Epoch:         13 | Training loss: 0.6808497982559146 | Validation loss: 0.6826841662183735\n",
      "Epoch:         14 | Training loss: 0.680181505065827 | Validation loss: 0.682400522896496\n",
      "Epoch:         15 | Training loss: 0.6793597659850172 | Validation loss: 0.681577540404925\n",
      "Epoch:         16 | Training loss: 0.6788303406485361 | Validation loss: 0.6815098291993109\n",
      "Epoch:         17 | Training loss: 0.677904014957075 | Validation loss: 0.6803228785025351\n",
      "Epoch:         18 | Training loss: 0.6772225646321893 | Validation loss: 0.679711946813115\n"
     ]
    }
   ],
   "source": [
    "#train with best hyperparameters (BOW-BOCN)\n",
    "weight_c, train_loss_count_c, dev_loss_count_c = SGD(X_tr=train_BOW_BOCN_count_vector,\n",
    "                                             Y_tr=train_labels_new,\n",
    "                                             X_dev=dev_BOW_BOCN_count_vector,\n",
    "                                             Y_dev=dev_labels_new,\n",
    "                                             lr=best_hyperparams_BOW_BOCN[0],\n",
    "                                             alpha=best_hyperparams_BOW_BOCN[1],\n",
    "                                             tolerance=0.00001,\n",
    "                                             epochs=100,\n",
    "                                             print_progress=True)"
   ]
  },
  {
   "cell_type": "code",
   "execution_count": 154,
   "metadata": {},
   "outputs": [
    {
     "data": {
      "image/png": "[encoded data removed]",
      "text/plain": [
       "<Figure size 432x288 with 1 Axes>"
      ]
     },
     "metadata": {
      "needs_background": "light"
     },
     "output_type": "display_data"
    }
   ],
   "source": [
    "plt.plot(train_loss_count_c, label='Training loss')\n",
    "plt.plot(dev_loss_count_c, label='Validation loss')\n",
    "\n",
    "plt.xlabel('Epochs')\n",
    "plt.ylabel('Loss')\n",
    "\n",
    "plt.title('Training loss vs Validation loss (BOCN-Count)')\n",
    "\n",
    "plt.legend()\n",
    "\n",
    "plt.show()"
   ]
  },
  {
   "cell_type": "code",
   "execution_count": 155,
   "metadata": {
    "scrolled": true
   },
   "outputs": [
    {
     "name": "stdout",
     "output_type": "stream",
     "text": [
      "Accuracy: 0.6275\n",
      "Precision: 0.580952380952381\n",
      "Recall: 0.915\n",
      "F1-Score: 0.7106796116504853\n"
     ]
    }
   ],
   "source": [
    "preds_te_count = predict_class(test_BOW_BOCN_count_vector, weight_c)\n",
    "print('Accuracy:', accuracy_score(test_labels_new,preds_te_count))\n",
    "print('Precision:', precision_score(test_labels_new,preds_te_count))\n",
    "print('Recall:', recall_score(test_labels_new,preds_te_count))\n",
    "print('F1-Score:', f1_score(test_labels_new,preds_te_count))"
   ]
  },
  {
   "cell_type": "markdown",
   "metadata": {},
   "source": [
    "\n",
    "\n",
    "## Full Results\n",
    "\n",
    "Add here your results:\n",
    "\n",
    "| LR | Precision  | Recall  | F1-Score  |\n",
    "|:-:|:-:|:-:|:-:|\n",
    "| BOW-count  | 0.8349  | 0.834  | 0.8472  |\n",
    "| BOW-tfidf  | 0.8585  | 0.85  |  0.8542 |\n",
    "| BOCN-count  | 0.6775  | 0.935  | 0.7857  |\n",
    "| BOCN-tfidf  |0.5941   |0.965  |  0.7391 |\n",
    "| BOW+BOCN  | 0.5809  | 0.915  | 0.7106  |\n",
    "\n",
    "Please discuss why your best performing model is better than the rest."
   ]
  },
  {
   "cell_type": "markdown",
   "metadata": {},
   "source": [
    "#### Based on the observations, BOW-tfidf is the best performing model out of all the models trained. The precision score is 0.8585 = 85.85% and Recall is 0.85. \n",
    "\n",
    "#### The model's performance is better than the other models because it is trained on ngrams model (unigram,bigram,trigram) with TFIDF weighting. we know that TFIDF performs better than raw frequencies in most of the cases. The BOCN models (count and TFIDF) worse than the BOW models. The BOW+BOCN(raw) model has the worst precision among the models. On contrary, BOW-TFIDF has the highest precision.\n",
    "\n"
   ]
  }
 ],
 "metadata": {
  "kernelspec": {
   "display_name": "Python 3",
   "language": "python",
   "name": "python3"
  },
  "language_info": {
   "codemirror_mode": {
    "name": "ipython",
    "version": 3
   },
   "file_extension": ".py",
   "mimetype": "text/x-python",
   "name": "python",
   "nbconvert_exporter": "python",
   "pygments_lexer": "ipython3",
   "version": "3.8.8"
  }
 },
 "nbformat": 4,
 "nbformat_minor": 2
}
